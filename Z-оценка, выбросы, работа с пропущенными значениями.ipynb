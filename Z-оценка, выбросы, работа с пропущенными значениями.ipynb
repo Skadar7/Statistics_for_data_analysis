{
 "cells": [
  {
   "cell_type": "code",
   "execution_count": 9,
   "id": "97a2213e",
   "metadata": {},
   "outputs": [
    {
     "data": {
      "text/html": [
       "<div>\n",
       "<style scoped>\n",
       "    .dataframe tbody tr th:only-of-type {\n",
       "        vertical-align: middle;\n",
       "    }\n",
       "\n",
       "    .dataframe tbody tr th {\n",
       "        vertical-align: top;\n",
       "    }\n",
       "\n",
       "    .dataframe thead th {\n",
       "        text-align: right;\n",
       "    }\n",
       "</style>\n",
       "<table border=\"1\" class=\"dataframe\">\n",
       "  <thead>\n",
       "    <tr style=\"text-align: right;\">\n",
       "      <th></th>\n",
       "      <th>Id</th>\n",
       "      <th>Exam</th>\n",
       "      <th>Score</th>\n",
       "      <th>Advanced</th>\n",
       "    </tr>\n",
       "  </thead>\n",
       "  <tbody>\n",
       "    <tr>\n",
       "      <th>0</th>\n",
       "      <td>ID1</td>\n",
       "      <td>TOEFL</td>\n",
       "      <td>77.0</td>\n",
       "      <td>NO</td>\n",
       "    </tr>\n",
       "    <tr>\n",
       "      <th>1</th>\n",
       "      <td>ID10</td>\n",
       "      <td>TOEFL</td>\n",
       "      <td>105.0</td>\n",
       "      <td>NO</td>\n",
       "    </tr>\n",
       "    <tr>\n",
       "      <th>2</th>\n",
       "      <td>ID100</td>\n",
       "      <td>TOEFL</td>\n",
       "      <td>107.0</td>\n",
       "      <td>YES</td>\n",
       "    </tr>\n",
       "    <tr>\n",
       "      <th>3</th>\n",
       "      <td>ID101</td>\n",
       "      <td>TOEFL</td>\n",
       "      <td>72.0</td>\n",
       "      <td>NO</td>\n",
       "    </tr>\n",
       "    <tr>\n",
       "      <th>4</th>\n",
       "      <td>ID102</td>\n",
       "      <td>TOEFL</td>\n",
       "      <td>120.0</td>\n",
       "      <td>YES</td>\n",
       "    </tr>\n",
       "    <tr>\n",
       "      <th>...</th>\n",
       "      <td>...</td>\n",
       "      <td>...</td>\n",
       "      <td>...</td>\n",
       "      <td>...</td>\n",
       "    </tr>\n",
       "    <tr>\n",
       "      <th>249</th>\n",
       "      <td>ID77</td>\n",
       "      <td>TOEFL</td>\n",
       "      <td>118.0</td>\n",
       "      <td>YES</td>\n",
       "    </tr>\n",
       "    <tr>\n",
       "      <th>250</th>\n",
       "      <td>ID78</td>\n",
       "      <td>TOEFL</td>\n",
       "      <td>114.0</td>\n",
       "      <td>YES</td>\n",
       "    </tr>\n",
       "    <tr>\n",
       "      <th>251</th>\n",
       "      <td>ID79</td>\n",
       "      <td>TOEFL</td>\n",
       "      <td>83.0</td>\n",
       "      <td>YES</td>\n",
       "    </tr>\n",
       "    <tr>\n",
       "      <th>252</th>\n",
       "      <td>ID8</td>\n",
       "      <td>TOEFL</td>\n",
       "      <td>87.0</td>\n",
       "      <td>NO</td>\n",
       "    </tr>\n",
       "    <tr>\n",
       "      <th>253</th>\n",
       "      <td>ID80</td>\n",
       "      <td>TOEFL</td>\n",
       "      <td>113.0</td>\n",
       "      <td>YES</td>\n",
       "    </tr>\n",
       "  </tbody>\n",
       "</table>\n",
       "<p>254 rows × 4 columns</p>\n",
       "</div>"
      ],
      "text/plain": [
       "        Id   Exam  Score Advanced\n",
       "0      ID1  TOEFL   77.0       NO\n",
       "1     ID10  TOEFL  105.0       NO\n",
       "2    ID100  TOEFL  107.0      YES\n",
       "3    ID101  TOEFL   72.0       NO\n",
       "4    ID102  TOEFL  120.0      YES\n",
       "..     ...    ...    ...      ...\n",
       "249   ID77  TOEFL  118.0      YES\n",
       "250   ID78  TOEFL  114.0      YES\n",
       "251   ID79  TOEFL   83.0      YES\n",
       "252    ID8  TOEFL   87.0       NO\n",
       "253   ID80  TOEFL  113.0      YES\n",
       "\n",
       "[254 rows x 4 columns]"
      ]
     },
     "execution_count": 9,
     "metadata": {},
     "output_type": "execute_result"
    }
   ],
   "source": [
    "import pandas as pd\n",
    "import scipy.stats\n",
    "\n",
    "eng = pd.read_csv('../Downloads/eng_test.csv', sep=';')\n",
    "eng.head()"
   ]
  },
  {
   "cell_type": "code",
   "execution_count": 4,
   "id": "30a6d1b9",
   "metadata": {},
   "outputs": [
    {
     "data": {
      "image/png": "[encoded data removed]",
      "text/plain": [
       "<Figure size 432x288 with 1 Axes>"
      ]
     },
     "metadata": {
      "needs_background": "light"
     },
     "output_type": "display_data"
    }
   ],
   "source": [
    "eng['Score'].hist(bins=100);"
   ]
  },
  {
   "cell_type": "code",
   "execution_count": 10,
   "id": "f801b93a",
   "metadata": {},
   "outputs": [
    {
     "data": {
      "image/png": "[encoded data removed]",
      "text/plain": [
       "<Figure size 432x288 with 1 Axes>"
      ]
     },
     "metadata": {
      "needs_background": "light"
     },
     "output_type": "display_data"
    }
   ],
   "source": [
    "toefl = eng[eng['Exam'] == 'TOEFL']\n",
    "toefl['Score'].hist();"
   ]
  },
  {
   "cell_type": "code",
   "execution_count": 12,
   "id": "97a36a0f",
   "metadata": {},
   "outputs": [
    {
     "data": {
      "image/png": "[encoded data removed]",
      "text/plain": [
       "<Figure size 432x288 with 1 Axes>"
      ]
     },
     "metadata": {
      "needs_background": "light"
     },
     "output_type": "display_data"
    }
   ],
   "source": [
    "ielts = eng[eng['Exam'] == 'IELTS']\n",
    "ielts['Score'].hist();"
   ]
  },
  {
   "cell_type": "code",
   "execution_count": 13,
   "id": "f962abd1",
   "metadata": {},
   "outputs": [
    {
     "name": "stdout",
     "output_type": "stream",
     "text": [
      "77.0 93.776 17.83204486311091\n"
     ]
    }
   ],
   "source": [
    "# Сначала делаем руками\n",
    "X = toefl['Score'][0]\n",
    "mean = toefl['Score'].mean()\n",
    "std = toefl['Score'].std(ddof=0)\n",
    "print(X, mean, std)"
   ]
  },
  {
   "cell_type": "code",
   "execution_count": 15,
   "id": "394a3cbd",
   "metadata": {},
   "outputs": [
    {
     "data": {
      "text/plain": [
       "-0.9407782522297513"
      ]
     },
     "execution_count": 15,
     "metadata": {},
     "output_type": "execute_result"
    }
   ],
   "source": [
    "z_score = (X - mean)/std\n",
    "z_score"
   ]
  },
  {
   "cell_type": "code",
   "execution_count": 19,
   "id": "63864ec4",
   "metadata": {},
   "outputs": [
    {
     "name": "stdout",
     "output_type": "stream",
     "text": [
      "120\n"
     ]
    }
   ],
   "source": [
    "z_new = 1.4706109\n",
    "X_new = mean + z_new * std\n",
    "print(round(X_new))"
   ]
  },
  {
   "cell_type": "code",
   "execution_count": 25,
   "id": "a5f40c42",
   "metadata": {},
   "outputs": [
    {
     "name": "stderr",
     "output_type": "stream",
     "text": [
      "C:\\Users\\Professional\\AppData\\Local\\Temp\\ipykernel_360\\203102930.py:1: SettingWithCopyWarning: \n",
      "A value is trying to be set on a copy of a slice from a DataFrame.\n",
      "Try using .loc[row_indexer,col_indexer] = value instead\n",
      "\n",
      "See the caveats in the documentation: https://pandas.pydata.org/pandas-docs/stable/user_guide/indexing.html#returning-a-view-versus-a-copy\n",
      "  toefl['Z_score'] = scipy.stats.zscore(toefl['Score'])\n"
     ]
    },
    {
     "data": {
      "text/html": [
       "<div>\n",
       "<style scoped>\n",
       "    .dataframe tbody tr th:only-of-type {\n",
       "        vertical-align: middle;\n",
       "    }\n",
       "\n",
       "    .dataframe tbody tr th {\n",
       "        vertical-align: top;\n",
       "    }\n",
       "\n",
       "    .dataframe thead th {\n",
       "        text-align: right;\n",
       "    }\n",
       "</style>\n",
       "<table border=\"1\" class=\"dataframe\">\n",
       "  <thead>\n",
       "    <tr style=\"text-align: right;\">\n",
       "      <th></th>\n",
       "      <th>Id</th>\n",
       "      <th>Exam</th>\n",
       "      <th>Score</th>\n",
       "      <th>Advanced</th>\n",
       "      <th>Z_score</th>\n",
       "    </tr>\n",
       "  </thead>\n",
       "  <tbody>\n",
       "    <tr>\n",
       "      <th>0</th>\n",
       "      <td>ID1</td>\n",
       "      <td>TOEFL</td>\n",
       "      <td>77.0</td>\n",
       "      <td>NO</td>\n",
       "      <td>-0.940778</td>\n",
       "    </tr>\n",
       "    <tr>\n",
       "      <th>1</th>\n",
       "      <td>ID10</td>\n",
       "      <td>TOEFL</td>\n",
       "      <td>105.0</td>\n",
       "      <td>NO</td>\n",
       "      <td>0.629429</td>\n",
       "    </tr>\n",
       "    <tr>\n",
       "      <th>2</th>\n",
       "      <td>ID100</td>\n",
       "      <td>TOEFL</td>\n",
       "      <td>107.0</td>\n",
       "      <td>YES</td>\n",
       "      <td>0.741586</td>\n",
       "    </tr>\n",
       "    <tr>\n",
       "      <th>3</th>\n",
       "      <td>ID101</td>\n",
       "      <td>TOEFL</td>\n",
       "      <td>72.0</td>\n",
       "      <td>NO</td>\n",
       "      <td>-1.221172</td>\n",
       "    </tr>\n",
       "    <tr>\n",
       "      <th>4</th>\n",
       "      <td>ID102</td>\n",
       "      <td>TOEFL</td>\n",
       "      <td>120.0</td>\n",
       "      <td>YES</td>\n",
       "      <td>1.470611</td>\n",
       "    </tr>\n",
       "    <tr>\n",
       "      <th>...</th>\n",
       "      <td>...</td>\n",
       "      <td>...</td>\n",
       "      <td>...</td>\n",
       "      <td>...</td>\n",
       "      <td>...</td>\n",
       "    </tr>\n",
       "    <tr>\n",
       "      <th>269</th>\n",
       "      <td>ID95</td>\n",
       "      <td>TOEFL</td>\n",
       "      <td>88.0</td>\n",
       "      <td>YES</td>\n",
       "      <td>-0.323911</td>\n",
       "    </tr>\n",
       "    <tr>\n",
       "      <th>270</th>\n",
       "      <td>ID96</td>\n",
       "      <td>TOEFL</td>\n",
       "      <td>90.0</td>\n",
       "      <td>YES</td>\n",
       "      <td>-0.211754</td>\n",
       "    </tr>\n",
       "    <tr>\n",
       "      <th>271</th>\n",
       "      <td>ID97</td>\n",
       "      <td>TOEFL</td>\n",
       "      <td>90.0</td>\n",
       "      <td>YES</td>\n",
       "      <td>-0.211754</td>\n",
       "    </tr>\n",
       "    <tr>\n",
       "      <th>272</th>\n",
       "      <td>ID98</td>\n",
       "      <td>TOEFL</td>\n",
       "      <td>54.0</td>\n",
       "      <td>NO</td>\n",
       "      <td>-2.230591</td>\n",
       "    </tr>\n",
       "    <tr>\n",
       "      <th>273</th>\n",
       "      <td>ID99</td>\n",
       "      <td>TOEFL</td>\n",
       "      <td>106.0</td>\n",
       "      <td>NO</td>\n",
       "      <td>0.685507</td>\n",
       "    </tr>\n",
       "  </tbody>\n",
       "</table>\n",
       "<p>125 rows × 5 columns</p>\n",
       "</div>"
      ],
      "text/plain": [
       "        Id   Exam  Score Advanced   Z_score\n",
       "0      ID1  TOEFL   77.0       NO -0.940778\n",
       "1     ID10  TOEFL  105.0       NO  0.629429\n",
       "2    ID100  TOEFL  107.0      YES  0.741586\n",
       "3    ID101  TOEFL   72.0       NO -1.221172\n",
       "4    ID102  TOEFL  120.0      YES  1.470611\n",
       "..     ...    ...    ...      ...       ...\n",
       "269   ID95  TOEFL   88.0      YES -0.323911\n",
       "270   ID96  TOEFL   90.0      YES -0.211754\n",
       "271   ID97  TOEFL   90.0      YES -0.211754\n",
       "272   ID98  TOEFL   54.0       NO -2.230591\n",
       "273   ID99  TOEFL  106.0       NO  0.685507\n",
       "\n",
       "[125 rows x 5 columns]"
      ]
     },
     "execution_count": 25,
     "metadata": {},
     "output_type": "execute_result"
    }
   ],
   "source": [
    "toefl['Z_score'] = scipy.stats.zscore(toefl['Score'])\n",
    "toefl"
   ]
  },
  {
   "cell_type": "code",
   "execution_count": 24,
   "id": "d5f2de71",
   "metadata": {},
   "outputs": [
    {
     "name": "stderr",
     "output_type": "stream",
     "text": [
      "C:\\Users\\Professional\\AppData\\Local\\Temp\\ipykernel_360\\3495837452.py:1: SettingWithCopyWarning: \n",
      "A value is trying to be set on a copy of a slice from a DataFrame.\n",
      "Try using .loc[row_indexer,col_indexer] = value instead\n",
      "\n",
      "See the caveats in the documentation: https://pandas.pydata.org/pandas-docs/stable/user_guide/indexing.html#returning-a-view-versus-a-copy\n",
      "  ielts['Z_score'] = scipy.stats.zscore(ielts['Score'])\n"
     ]
    },
    {
     "data": {
      "text/html": [
       "<div>\n",
       "<style scoped>\n",
       "    .dataframe tbody tr th:only-of-type {\n",
       "        vertical-align: middle;\n",
       "    }\n",
       "\n",
       "    .dataframe tbody tr th {\n",
       "        vertical-align: top;\n",
       "    }\n",
       "\n",
       "    .dataframe thead th {\n",
       "        text-align: right;\n",
       "    }\n",
       "</style>\n",
       "<table border=\"1\" class=\"dataframe\">\n",
       "  <thead>\n",
       "    <tr style=\"text-align: right;\">\n",
       "      <th></th>\n",
       "      <th>Id</th>\n",
       "      <th>Exam</th>\n",
       "      <th>Score</th>\n",
       "      <th>Advanced</th>\n",
       "      <th>Z_score</th>\n",
       "    </tr>\n",
       "  </thead>\n",
       "  <tbody>\n",
       "    <tr>\n",
       "      <th>30</th>\n",
       "      <td>ID126</td>\n",
       "      <td>IELTS</td>\n",
       "      <td>9.0</td>\n",
       "      <td>YES</td>\n",
       "      <td>1.639443</td>\n",
       "    </tr>\n",
       "    <tr>\n",
       "      <th>31</th>\n",
       "      <td>ID127</td>\n",
       "      <td>IELTS</td>\n",
       "      <td>5.0</td>\n",
       "      <td>NO</td>\n",
       "      <td>-0.915088</td>\n",
       "    </tr>\n",
       "    <tr>\n",
       "      <th>32</th>\n",
       "      <td>ID128</td>\n",
       "      <td>IELTS</td>\n",
       "      <td>7.5</td>\n",
       "      <td>YES</td>\n",
       "      <td>0.681494</td>\n",
       "    </tr>\n",
       "    <tr>\n",
       "      <th>33</th>\n",
       "      <td>ID129</td>\n",
       "      <td>IELTS</td>\n",
       "      <td>5.0</td>\n",
       "      <td>NO</td>\n",
       "      <td>-0.915088</td>\n",
       "    </tr>\n",
       "    <tr>\n",
       "      <th>35</th>\n",
       "      <td>ID130</td>\n",
       "      <td>IELTS</td>\n",
       "      <td>4.0</td>\n",
       "      <td>NO</td>\n",
       "      <td>-1.553720</td>\n",
       "    </tr>\n",
       "    <tr>\n",
       "      <th>...</th>\n",
       "      <td>...</td>\n",
       "      <td>...</td>\n",
       "      <td>...</td>\n",
       "      <td>...</td>\n",
       "      <td>...</td>\n",
       "    </tr>\n",
       "    <tr>\n",
       "      <th>190</th>\n",
       "      <td>ID270</td>\n",
       "      <td>IELTS</td>\n",
       "      <td>8.0</td>\n",
       "      <td>YES</td>\n",
       "      <td>1.000810</td>\n",
       "    </tr>\n",
       "    <tr>\n",
       "      <th>191</th>\n",
       "      <td>ID271</td>\n",
       "      <td>IELTS</td>\n",
       "      <td>6.5</td>\n",
       "      <td>NO</td>\n",
       "      <td>0.042861</td>\n",
       "    </tr>\n",
       "    <tr>\n",
       "      <th>192</th>\n",
       "      <td>ID272</td>\n",
       "      <td>IELTS</td>\n",
       "      <td>4.0</td>\n",
       "      <td>NO</td>\n",
       "      <td>-1.553720</td>\n",
       "    </tr>\n",
       "    <tr>\n",
       "      <th>193</th>\n",
       "      <td>ID273</td>\n",
       "      <td>IELTS</td>\n",
       "      <td>7.0</td>\n",
       "      <td>YES</td>\n",
       "      <td>0.362178</td>\n",
       "    </tr>\n",
       "    <tr>\n",
       "      <th>194</th>\n",
       "      <td>ID274</td>\n",
       "      <td>IELTS</td>\n",
       "      <td>8.0</td>\n",
       "      <td>YES</td>\n",
       "      <td>1.000810</td>\n",
       "    </tr>\n",
       "  </tbody>\n",
       "</table>\n",
       "<p>149 rows × 5 columns</p>\n",
       "</div>"
      ],
      "text/plain": [
       "        Id   Exam  Score Advanced   Z_score\n",
       "30   ID126  IELTS    9.0      YES  1.639443\n",
       "31   ID127  IELTS    5.0       NO -0.915088\n",
       "32   ID128  IELTS    7.5      YES  0.681494\n",
       "33   ID129  IELTS    5.0       NO -0.915088\n",
       "35   ID130  IELTS    4.0       NO -1.553720\n",
       "..     ...    ...    ...      ...       ...\n",
       "190  ID270  IELTS    8.0      YES  1.000810\n",
       "191  ID271  IELTS    6.5       NO  0.042861\n",
       "192  ID272  IELTS    4.0       NO -1.553720\n",
       "193  ID273  IELTS    7.0      YES  0.362178\n",
       "194  ID274  IELTS    8.0      YES  1.000810\n",
       "\n",
       "[149 rows x 5 columns]"
      ]
     },
     "execution_count": 24,
     "metadata": {},
     "output_type": "execute_result"
    }
   ],
   "source": [
    "ielts['Z_score'] = scipy.stats.zscore(ielts['Score'])\n",
    "ielts"
   ]
  },
  {
   "cell_type": "code",
   "execution_count": 26,
   "id": "e59ef771",
   "metadata": {},
   "outputs": [
    {
     "data": {
      "text/html": [
       "<div>\n",
       "<style scoped>\n",
       "    .dataframe tbody tr th:only-of-type {\n",
       "        vertical-align: middle;\n",
       "    }\n",
       "\n",
       "    .dataframe tbody tr th {\n",
       "        vertical-align: top;\n",
       "    }\n",
       "\n",
       "    .dataframe thead th {\n",
       "        text-align: right;\n",
       "    }\n",
       "</style>\n",
       "<table border=\"1\" class=\"dataframe\">\n",
       "  <thead>\n",
       "    <tr style=\"text-align: right;\">\n",
       "      <th></th>\n",
       "      <th>Id</th>\n",
       "      <th>Exam</th>\n",
       "      <th>Score</th>\n",
       "      <th>Advanced</th>\n",
       "      <th>Z_score</th>\n",
       "    </tr>\n",
       "  </thead>\n",
       "  <tbody>\n",
       "    <tr>\n",
       "      <th>0</th>\n",
       "      <td>ID1</td>\n",
       "      <td>TOEFL</td>\n",
       "      <td>77.0</td>\n",
       "      <td>NO</td>\n",
       "      <td>-0.940778</td>\n",
       "    </tr>\n",
       "    <tr>\n",
       "      <th>1</th>\n",
       "      <td>ID10</td>\n",
       "      <td>TOEFL</td>\n",
       "      <td>105.0</td>\n",
       "      <td>NO</td>\n",
       "      <td>0.629429</td>\n",
       "    </tr>\n",
       "    <tr>\n",
       "      <th>2</th>\n",
       "      <td>ID100</td>\n",
       "      <td>TOEFL</td>\n",
       "      <td>107.0</td>\n",
       "      <td>YES</td>\n",
       "      <td>0.741586</td>\n",
       "    </tr>\n",
       "    <tr>\n",
       "      <th>3</th>\n",
       "      <td>ID101</td>\n",
       "      <td>TOEFL</td>\n",
       "      <td>72.0</td>\n",
       "      <td>NO</td>\n",
       "      <td>-1.221172</td>\n",
       "    </tr>\n",
       "    <tr>\n",
       "      <th>4</th>\n",
       "      <td>ID102</td>\n",
       "      <td>TOEFL</td>\n",
       "      <td>120.0</td>\n",
       "      <td>YES</td>\n",
       "      <td>1.470611</td>\n",
       "    </tr>\n",
       "    <tr>\n",
       "      <th>...</th>\n",
       "      <td>...</td>\n",
       "      <td>...</td>\n",
       "      <td>...</td>\n",
       "      <td>...</td>\n",
       "      <td>...</td>\n",
       "    </tr>\n",
       "    <tr>\n",
       "      <th>190</th>\n",
       "      <td>ID270</td>\n",
       "      <td>IELTS</td>\n",
       "      <td>8.0</td>\n",
       "      <td>YES</td>\n",
       "      <td>1.000810</td>\n",
       "    </tr>\n",
       "    <tr>\n",
       "      <th>191</th>\n",
       "      <td>ID271</td>\n",
       "      <td>IELTS</td>\n",
       "      <td>6.5</td>\n",
       "      <td>NO</td>\n",
       "      <td>0.042861</td>\n",
       "    </tr>\n",
       "    <tr>\n",
       "      <th>192</th>\n",
       "      <td>ID272</td>\n",
       "      <td>IELTS</td>\n",
       "      <td>4.0</td>\n",
       "      <td>NO</td>\n",
       "      <td>-1.553720</td>\n",
       "    </tr>\n",
       "    <tr>\n",
       "      <th>193</th>\n",
       "      <td>ID273</td>\n",
       "      <td>IELTS</td>\n",
       "      <td>7.0</td>\n",
       "      <td>YES</td>\n",
       "      <td>0.362178</td>\n",
       "    </tr>\n",
       "    <tr>\n",
       "      <th>194</th>\n",
       "      <td>ID274</td>\n",
       "      <td>IELTS</td>\n",
       "      <td>8.0</td>\n",
       "      <td>YES</td>\n",
       "      <td>1.000810</td>\n",
       "    </tr>\n",
       "  </tbody>\n",
       "</table>\n",
       "<p>274 rows × 5 columns</p>\n",
       "</div>"
      ],
      "text/plain": [
       "        Id   Exam  Score Advanced   Z_score\n",
       "0      ID1  TOEFL   77.0       NO -0.940778\n",
       "1     ID10  TOEFL  105.0       NO  0.629429\n",
       "2    ID100  TOEFL  107.0      YES  0.741586\n",
       "3    ID101  TOEFL   72.0       NO -1.221172\n",
       "4    ID102  TOEFL  120.0      YES  1.470611\n",
       "..     ...    ...    ...      ...       ...\n",
       "190  ID270  IELTS    8.0      YES  1.000810\n",
       "191  ID271  IELTS    6.5       NO  0.042861\n",
       "192  ID272  IELTS    4.0       NO -1.553720\n",
       "193  ID273  IELTS    7.0      YES  0.362178\n",
       "194  ID274  IELTS    8.0      YES  1.000810\n",
       "\n",
       "[274 rows x 5 columns]"
      ]
     },
     "execution_count": 26,
     "metadata": {},
     "output_type": "execute_result"
    }
   ],
   "source": [
    "eng_new = pd.concat([toefl, ielts])\n",
    "eng_new"
   ]
  },
  {
   "cell_type": "code",
   "execution_count": 28,
   "id": "7ce71b1c",
   "metadata": {},
   "outputs": [
    {
     "data": {
      "image/png": "[encoded data removed]",
      "text/plain": [
       "<Figure size 432x288 with 1 Axes>"
      ]
     },
     "metadata": {
      "needs_background": "light"
     },
     "output_type": "display_data"
    }
   ],
   "source": [
    "eng_new['Z_score'].hist();"
   ]
  },
  {
   "cell_type": "code",
   "execution_count": 29,
   "id": "1e9649b7",
   "metadata": {},
   "outputs": [
    {
     "data": {
      "text/html": [
       "<div>\n",
       "<style scoped>\n",
       "    .dataframe tbody tr th:only-of-type {\n",
       "        vertical-align: middle;\n",
       "    }\n",
       "\n",
       "    .dataframe tbody tr th {\n",
       "        vertical-align: top;\n",
       "    }\n",
       "\n",
       "    .dataframe thead th {\n",
       "        text-align: right;\n",
       "    }\n",
       "</style>\n",
       "<table border=\"1\" class=\"dataframe\">\n",
       "  <thead>\n",
       "    <tr style=\"text-align: right;\">\n",
       "      <th></th>\n",
       "      <th>Id</th>\n",
       "      <th>Exam</th>\n",
       "      <th>Score</th>\n",
       "      <th>Advanced</th>\n",
       "      <th>Z_score</th>\n",
       "    </tr>\n",
       "  </thead>\n",
       "  <tbody>\n",
       "    <tr>\n",
       "      <th>25</th>\n",
       "      <td>ID121</td>\n",
       "      <td>TOEFL</td>\n",
       "      <td>32.0</td>\n",
       "      <td>NO</td>\n",
       "      <td>-3.464325</td>\n",
       "    </tr>\n",
       "    <tr>\n",
       "      <th>27</th>\n",
       "      <td>ID123</td>\n",
       "      <td>TOEFL</td>\n",
       "      <td>25.0</td>\n",
       "      <td>YES</td>\n",
       "      <td>-3.856877</td>\n",
       "    </tr>\n",
       "  </tbody>\n",
       "</table>\n",
       "</div>"
      ],
      "text/plain": [
       "       Id   Exam  Score Advanced   Z_score\n",
       "25  ID121  TOEFL   32.0       NO -3.464325\n",
       "27  ID123  TOEFL   25.0      YES -3.856877"
      ]
     },
     "execution_count": 29,
     "metadata": {},
     "output_type": "execute_result"
    }
   ],
   "source": [
    "eng_new[eng_new['Z_score'] < -3]"
   ]
  },
  {
   "cell_type": "code",
   "execution_count": 30,
   "id": "a06bea6e",
   "metadata": {},
   "outputs": [
    {
     "data": {
      "text/plain": [
       "Advanced\n",
       "NO    -0.397672\n",
       "YES    0.440499\n",
       "Name: Z_score, dtype: float64"
      ]
     },
     "execution_count": 30,
     "metadata": {},
     "output_type": "execute_result"
    }
   ],
   "source": [
    "eng_new.groupby('Advanced')['Z_score'].mean()"
   ]
  },
  {
   "cell_type": "code",
   "execution_count": 32,
   "id": "c1190a2d",
   "metadata": {},
   "outputs": [
    {
     "data": {
      "text/html": [
       "<div>\n",
       "<style scoped>\n",
       "    .dataframe tbody tr th:only-of-type {\n",
       "        vertical-align: middle;\n",
       "    }\n",
       "\n",
       "    .dataframe tbody tr th {\n",
       "        vertical-align: top;\n",
       "    }\n",
       "\n",
       "    .dataframe thead th {\n",
       "        text-align: right;\n",
       "    }\n",
       "</style>\n",
       "<table border=\"1\" class=\"dataframe\">\n",
       "  <thead>\n",
       "    <tr style=\"text-align: right;\">\n",
       "      <th></th>\n",
       "      <th>Date</th>\n",
       "      <th>Hour</th>\n",
       "      <th>Temperature</th>\n",
       "      <th>Humidity</th>\n",
       "      <th>Wind speed</th>\n",
       "      <th>Rainfall</th>\n",
       "      <th>Snowfall</th>\n",
       "      <th>Seasons</th>\n",
       "      <th>Holiday</th>\n",
       "      <th>Functioning Day</th>\n",
       "      <th>Rental Count</th>\n",
       "      <th>Normal Humidity</th>\n",
       "      <th>Temperature Category</th>\n",
       "      <th>Good Weather</th>\n",
       "    </tr>\n",
       "  </thead>\n",
       "  <tbody>\n",
       "    <tr>\n",
       "      <th>0</th>\n",
       "      <td>2017-12-01</td>\n",
       "      <td>0</td>\n",
       "      <td>-5.2</td>\n",
       "      <td>37</td>\n",
       "      <td>2.2</td>\n",
       "      <td>0.0</td>\n",
       "      <td>0.0</td>\n",
       "      <td>Winter</td>\n",
       "      <td>0</td>\n",
       "      <td>True</td>\n",
       "      <td>257</td>\n",
       "      <td>0</td>\n",
       "      <td>Freezing</td>\n",
       "      <td>0</td>\n",
       "    </tr>\n",
       "    <tr>\n",
       "      <th>1</th>\n",
       "      <td>2017-12-01</td>\n",
       "      <td>1</td>\n",
       "      <td>-5.5</td>\n",
       "      <td>38</td>\n",
       "      <td>0.8</td>\n",
       "      <td>0.0</td>\n",
       "      <td>0.0</td>\n",
       "      <td>Winter</td>\n",
       "      <td>0</td>\n",
       "      <td>True</td>\n",
       "      <td>219</td>\n",
       "      <td>0</td>\n",
       "      <td>Freezing</td>\n",
       "      <td>0</td>\n",
       "    </tr>\n",
       "    <tr>\n",
       "      <th>2</th>\n",
       "      <td>2017-12-01</td>\n",
       "      <td>2</td>\n",
       "      <td>-6.0</td>\n",
       "      <td>39</td>\n",
       "      <td>1.0</td>\n",
       "      <td>0.0</td>\n",
       "      <td>0.0</td>\n",
       "      <td>Winter</td>\n",
       "      <td>0</td>\n",
       "      <td>True</td>\n",
       "      <td>162</td>\n",
       "      <td>0</td>\n",
       "      <td>Freezing</td>\n",
       "      <td>0</td>\n",
       "    </tr>\n",
       "    <tr>\n",
       "      <th>3</th>\n",
       "      <td>2017-12-01</td>\n",
       "      <td>3</td>\n",
       "      <td>-6.2</td>\n",
       "      <td>40</td>\n",
       "      <td>0.9</td>\n",
       "      <td>0.0</td>\n",
       "      <td>0.0</td>\n",
       "      <td>Winter</td>\n",
       "      <td>0</td>\n",
       "      <td>True</td>\n",
       "      <td>148</td>\n",
       "      <td>1</td>\n",
       "      <td>Freezing</td>\n",
       "      <td>0</td>\n",
       "    </tr>\n",
       "    <tr>\n",
       "      <th>4</th>\n",
       "      <td>2017-12-01</td>\n",
       "      <td>4</td>\n",
       "      <td>-6.0</td>\n",
       "      <td>36</td>\n",
       "      <td>2.3</td>\n",
       "      <td>0.0</td>\n",
       "      <td>0.0</td>\n",
       "      <td>Winter</td>\n",
       "      <td>0</td>\n",
       "      <td>True</td>\n",
       "      <td>97</td>\n",
       "      <td>0</td>\n",
       "      <td>Freezing</td>\n",
       "      <td>0</td>\n",
       "    </tr>\n",
       "  </tbody>\n",
       "</table>\n",
       "</div>"
      ],
      "text/plain": [
       "        Date  Hour  Temperature  Humidity  Wind speed  Rainfall  Snowfall  \\\n",
       "0 2017-12-01     0         -5.2        37         2.2       0.0       0.0   \n",
       "1 2017-12-01     1         -5.5        38         0.8       0.0       0.0   \n",
       "2 2017-12-01     2         -6.0        39         1.0       0.0       0.0   \n",
       "3 2017-12-01     3         -6.2        40         0.9       0.0       0.0   \n",
       "4 2017-12-01     4         -6.0        36         2.3       0.0       0.0   \n",
       "\n",
       "  Seasons  Holiday  Functioning Day  Rental Count  Normal Humidity  \\\n",
       "0  Winter        0             True           257                0   \n",
       "1  Winter        0             True           219                0   \n",
       "2  Winter        0             True           162                0   \n",
       "3  Winter        0             True           148                1   \n",
       "4  Winter        0             True            97                0   \n",
       "\n",
       "  Temperature Category  Good Weather  \n",
       "0             Freezing             0  \n",
       "1             Freezing             0  \n",
       "2             Freezing             0  \n",
       "3             Freezing             0  \n",
       "4             Freezing             0  "
      ]
     },
     "execution_count": 32,
     "metadata": {},
     "output_type": "execute_result"
    }
   ],
   "source": [
    "import numpy as np\n",
    "\n",
    "data = pd.read_pickle('../Downloads/BikesDataVars.pkl')\n",
    "data.head()"
   ]
  },
  {
   "cell_type": "code",
   "execution_count": 33,
   "id": "685e4ea9",
   "metadata": {},
   "outputs": [
    {
     "data": {
      "text/plain": [
       "count    8760.000000\n",
       "mean      696.582078\n",
       "std       749.812613\n",
       "min         0.000000\n",
       "25%       157.000000\n",
       "50%       425.500000\n",
       "75%      1009.000000\n",
       "max      6012.000000\n",
       "Name: Rental Count, dtype: float64"
      ]
     },
     "execution_count": 33,
     "metadata": {},
     "output_type": "execute_result"
    }
   ],
   "source": [
    "data['Rental Count'].describe()"
   ]
  },
  {
   "cell_type": "code",
   "execution_count": 34,
   "id": "78b7c21f",
   "metadata": {},
   "outputs": [
    {
     "name": "stdout",
     "output_type": "stream",
     "text": [
      "157.0 1009.0\n"
     ]
    }
   ],
   "source": [
    "q3 = np.percentile(data['Rental Count'], 75)\n",
    "q1 = np.percentile(data['Rental Count'], 25)\n",
    "print(q1, q3)"
   ]
  },
  {
   "cell_type": "code",
   "execution_count": 35,
   "id": "e2823095",
   "metadata": {},
   "outputs": [
    {
     "data": {
      "text/plain": [
       "852.0"
      ]
     },
     "execution_count": 35,
     "metadata": {},
     "output_type": "execute_result"
    }
   ],
   "source": [
    "iqr = q3 - q1\n",
    "iqr"
   ]
  },
  {
   "cell_type": "code",
   "execution_count": 36,
   "id": "556d94d8",
   "metadata": {},
   "outputs": [
    {
     "name": "stdout",
     "output_type": "stream",
     "text": [
      "-1121.0 2287.0\n"
     ]
    }
   ],
   "source": [
    "iqr_threshold_bottom = q1 - 1.5 * iqr\n",
    "iqr_threshold_top = q3 + 1.5 * iqr\n",
    "print(iqr_threshold_bottom, iqr_threshold_top)"
   ]
  },
  {
   "cell_type": "code",
   "execution_count": 38,
   "id": "343e3d19",
   "metadata": {},
   "outputs": [
    {
     "data": {
      "text/plain": [
       "(413, 14)"
      ]
     },
     "execution_count": 38,
     "metadata": {},
     "output_type": "execute_result"
    }
   ],
   "source": [
    "data[data['Rental Count'] > iqr_threshold_top].shape"
   ]
  },
  {
   "cell_type": "code",
   "execution_count": 39,
   "id": "a3b24fb8",
   "metadata": {},
   "outputs": [
    {
     "data": {
      "text/plain": [
       "18    95\n",
       "19    64\n",
       "17    51\n",
       "20    48\n",
       "21    39\n",
       "8     38\n",
       "16    23\n",
       "22    21\n",
       "15    10\n",
       "14     8\n",
       "13     7\n",
       "23     4\n",
       "7      4\n",
       "9      1\n",
       "Name: Hour, dtype: int64"
      ]
     },
     "execution_count": 39,
     "metadata": {},
     "output_type": "execute_result"
    }
   ],
   "source": [
    "data[data['Rental Count'] > iqr_threshold_top]['Hour'].value_counts()"
   ]
  },
  {
   "cell_type": "code",
   "execution_count": 41,
   "id": "10f3b34f",
   "metadata": {},
   "outputs": [
    {
     "data": {
      "text/plain": [
       "Summer    196\n",
       "Autumn    116\n",
       "Spring    101\n",
       "Name: Seasons, dtype: int64"
      ]
     },
     "execution_count": 41,
     "metadata": {},
     "output_type": "execute_result"
    }
   ],
   "source": [
    "data[data['Rental Count'] > iqr_threshold_top]['Seasons'].value_counts()"
   ]
  },
  {
   "cell_type": "code",
   "execution_count": 42,
   "id": "1cf3936e",
   "metadata": {},
   "outputs": [
    {
     "name": "stdout",
     "output_type": "stream",
     "text": [
      "-1177.9494551643193 2571.1136104154607\n"
     ]
    }
   ],
   "source": [
    "mean = data['Rental Count'].mean()\n",
    "std = data['Rental Count'].std()\n",
    "std_threshold_bottom = mean - 2.5 * std\n",
    "std_threshold_top = mean + 2.5 * std\n",
    "print(std_threshold_bottom, std_threshold_top)"
   ]
  },
  {
   "cell_type": "code",
   "execution_count": 43,
   "id": "20b3a06a",
   "metadata": {},
   "outputs": [
    {
     "data": {
      "text/plain": [
       "(278, 14)"
      ]
     },
     "execution_count": 43,
     "metadata": {},
     "output_type": "execute_result"
    }
   ],
   "source": [
    "data[data['Rental Count'] > std_threshold_top].shape"
   ]
  },
  {
   "cell_type": "code",
   "execution_count": 44,
   "id": "9ab0c66d",
   "metadata": {},
   "outputs": [],
   "source": [
    "iqr_no_outliers = data[data['Rental Count'] <= iqr_threshold_top]\n",
    "std_no_outliers = data[data['Rental Count'] <= std_threshold_top]"
   ]
  },
  {
   "cell_type": "code",
   "execution_count": 45,
   "id": "531fc395",
   "metadata": {},
   "outputs": [
    {
     "name": "stdout",
     "output_type": "stream",
     "text": [
      "696.5820776255708\n",
      "584.146280100635\n",
      "613.2393303466164\n"
     ]
    }
   ],
   "source": [
    "print(data['Rental Count'].mean())\n",
    "print(iqr_no_outliers['Rental Count'].mean())\n",
    "print(std_no_outliers['Rental Count'].mean())"
   ]
  },
  {
   "cell_type": "code",
   "execution_count": 46,
   "id": "67c42236",
   "metadata": {},
   "outputs": [
    {
     "name": "stdout",
     "output_type": "stream",
     "text": [
      "425.5\n",
      "392.0\n",
      "402.0\n"
     ]
    }
   ],
   "source": [
    "print(data['Rental Count'].median())\n",
    "print(iqr_no_outliers['Rental Count'].median())\n",
    "print(std_no_outliers['Rental Count'].median())"
   ]
  },
  {
   "cell_type": "code",
   "execution_count": 49,
   "id": "3c164556",
   "metadata": {},
   "outputs": [],
   "source": [
    "def get_temp_cat(temp):\n",
    "    if temp < 0:\n",
    "        return 'Freezing'\n",
    "    elif temp < 15:\n",
    "        return 'Chily'\n",
    "    elif temp < 26:\n",
    "        return 'Nice'\n",
    "    elif temp >= 26:\n",
    "        return 'Hot'\n",
    "    else:\n",
    "        return temp"
   ]
  },
  {
   "cell_type": "code",
   "execution_count": 48,
   "id": "76dfc291",
   "metadata": {},
   "outputs": [
    {
     "name": "stdout",
     "output_type": "stream",
     "text": [
      "<class 'pandas.core.frame.DataFrame'>\n",
      "RangeIndex: 8760 entries, 0 to 8759\n",
      "Data columns (total 14 columns):\n",
      " #   Column                Non-Null Count  Dtype         \n",
      "---  ------                --------------  -----         \n",
      " 0   Date                  8760 non-null   datetime64[ns]\n",
      " 1   Hour                  8760 non-null   int64         \n",
      " 2   Temperature           8581 non-null   float64       \n",
      " 3   Humidity              8760 non-null   int64         \n",
      " 4   Wind speed            8760 non-null   float64       \n",
      " 5   Rainfall              8760 non-null   float64       \n",
      " 6   Snowfall              8760 non-null   float64       \n",
      " 7   Seasons               8760 non-null   object        \n",
      " 8   Holiday               8760 non-null   int64         \n",
      " 9   Functioning Day       8760 non-null   bool          \n",
      " 10  Rental Count          8760 non-null   int64         \n",
      " 11  Normal Humidity       8760 non-null   int64         \n",
      " 12  Temperature Category  8581 non-null   category      \n",
      " 13  Good Weather          8760 non-null   int64         \n",
      "dtypes: bool(1), category(1), datetime64[ns](1), float64(4), int64(6), object(1)\n",
      "memory usage: 838.7+ KB\n"
     ]
    }
   ],
   "source": [
    "data.info()"
   ]
  },
  {
   "cell_type": "code",
   "execution_count": 58,
   "id": "8f636d82",
   "metadata": {},
   "outputs": [
    {
     "data": {
      "text/plain": [
       "Date                      0\n",
       "Hour                      0\n",
       "Temperature             179\n",
       "Humidity                  0\n",
       "Wind speed                0\n",
       "Rainfall                  0\n",
       "Snowfall                  0\n",
       "Seasons                   0\n",
       "Holiday                   0\n",
       "Functioning Day           0\n",
       "Rental Count              0\n",
       "Normal Humidity           0\n",
       "Temperature Category    179\n",
       "Good Weather              0\n",
       "dtype: int64"
      ]
     },
     "execution_count": 58,
     "metadata": {},
     "output_type": "execute_result"
    }
   ],
   "source": [
    "data.isna().sum()"
   ]
  },
  {
   "cell_type": "code",
   "execution_count": 54,
   "id": "e17ff799",
   "metadata": {},
   "outputs": [
    {
     "data": {
      "text/plain": [
       "nan"
      ]
     },
     "execution_count": 54,
     "metadata": {},
     "output_type": "execute_result"
    }
   ],
   "source": [
    "data[data['Temperature'].isna()]['Temperature'][39]"
   ]
  },
  {
   "cell_type": "code",
   "execution_count": 55,
   "id": "02f5f457",
   "metadata": {},
   "outputs": [
    {
     "data": {
      "text/plain": [
       "numpy.float64"
      ]
     },
     "execution_count": 55,
     "metadata": {},
     "output_type": "execute_result"
    }
   ],
   "source": [
    "type(data[data['Temperature'].isna()]['Temperature'][39])"
   ]
  },
  {
   "cell_type": "code",
   "execution_count": 56,
   "id": "f35e5c3a",
   "metadata": {},
   "outputs": [
    {
     "data": {
      "text/plain": [
       "(8581, 14)"
      ]
     },
     "execution_count": 56,
     "metadata": {},
     "output_type": "execute_result"
    }
   ],
   "source": [
    "#Можно выбросить пустые значения\n",
    "data.dropna(subset=['Temperature']).shape"
   ]
  },
  {
   "cell_type": "code",
   "execution_count": 62,
   "id": "f2d29972",
   "metadata": {},
   "outputs": [
    {
     "data": {
      "text/html": [
       "<div>\n",
       "<style scoped>\n",
       "    .dataframe tbody tr th:only-of-type {\n",
       "        vertical-align: middle;\n",
       "    }\n",
       "\n",
       "    .dataframe tbody tr th {\n",
       "        vertical-align: top;\n",
       "    }\n",
       "\n",
       "    .dataframe thead th {\n",
       "        text-align: right;\n",
       "    }\n",
       "</style>\n",
       "<table border=\"1\" class=\"dataframe\">\n",
       "  <thead>\n",
       "    <tr style=\"text-align: right;\">\n",
       "      <th></th>\n",
       "      <th>Date</th>\n",
       "      <th>Hour</th>\n",
       "      <th>Temperature</th>\n",
       "      <th>Humidity</th>\n",
       "      <th>Wind speed</th>\n",
       "      <th>Rainfall</th>\n",
       "      <th>Snowfall</th>\n",
       "      <th>Seasons</th>\n",
       "      <th>Holiday</th>\n",
       "      <th>Functioning Day</th>\n",
       "      <th>Rental Count</th>\n",
       "      <th>Normal Humidity</th>\n",
       "      <th>Temperature Category</th>\n",
       "      <th>Good Weather</th>\n",
       "      <th>Temperature_Median</th>\n",
       "    </tr>\n",
       "  </thead>\n",
       "  <tbody>\n",
       "    <tr>\n",
       "      <th>39</th>\n",
       "      <td>2017-12-02</td>\n",
       "      <td>15</td>\n",
       "      <td>NaN</td>\n",
       "      <td>41</td>\n",
       "      <td>2.3</td>\n",
       "      <td>0.0</td>\n",
       "      <td>0.0</td>\n",
       "      <td>Winter</td>\n",
       "      <td>0</td>\n",
       "      <td>True</td>\n",
       "      <td>688</td>\n",
       "      <td>1</td>\n",
       "      <td>NaN</td>\n",
       "      <td>0</td>\n",
       "      <td>13.7</td>\n",
       "    </tr>\n",
       "    <tr>\n",
       "      <th>50</th>\n",
       "      <td>2017-12-03</td>\n",
       "      <td>2</td>\n",
       "      <td>NaN</td>\n",
       "      <td>79</td>\n",
       "      <td>1.4</td>\n",
       "      <td>0.0</td>\n",
       "      <td>0.0</td>\n",
       "      <td>Winter</td>\n",
       "      <td>0</td>\n",
       "      <td>True</td>\n",
       "      <td>262</td>\n",
       "      <td>0</td>\n",
       "      <td>NaN</td>\n",
       "      <td>0</td>\n",
       "      <td>13.7</td>\n",
       "    </tr>\n",
       "    <tr>\n",
       "      <th>64</th>\n",
       "      <td>2017-12-03</td>\n",
       "      <td>16</td>\n",
       "      <td>NaN</td>\n",
       "      <td>77</td>\n",
       "      <td>1.6</td>\n",
       "      <td>0.0</td>\n",
       "      <td>0.0</td>\n",
       "      <td>Winter</td>\n",
       "      <td>0</td>\n",
       "      <td>True</td>\n",
       "      <td>577</td>\n",
       "      <td>0</td>\n",
       "      <td>NaN</td>\n",
       "      <td>0</td>\n",
       "      <td>13.7</td>\n",
       "    </tr>\n",
       "    <tr>\n",
       "      <th>105</th>\n",
       "      <td>2017-12-05</td>\n",
       "      <td>9</td>\n",
       "      <td>NaN</td>\n",
       "      <td>31</td>\n",
       "      <td>1.3</td>\n",
       "      <td>0.0</td>\n",
       "      <td>0.0</td>\n",
       "      <td>Winter</td>\n",
       "      <td>0</td>\n",
       "      <td>True</td>\n",
       "      <td>313</td>\n",
       "      <td>0</td>\n",
       "      <td>NaN</td>\n",
       "      <td>0</td>\n",
       "      <td>13.7</td>\n",
       "    </tr>\n",
       "    <tr>\n",
       "      <th>151</th>\n",
       "      <td>2017-12-07</td>\n",
       "      <td>7</td>\n",
       "      <td>NaN</td>\n",
       "      <td>93</td>\n",
       "      <td>0.5</td>\n",
       "      <td>0.0</td>\n",
       "      <td>0.9</td>\n",
       "      <td>Winter</td>\n",
       "      <td>0</td>\n",
       "      <td>True</td>\n",
       "      <td>269</td>\n",
       "      <td>0</td>\n",
       "      <td>NaN</td>\n",
       "      <td>0</td>\n",
       "      <td>13.7</td>\n",
       "    </tr>\n",
       "    <tr>\n",
       "      <th>...</th>\n",
       "      <td>...</td>\n",
       "      <td>...</td>\n",
       "      <td>...</td>\n",
       "      <td>...</td>\n",
       "      <td>...</td>\n",
       "      <td>...</td>\n",
       "      <td>...</td>\n",
       "      <td>...</td>\n",
       "      <td>...</td>\n",
       "      <td>...</td>\n",
       "      <td>...</td>\n",
       "      <td>...</td>\n",
       "      <td>...</td>\n",
       "      <td>...</td>\n",
       "      <td>...</td>\n",
       "    </tr>\n",
       "    <tr>\n",
       "      <th>8669</th>\n",
       "      <td>2018-11-27</td>\n",
       "      <td>5</td>\n",
       "      <td>NaN</td>\n",
       "      <td>84</td>\n",
       "      <td>0.6</td>\n",
       "      <td>0.0</td>\n",
       "      <td>0.0</td>\n",
       "      <td>Autumn</td>\n",
       "      <td>0</td>\n",
       "      <td>True</td>\n",
       "      <td>176</td>\n",
       "      <td>0</td>\n",
       "      <td>NaN</td>\n",
       "      <td>0</td>\n",
       "      <td>13.7</td>\n",
       "    </tr>\n",
       "    <tr>\n",
       "      <th>8679</th>\n",
       "      <td>2018-11-27</td>\n",
       "      <td>15</td>\n",
       "      <td>NaN</td>\n",
       "      <td>70</td>\n",
       "      <td>2.1</td>\n",
       "      <td>0.0</td>\n",
       "      <td>0.0</td>\n",
       "      <td>Autumn</td>\n",
       "      <td>0</td>\n",
       "      <td>True</td>\n",
       "      <td>670</td>\n",
       "      <td>0</td>\n",
       "      <td>NaN</td>\n",
       "      <td>0</td>\n",
       "      <td>13.7</td>\n",
       "    </tr>\n",
       "    <tr>\n",
       "      <th>8710</th>\n",
       "      <td>2018-11-28</td>\n",
       "      <td>22</td>\n",
       "      <td>NaN</td>\n",
       "      <td>34</td>\n",
       "      <td>1.3</td>\n",
       "      <td>0.0</td>\n",
       "      <td>0.0</td>\n",
       "      <td>Autumn</td>\n",
       "      <td>0</td>\n",
       "      <td>True</td>\n",
       "      <td>1034</td>\n",
       "      <td>0</td>\n",
       "      <td>NaN</td>\n",
       "      <td>0</td>\n",
       "      <td>13.7</td>\n",
       "    </tr>\n",
       "    <tr>\n",
       "      <th>8717</th>\n",
       "      <td>2018-11-29</td>\n",
       "      <td>5</td>\n",
       "      <td>NaN</td>\n",
       "      <td>34</td>\n",
       "      <td>0.9</td>\n",
       "      <td>0.0</td>\n",
       "      <td>0.0</td>\n",
       "      <td>Autumn</td>\n",
       "      <td>0</td>\n",
       "      <td>True</td>\n",
       "      <td>30</td>\n",
       "      <td>0</td>\n",
       "      <td>NaN</td>\n",
       "      <td>0</td>\n",
       "      <td>13.7</td>\n",
       "    </tr>\n",
       "    <tr>\n",
       "      <th>8742</th>\n",
       "      <td>2018-11-30</td>\n",
       "      <td>6</td>\n",
       "      <td>NaN</td>\n",
       "      <td>68</td>\n",
       "      <td>0.8</td>\n",
       "      <td>0.0</td>\n",
       "      <td>0.0</td>\n",
       "      <td>Autumn</td>\n",
       "      <td>0</td>\n",
       "      <td>True</td>\n",
       "      <td>166</td>\n",
       "      <td>0</td>\n",
       "      <td>NaN</td>\n",
       "      <td>0</td>\n",
       "      <td>13.7</td>\n",
       "    </tr>\n",
       "  </tbody>\n",
       "</table>\n",
       "<p>179 rows × 15 columns</p>\n",
       "</div>"
      ],
      "text/plain": [
       "           Date  Hour  Temperature  Humidity  Wind speed  Rainfall  Snowfall  \\\n",
       "39   2017-12-02    15          NaN        41         2.3       0.0       0.0   \n",
       "50   2017-12-03     2          NaN        79         1.4       0.0       0.0   \n",
       "64   2017-12-03    16          NaN        77         1.6       0.0       0.0   \n",
       "105  2017-12-05     9          NaN        31         1.3       0.0       0.0   \n",
       "151  2017-12-07     7          NaN        93         0.5       0.0       0.9   \n",
       "...         ...   ...          ...       ...         ...       ...       ...   \n",
       "8669 2018-11-27     5          NaN        84         0.6       0.0       0.0   \n",
       "8679 2018-11-27    15          NaN        70         2.1       0.0       0.0   \n",
       "8710 2018-11-28    22          NaN        34         1.3       0.0       0.0   \n",
       "8717 2018-11-29     5          NaN        34         0.9       0.0       0.0   \n",
       "8742 2018-11-30     6          NaN        68         0.8       0.0       0.0   \n",
       "\n",
       "     Seasons  Holiday  Functioning Day  Rental Count  Normal Humidity  \\\n",
       "39    Winter        0             True           688                1   \n",
       "50    Winter        0             True           262                0   \n",
       "64    Winter        0             True           577                0   \n",
       "105   Winter        0             True           313                0   \n",
       "151   Winter        0             True           269                0   \n",
       "...      ...      ...              ...           ...              ...   \n",
       "8669  Autumn        0             True           176                0   \n",
       "8679  Autumn        0             True           670                0   \n",
       "8710  Autumn        0             True          1034                0   \n",
       "8717  Autumn        0             True            30                0   \n",
       "8742  Autumn        0             True           166                0   \n",
       "\n",
       "     Temperature Category  Good Weather  Temperature_Median  \n",
       "39                    NaN             0                13.7  \n",
       "50                    NaN             0                13.7  \n",
       "64                    NaN             0                13.7  \n",
       "105                   NaN             0                13.7  \n",
       "151                   NaN             0                13.7  \n",
       "...                   ...           ...                 ...  \n",
       "8669                  NaN             0                13.7  \n",
       "8679                  NaN             0                13.7  \n",
       "8710                  NaN             0                13.7  \n",
       "8717                  NaN             0                13.7  \n",
       "8742                  NaN             0                13.7  \n",
       "\n",
       "[179 rows x 15 columns]"
      ]
     },
     "execution_count": 62,
     "metadata": {},
     "output_type": "execute_result"
    }
   ],
   "source": [
    "data['Temperature_Median'] = data['Temperature'].fillna(data['Temperature'].median())\n",
    "data[data['Temperature'].isna()]"
   ]
  },
  {
   "cell_type": "code",
   "execution_count": 63,
   "id": "8d2509e8",
   "metadata": {},
   "outputs": [
    {
     "data": {
      "text/html": [
       "<div>\n",
       "<style scoped>\n",
       "    .dataframe tbody tr th:only-of-type {\n",
       "        vertical-align: middle;\n",
       "    }\n",
       "\n",
       "    .dataframe tbody tr th {\n",
       "        vertical-align: top;\n",
       "    }\n",
       "\n",
       "    .dataframe thead th {\n",
       "        text-align: right;\n",
       "    }\n",
       "</style>\n",
       "<table border=\"1\" class=\"dataframe\">\n",
       "  <thead>\n",
       "    <tr style=\"text-align: right;\">\n",
       "      <th></th>\n",
       "      <th>Date</th>\n",
       "      <th>Hour</th>\n",
       "      <th>Temperature</th>\n",
       "      <th>Humidity</th>\n",
       "      <th>Wind speed</th>\n",
       "      <th>Rainfall</th>\n",
       "      <th>Snowfall</th>\n",
       "      <th>Seasons</th>\n",
       "      <th>Holiday</th>\n",
       "      <th>Functioning Day</th>\n",
       "      <th>Rental Count</th>\n",
       "      <th>Normal Humidity</th>\n",
       "      <th>Temperature Category</th>\n",
       "      <th>Good Weather</th>\n",
       "      <th>Temperature_Median</th>\n",
       "    </tr>\n",
       "  </thead>\n",
       "  <tbody>\n",
       "    <tr>\n",
       "      <th>0</th>\n",
       "      <td>2017-12-01</td>\n",
       "      <td>0</td>\n",
       "      <td>-5.2</td>\n",
       "      <td>37</td>\n",
       "      <td>2.2</td>\n",
       "      <td>0.0</td>\n",
       "      <td>0.0</td>\n",
       "      <td>Winter</td>\n",
       "      <td>0</td>\n",
       "      <td>True</td>\n",
       "      <td>257</td>\n",
       "      <td>0</td>\n",
       "      <td>Freezing</td>\n",
       "      <td>0</td>\n",
       "      <td>-5.2</td>\n",
       "    </tr>\n",
       "    <tr>\n",
       "      <th>1</th>\n",
       "      <td>2017-12-01</td>\n",
       "      <td>1</td>\n",
       "      <td>-5.5</td>\n",
       "      <td>38</td>\n",
       "      <td>0.8</td>\n",
       "      <td>0.0</td>\n",
       "      <td>0.0</td>\n",
       "      <td>Winter</td>\n",
       "      <td>0</td>\n",
       "      <td>True</td>\n",
       "      <td>219</td>\n",
       "      <td>0</td>\n",
       "      <td>Freezing</td>\n",
       "      <td>0</td>\n",
       "      <td>-5.5</td>\n",
       "    </tr>\n",
       "    <tr>\n",
       "      <th>2</th>\n",
       "      <td>2017-12-01</td>\n",
       "      <td>2</td>\n",
       "      <td>-6.0</td>\n",
       "      <td>39</td>\n",
       "      <td>1.0</td>\n",
       "      <td>0.0</td>\n",
       "      <td>0.0</td>\n",
       "      <td>Winter</td>\n",
       "      <td>0</td>\n",
       "      <td>True</td>\n",
       "      <td>162</td>\n",
       "      <td>0</td>\n",
       "      <td>Freezing</td>\n",
       "      <td>0</td>\n",
       "      <td>-6.0</td>\n",
       "    </tr>\n",
       "    <tr>\n",
       "      <th>3</th>\n",
       "      <td>2017-12-01</td>\n",
       "      <td>3</td>\n",
       "      <td>-6.2</td>\n",
       "      <td>40</td>\n",
       "      <td>0.9</td>\n",
       "      <td>0.0</td>\n",
       "      <td>0.0</td>\n",
       "      <td>Winter</td>\n",
       "      <td>0</td>\n",
       "      <td>True</td>\n",
       "      <td>148</td>\n",
       "      <td>1</td>\n",
       "      <td>Freezing</td>\n",
       "      <td>0</td>\n",
       "      <td>-6.2</td>\n",
       "    </tr>\n",
       "    <tr>\n",
       "      <th>4</th>\n",
       "      <td>2017-12-01</td>\n",
       "      <td>4</td>\n",
       "      <td>-6.0</td>\n",
       "      <td>36</td>\n",
       "      <td>2.3</td>\n",
       "      <td>0.0</td>\n",
       "      <td>0.0</td>\n",
       "      <td>Winter</td>\n",
       "      <td>0</td>\n",
       "      <td>True</td>\n",
       "      <td>97</td>\n",
       "      <td>0</td>\n",
       "      <td>Freezing</td>\n",
       "      <td>0</td>\n",
       "      <td>-6.0</td>\n",
       "    </tr>\n",
       "  </tbody>\n",
       "</table>\n",
       "</div>"
      ],
      "text/plain": [
       "        Date  Hour  Temperature  Humidity  Wind speed  Rainfall  Snowfall  \\\n",
       "0 2017-12-01     0         -5.2        37         2.2       0.0       0.0   \n",
       "1 2017-12-01     1         -5.5        38         0.8       0.0       0.0   \n",
       "2 2017-12-01     2         -6.0        39         1.0       0.0       0.0   \n",
       "3 2017-12-01     3         -6.2        40         0.9       0.0       0.0   \n",
       "4 2017-12-01     4         -6.0        36         2.3       0.0       0.0   \n",
       "\n",
       "  Seasons  Holiday  Functioning Day  Rental Count  Normal Humidity  \\\n",
       "0  Winter        0             True           257                0   \n",
       "1  Winter        0             True           219                0   \n",
       "2  Winter        0             True           162                0   \n",
       "3  Winter        0             True           148                1   \n",
       "4  Winter        0             True            97                0   \n",
       "\n",
       "  Temperature Category  Good Weather  Temperature_Median  \n",
       "0             Freezing             0                -5.2  \n",
       "1             Freezing             0                -5.5  \n",
       "2             Freezing             0                -6.0  \n",
       "3             Freezing             0                -6.2  \n",
       "4             Freezing             0                -6.0  "
      ]
     },
     "execution_count": 63,
     "metadata": {},
     "output_type": "execute_result"
    }
   ],
   "source": [
    "data.head()"
   ]
  },
  {
   "cell_type": "code",
   "execution_count": 64,
   "id": "51dae1b3",
   "metadata": {},
   "outputs": [
    {
     "data": {
      "text/html": [
       "<div>\n",
       "<style scoped>\n",
       "    .dataframe tbody tr th:only-of-type {\n",
       "        vertical-align: middle;\n",
       "    }\n",
       "\n",
       "    .dataframe tbody tr th {\n",
       "        vertical-align: top;\n",
       "    }\n",
       "\n",
       "    .dataframe thead th {\n",
       "        text-align: right;\n",
       "    }\n",
       "</style>\n",
       "<table border=\"1\" class=\"dataframe\">\n",
       "  <thead>\n",
       "    <tr style=\"text-align: right;\">\n",
       "      <th></th>\n",
       "      <th>Date</th>\n",
       "      <th>Hour</th>\n",
       "      <th>Temperature</th>\n",
       "      <th>Humidity</th>\n",
       "      <th>Wind speed</th>\n",
       "      <th>Rainfall</th>\n",
       "      <th>Snowfall</th>\n",
       "      <th>Seasons</th>\n",
       "      <th>Holiday</th>\n",
       "      <th>Functioning Day</th>\n",
       "      <th>Rental Count</th>\n",
       "      <th>Normal Humidity</th>\n",
       "      <th>Temperature Category</th>\n",
       "      <th>Good Weather</th>\n",
       "      <th>Temperature_Median</th>\n",
       "    </tr>\n",
       "  </thead>\n",
       "  <tbody>\n",
       "    <tr>\n",
       "      <th>38</th>\n",
       "      <td>2017-12-02</td>\n",
       "      <td>14</td>\n",
       "      <td>7.3</td>\n",
       "      <td>35</td>\n",
       "      <td>1.3</td>\n",
       "      <td>0.0</td>\n",
       "      <td>0.0</td>\n",
       "      <td>Winter</td>\n",
       "      <td>0</td>\n",
       "      <td>True</td>\n",
       "      <td>1054</td>\n",
       "      <td>0</td>\n",
       "      <td>Chilly</td>\n",
       "      <td>0</td>\n",
       "      <td>7.3</td>\n",
       "    </tr>\n",
       "    <tr>\n",
       "      <th>39</th>\n",
       "      <td>2017-12-02</td>\n",
       "      <td>15</td>\n",
       "      <td>NaN</td>\n",
       "      <td>41</td>\n",
       "      <td>2.3</td>\n",
       "      <td>0.0</td>\n",
       "      <td>0.0</td>\n",
       "      <td>Winter</td>\n",
       "      <td>0</td>\n",
       "      <td>True</td>\n",
       "      <td>688</td>\n",
       "      <td>1</td>\n",
       "      <td>NaN</td>\n",
       "      <td>0</td>\n",
       "      <td>13.7</td>\n",
       "    </tr>\n",
       "    <tr>\n",
       "      <th>40</th>\n",
       "      <td>2017-12-02</td>\n",
       "      <td>16</td>\n",
       "      <td>6.4</td>\n",
       "      <td>48</td>\n",
       "      <td>2.6</td>\n",
       "      <td>0.0</td>\n",
       "      <td>0.0</td>\n",
       "      <td>Winter</td>\n",
       "      <td>0</td>\n",
       "      <td>True</td>\n",
       "      <td>592</td>\n",
       "      <td>1</td>\n",
       "      <td>Chilly</td>\n",
       "      <td>0</td>\n",
       "      <td>6.4</td>\n",
       "    </tr>\n",
       "    <tr>\n",
       "      <th>41</th>\n",
       "      <td>2017-12-02</td>\n",
       "      <td>17</td>\n",
       "      <td>6.0</td>\n",
       "      <td>51</td>\n",
       "      <td>2.5</td>\n",
       "      <td>0.0</td>\n",
       "      <td>0.0</td>\n",
       "      <td>Winter</td>\n",
       "      <td>0</td>\n",
       "      <td>True</td>\n",
       "      <td>141</td>\n",
       "      <td>1</td>\n",
       "      <td>Chilly</td>\n",
       "      <td>0</td>\n",
       "      <td>6.0</td>\n",
       "    </tr>\n",
       "  </tbody>\n",
       "</table>\n",
       "</div>"
      ],
      "text/plain": [
       "         Date  Hour  Temperature  Humidity  Wind speed  Rainfall  Snowfall  \\\n",
       "38 2017-12-02    14          7.3        35         1.3       0.0       0.0   \n",
       "39 2017-12-02    15          NaN        41         2.3       0.0       0.0   \n",
       "40 2017-12-02    16          6.4        48         2.6       0.0       0.0   \n",
       "41 2017-12-02    17          6.0        51         2.5       0.0       0.0   \n",
       "\n",
       "   Seasons  Holiday  Functioning Day  Rental Count  Normal Humidity  \\\n",
       "38  Winter        0             True          1054                0   \n",
       "39  Winter        0             True           688                1   \n",
       "40  Winter        0             True           592                1   \n",
       "41  Winter        0             True           141                1   \n",
       "\n",
       "   Temperature Category  Good Weather  Temperature_Median  \n",
       "38               Chilly             0                 7.3  \n",
       "39                  NaN             0                13.7  \n",
       "40               Chilly             0                 6.4  \n",
       "41               Chilly             0                 6.0  "
      ]
     },
     "execution_count": 64,
     "metadata": {},
     "output_type": "execute_result"
    }
   ],
   "source": [
    "data.iloc[38:42]"
   ]
  },
  {
   "cell_type": "code",
   "execution_count": 76,
   "id": "c3fd26ed",
   "metadata": {},
   "outputs": [
    {
     "data": {
      "text/plain": [
       "array([17.4, 11.6,  2.1, ..., 18.7, -4.4, 24.2])"
      ]
     },
     "execution_count": 76,
     "metadata": {},
     "output_type": "execute_result"
    }
   ],
   "source": [
    "temps_random = np.random.choice(data['Temperature'].dropna(), 8760)\n",
    "temps_random"
   ]
  },
  {
   "cell_type": "code",
   "execution_count": 79,
   "id": "d9099f8a",
   "metadata": {},
   "outputs": [],
   "source": [
    "data['Temperature_Random'] = data['Temperature'].fillna(pd.Series(temps_random))"
   ]
  },
  {
   "cell_type": "code",
   "execution_count": 80,
   "id": "099f0b86",
   "metadata": {},
   "outputs": [
    {
     "data": {
      "text/html": [
       "<div>\n",
       "<style scoped>\n",
       "    .dataframe tbody tr th:only-of-type {\n",
       "        vertical-align: middle;\n",
       "    }\n",
       "\n",
       "    .dataframe tbody tr th {\n",
       "        vertical-align: top;\n",
       "    }\n",
       "\n",
       "    .dataframe thead th {\n",
       "        text-align: right;\n",
       "    }\n",
       "</style>\n",
       "<table border=\"1\" class=\"dataframe\">\n",
       "  <thead>\n",
       "    <tr style=\"text-align: right;\">\n",
       "      <th></th>\n",
       "      <th>Date</th>\n",
       "      <th>Hour</th>\n",
       "      <th>Temperature</th>\n",
       "      <th>Humidity</th>\n",
       "      <th>Wind speed</th>\n",
       "      <th>Rainfall</th>\n",
       "      <th>Snowfall</th>\n",
       "      <th>Seasons</th>\n",
       "      <th>Holiday</th>\n",
       "      <th>Functioning Day</th>\n",
       "      <th>Rental Count</th>\n",
       "      <th>Normal Humidity</th>\n",
       "      <th>Temperature Category</th>\n",
       "      <th>Good Weather</th>\n",
       "      <th>Temperature_Median</th>\n",
       "      <th>Temperature_Random</th>\n",
       "    </tr>\n",
       "  </thead>\n",
       "  <tbody>\n",
       "    <tr>\n",
       "      <th>39</th>\n",
       "      <td>2017-12-02</td>\n",
       "      <td>15</td>\n",
       "      <td>NaN</td>\n",
       "      <td>41</td>\n",
       "      <td>2.3</td>\n",
       "      <td>0.0</td>\n",
       "      <td>0.0</td>\n",
       "      <td>Winter</td>\n",
       "      <td>0</td>\n",
       "      <td>True</td>\n",
       "      <td>688</td>\n",
       "      <td>1</td>\n",
       "      <td>NaN</td>\n",
       "      <td>0</td>\n",
       "      <td>13.7</td>\n",
       "      <td>20.3</td>\n",
       "    </tr>\n",
       "    <tr>\n",
       "      <th>50</th>\n",
       "      <td>2017-12-03</td>\n",
       "      <td>2</td>\n",
       "      <td>NaN</td>\n",
       "      <td>79</td>\n",
       "      <td>1.4</td>\n",
       "      <td>0.0</td>\n",
       "      <td>0.0</td>\n",
       "      <td>Winter</td>\n",
       "      <td>0</td>\n",
       "      <td>True</td>\n",
       "      <td>262</td>\n",
       "      <td>0</td>\n",
       "      <td>NaN</td>\n",
       "      <td>0</td>\n",
       "      <td>13.7</td>\n",
       "      <td>6.3</td>\n",
       "    </tr>\n",
       "    <tr>\n",
       "      <th>64</th>\n",
       "      <td>2017-12-03</td>\n",
       "      <td>16</td>\n",
       "      <td>NaN</td>\n",
       "      <td>77</td>\n",
       "      <td>1.6</td>\n",
       "      <td>0.0</td>\n",
       "      <td>0.0</td>\n",
       "      <td>Winter</td>\n",
       "      <td>0</td>\n",
       "      <td>True</td>\n",
       "      <td>577</td>\n",
       "      <td>0</td>\n",
       "      <td>NaN</td>\n",
       "      <td>0</td>\n",
       "      <td>13.7</td>\n",
       "      <td>18.7</td>\n",
       "    </tr>\n",
       "    <tr>\n",
       "      <th>105</th>\n",
       "      <td>2017-12-05</td>\n",
       "      <td>9</td>\n",
       "      <td>NaN</td>\n",
       "      <td>31</td>\n",
       "      <td>1.3</td>\n",
       "      <td>0.0</td>\n",
       "      <td>0.0</td>\n",
       "      <td>Winter</td>\n",
       "      <td>0</td>\n",
       "      <td>True</td>\n",
       "      <td>313</td>\n",
       "      <td>0</td>\n",
       "      <td>NaN</td>\n",
       "      <td>0</td>\n",
       "      <td>13.7</td>\n",
       "      <td>28.4</td>\n",
       "    </tr>\n",
       "    <tr>\n",
       "      <th>151</th>\n",
       "      <td>2017-12-07</td>\n",
       "      <td>7</td>\n",
       "      <td>NaN</td>\n",
       "      <td>93</td>\n",
       "      <td>0.5</td>\n",
       "      <td>0.0</td>\n",
       "      <td>0.9</td>\n",
       "      <td>Winter</td>\n",
       "      <td>0</td>\n",
       "      <td>True</td>\n",
       "      <td>269</td>\n",
       "      <td>0</td>\n",
       "      <td>NaN</td>\n",
       "      <td>0</td>\n",
       "      <td>13.7</td>\n",
       "      <td>13.5</td>\n",
       "    </tr>\n",
       "  </tbody>\n",
       "</table>\n",
       "</div>"
      ],
      "text/plain": [
       "          Date  Hour  Temperature  Humidity  Wind speed  Rainfall  Snowfall  \\\n",
       "39  2017-12-02    15          NaN        41         2.3       0.0       0.0   \n",
       "50  2017-12-03     2          NaN        79         1.4       0.0       0.0   \n",
       "64  2017-12-03    16          NaN        77         1.6       0.0       0.0   \n",
       "105 2017-12-05     9          NaN        31         1.3       0.0       0.0   \n",
       "151 2017-12-07     7          NaN        93         0.5       0.0       0.9   \n",
       "\n",
       "    Seasons  Holiday  Functioning Day  Rental Count  Normal Humidity  \\\n",
       "39   Winter        0             True           688                1   \n",
       "50   Winter        0             True           262                0   \n",
       "64   Winter        0             True           577                0   \n",
       "105  Winter        0             True           313                0   \n",
       "151  Winter        0             True           269                0   \n",
       "\n",
       "    Temperature Category  Good Weather  Temperature_Median  Temperature_Random  \n",
       "39                   NaN             0                13.7                20.3  \n",
       "50                   NaN             0                13.7                 6.3  \n",
       "64                   NaN             0                13.7                18.7  \n",
       "105                  NaN             0                13.7                28.4  \n",
       "151                  NaN             0                13.7                13.5  "
      ]
     },
     "execution_count": 80,
     "metadata": {},
     "output_type": "execute_result"
    }
   ],
   "source": [
    "data[data['Temperature'].isna()].head()"
   ]
  },
  {
   "cell_type": "code",
   "execution_count": 81,
   "id": "543e5257",
   "metadata": {},
   "outputs": [
    {
     "data": {
      "text/html": [
       "<div>\n",
       "<style scoped>\n",
       "    .dataframe tbody tr th:only-of-type {\n",
       "        vertical-align: middle;\n",
       "    }\n",
       "\n",
       "    .dataframe tbody tr th {\n",
       "        vertical-align: top;\n",
       "    }\n",
       "\n",
       "    .dataframe thead th {\n",
       "        text-align: right;\n",
       "    }\n",
       "</style>\n",
       "<table border=\"1\" class=\"dataframe\">\n",
       "  <thead>\n",
       "    <tr style=\"text-align: right;\">\n",
       "      <th></th>\n",
       "      <th>Date</th>\n",
       "      <th>Hour</th>\n",
       "      <th>Temperature</th>\n",
       "      <th>Humidity</th>\n",
       "      <th>Wind speed</th>\n",
       "      <th>Rainfall</th>\n",
       "      <th>Snowfall</th>\n",
       "      <th>Seasons</th>\n",
       "      <th>Holiday</th>\n",
       "      <th>Functioning Day</th>\n",
       "      <th>Rental Count</th>\n",
       "      <th>Normal Humidity</th>\n",
       "      <th>Temperature Category</th>\n",
       "      <th>Good Weather</th>\n",
       "      <th>Temperature_Median</th>\n",
       "      <th>Temperature_Random</th>\n",
       "    </tr>\n",
       "  </thead>\n",
       "  <tbody>\n",
       "    <tr>\n",
       "      <th>38</th>\n",
       "      <td>2017-12-02</td>\n",
       "      <td>14</td>\n",
       "      <td>7.3</td>\n",
       "      <td>35</td>\n",
       "      <td>1.3</td>\n",
       "      <td>0.0</td>\n",
       "      <td>0.0</td>\n",
       "      <td>Winter</td>\n",
       "      <td>0</td>\n",
       "      <td>True</td>\n",
       "      <td>1054</td>\n",
       "      <td>0</td>\n",
       "      <td>Chilly</td>\n",
       "      <td>0</td>\n",
       "      <td>7.3</td>\n",
       "      <td>7.3</td>\n",
       "    </tr>\n",
       "    <tr>\n",
       "      <th>39</th>\n",
       "      <td>2017-12-02</td>\n",
       "      <td>15</td>\n",
       "      <td>NaN</td>\n",
       "      <td>41</td>\n",
       "      <td>2.3</td>\n",
       "      <td>0.0</td>\n",
       "      <td>0.0</td>\n",
       "      <td>Winter</td>\n",
       "      <td>0</td>\n",
       "      <td>True</td>\n",
       "      <td>688</td>\n",
       "      <td>1</td>\n",
       "      <td>NaN</td>\n",
       "      <td>0</td>\n",
       "      <td>13.7</td>\n",
       "      <td>20.3</td>\n",
       "    </tr>\n",
       "    <tr>\n",
       "      <th>40</th>\n",
       "      <td>2017-12-02</td>\n",
       "      <td>16</td>\n",
       "      <td>6.4</td>\n",
       "      <td>48</td>\n",
       "      <td>2.6</td>\n",
       "      <td>0.0</td>\n",
       "      <td>0.0</td>\n",
       "      <td>Winter</td>\n",
       "      <td>0</td>\n",
       "      <td>True</td>\n",
       "      <td>592</td>\n",
       "      <td>1</td>\n",
       "      <td>Chilly</td>\n",
       "      <td>0</td>\n",
       "      <td>6.4</td>\n",
       "      <td>6.4</td>\n",
       "    </tr>\n",
       "    <tr>\n",
       "      <th>41</th>\n",
       "      <td>2017-12-02</td>\n",
       "      <td>17</td>\n",
       "      <td>6.0</td>\n",
       "      <td>51</td>\n",
       "      <td>2.5</td>\n",
       "      <td>0.0</td>\n",
       "      <td>0.0</td>\n",
       "      <td>Winter</td>\n",
       "      <td>0</td>\n",
       "      <td>True</td>\n",
       "      <td>141</td>\n",
       "      <td>1</td>\n",
       "      <td>Chilly</td>\n",
       "      <td>0</td>\n",
       "      <td>6.0</td>\n",
       "      <td>6.0</td>\n",
       "    </tr>\n",
       "  </tbody>\n",
       "</table>\n",
       "</div>"
      ],
      "text/plain": [
       "         Date  Hour  Temperature  Humidity  Wind speed  Rainfall  Snowfall  \\\n",
       "38 2017-12-02    14          7.3        35         1.3       0.0       0.0   \n",
       "39 2017-12-02    15          NaN        41         2.3       0.0       0.0   \n",
       "40 2017-12-02    16          6.4        48         2.6       0.0       0.0   \n",
       "41 2017-12-02    17          6.0        51         2.5       0.0       0.0   \n",
       "\n",
       "   Seasons  Holiday  Functioning Day  Rental Count  Normal Humidity  \\\n",
       "38  Winter        0             True          1054                0   \n",
       "39  Winter        0             True           688                1   \n",
       "40  Winter        0             True           592                1   \n",
       "41  Winter        0             True           141                1   \n",
       "\n",
       "   Temperature Category  Good Weather  Temperature_Median  Temperature_Random  \n",
       "38               Chilly             0                 7.3                 7.3  \n",
       "39                  NaN             0                13.7                20.3  \n",
       "40               Chilly             0                 6.4                 6.4  \n",
       "41               Chilly             0                 6.0                 6.0  "
      ]
     },
     "execution_count": 81,
     "metadata": {},
     "output_type": "execute_result"
    }
   ],
   "source": [
    "data.iloc[38:42]"
   ]
  },
  {
   "cell_type": "code",
   "execution_count": 88,
   "id": "bfa651e7",
   "metadata": {},
   "outputs": [
    {
     "name": "stderr",
     "output_type": "stream",
     "text": [
      "C:\\Users\\Professional\\AppData\\Local\\Temp\\ipykernel_360\\1273078139.py:1: FutureWarning: Series.dt.weekofyear and Series.dt.week have been deprecated. Please use Series.dt.isocalendar().week instead.\n",
      "  temp_median = data.groupby([data['Date'].dt.week ,'Hour'])['Temperature'].transform('median')\n"
     ]
    }
   ],
   "source": [
    "temp_median = data.groupby([data['Date'].dt.week ,'Hour'])['Temperature'].transform('median')"
   ]
  },
  {
   "cell_type": "code",
   "execution_count": 90,
   "id": "fbde9e12",
   "metadata": {},
   "outputs": [],
   "source": [
    "data['Temperature Median Group'] = data['Temperature'].fillna(temp_median)"
   ]
  },
  {
   "cell_type": "code",
   "execution_count": 91,
   "id": "971734df",
   "metadata": {},
   "outputs": [
    {
     "data": {
      "text/html": [
       "<div>\n",
       "<style scoped>\n",
       "    .dataframe tbody tr th:only-of-type {\n",
       "        vertical-align: middle;\n",
       "    }\n",
       "\n",
       "    .dataframe tbody tr th {\n",
       "        vertical-align: top;\n",
       "    }\n",
       "\n",
       "    .dataframe thead th {\n",
       "        text-align: right;\n",
       "    }\n",
       "</style>\n",
       "<table border=\"1\" class=\"dataframe\">\n",
       "  <thead>\n",
       "    <tr style=\"text-align: right;\">\n",
       "      <th></th>\n",
       "      <th>Date</th>\n",
       "      <th>Hour</th>\n",
       "      <th>Temperature</th>\n",
       "      <th>Humidity</th>\n",
       "      <th>Wind speed</th>\n",
       "      <th>Rainfall</th>\n",
       "      <th>Snowfall</th>\n",
       "      <th>Seasons</th>\n",
       "      <th>Holiday</th>\n",
       "      <th>Functioning Day</th>\n",
       "      <th>Rental Count</th>\n",
       "      <th>Normal Humidity</th>\n",
       "      <th>Temperature Category</th>\n",
       "      <th>Good Weather</th>\n",
       "      <th>Temperature_Median</th>\n",
       "      <th>Temperature_Random</th>\n",
       "      <th>Temperature Median Group</th>\n",
       "    </tr>\n",
       "  </thead>\n",
       "  <tbody>\n",
       "    <tr>\n",
       "      <th>38</th>\n",
       "      <td>2017-12-02</td>\n",
       "      <td>14</td>\n",
       "      <td>7.3</td>\n",
       "      <td>35</td>\n",
       "      <td>1.3</td>\n",
       "      <td>0.0</td>\n",
       "      <td>0.0</td>\n",
       "      <td>Winter</td>\n",
       "      <td>0</td>\n",
       "      <td>True</td>\n",
       "      <td>1054</td>\n",
       "      <td>0</td>\n",
       "      <td>Chilly</td>\n",
       "      <td>0</td>\n",
       "      <td>7.3</td>\n",
       "      <td>7.3</td>\n",
       "      <td>7.3</td>\n",
       "    </tr>\n",
       "    <tr>\n",
       "      <th>39</th>\n",
       "      <td>2017-12-02</td>\n",
       "      <td>15</td>\n",
       "      <td>NaN</td>\n",
       "      <td>41</td>\n",
       "      <td>2.3</td>\n",
       "      <td>0.0</td>\n",
       "      <td>0.0</td>\n",
       "      <td>Winter</td>\n",
       "      <td>0</td>\n",
       "      <td>True</td>\n",
       "      <td>688</td>\n",
       "      <td>1</td>\n",
       "      <td>NaN</td>\n",
       "      <td>0</td>\n",
       "      <td>13.7</td>\n",
       "      <td>20.3</td>\n",
       "      <td>7.5</td>\n",
       "    </tr>\n",
       "    <tr>\n",
       "      <th>40</th>\n",
       "      <td>2017-12-02</td>\n",
       "      <td>16</td>\n",
       "      <td>6.4</td>\n",
       "      <td>48</td>\n",
       "      <td>2.6</td>\n",
       "      <td>0.0</td>\n",
       "      <td>0.0</td>\n",
       "      <td>Winter</td>\n",
       "      <td>0</td>\n",
       "      <td>True</td>\n",
       "      <td>592</td>\n",
       "      <td>1</td>\n",
       "      <td>Chilly</td>\n",
       "      <td>0</td>\n",
       "      <td>6.4</td>\n",
       "      <td>6.4</td>\n",
       "      <td>6.4</td>\n",
       "    </tr>\n",
       "    <tr>\n",
       "      <th>41</th>\n",
       "      <td>2017-12-02</td>\n",
       "      <td>17</td>\n",
       "      <td>6.0</td>\n",
       "      <td>51</td>\n",
       "      <td>2.5</td>\n",
       "      <td>0.0</td>\n",
       "      <td>0.0</td>\n",
       "      <td>Winter</td>\n",
       "      <td>0</td>\n",
       "      <td>True</td>\n",
       "      <td>141</td>\n",
       "      <td>1</td>\n",
       "      <td>Chilly</td>\n",
       "      <td>0</td>\n",
       "      <td>6.0</td>\n",
       "      <td>6.0</td>\n",
       "      <td>6.0</td>\n",
       "    </tr>\n",
       "  </tbody>\n",
       "</table>\n",
       "</div>"
      ],
      "text/plain": [
       "         Date  Hour  Temperature  Humidity  Wind speed  Rainfall  Snowfall  \\\n",
       "38 2017-12-02    14          7.3        35         1.3       0.0       0.0   \n",
       "39 2017-12-02    15          NaN        41         2.3       0.0       0.0   \n",
       "40 2017-12-02    16          6.4        48         2.6       0.0       0.0   \n",
       "41 2017-12-02    17          6.0        51         2.5       0.0       0.0   \n",
       "\n",
       "   Seasons  Holiday  Functioning Day  Rental Count  Normal Humidity  \\\n",
       "38  Winter        0             True          1054                0   \n",
       "39  Winter        0             True           688                1   \n",
       "40  Winter        0             True           592                1   \n",
       "41  Winter        0             True           141                1   \n",
       "\n",
       "   Temperature Category  Good Weather  Temperature_Median  Temperature_Random  \\\n",
       "38               Chilly             0                 7.3                 7.3   \n",
       "39                  NaN             0                13.7                20.3   \n",
       "40               Chilly             0                 6.4                 6.4   \n",
       "41               Chilly             0                 6.0                 6.0   \n",
       "\n",
       "    Temperature Median Group  \n",
       "38                       7.3  \n",
       "39                       7.5  \n",
       "40                       6.4  \n",
       "41                       6.0  "
      ]
     },
     "execution_count": 91,
     "metadata": {},
     "output_type": "execute_result"
    }
   ],
   "source": [
    "data.iloc[38:42]"
   ]
  },
  {
   "cell_type": "code",
   "execution_count": 92,
   "id": "a8614990",
   "metadata": {},
   "outputs": [],
   "source": [
    "data['Temperature'] = data['Temperature'].fillna(temp_median)"
   ]
  },
  {
   "cell_type": "code",
   "execution_count": 93,
   "id": "61910565",
   "metadata": {},
   "outputs": [],
   "source": [
    "del data['Temperature_Median']\n",
    "del data['Temperature_Random']\n",
    "del data['Temperature Median Group']"
   ]
  },
  {
   "cell_type": "code",
   "execution_count": 96,
   "id": "596502b0",
   "metadata": {},
   "outputs": [],
   "source": [
    "data['Temperature Category'] = pd.Categorical(data['Temperature'].apply(get_temp_cat))"
   ]
  },
  {
   "cell_type": "code",
   "execution_count": 97,
   "id": "661561ec",
   "metadata": {},
   "outputs": [
    {
     "name": "stdout",
     "output_type": "stream",
     "text": [
      "<class 'pandas.core.frame.DataFrame'>\n",
      "RangeIndex: 8760 entries, 0 to 8759\n",
      "Data columns (total 14 columns):\n",
      " #   Column                Non-Null Count  Dtype         \n",
      "---  ------                --------------  -----         \n",
      " 0   Date                  8760 non-null   datetime64[ns]\n",
      " 1   Hour                  8760 non-null   int64         \n",
      " 2   Temperature           8760 non-null   float64       \n",
      " 3   Humidity              8760 non-null   int64         \n",
      " 4   Wind speed            8760 non-null   float64       \n",
      " 5   Rainfall              8760 non-null   float64       \n",
      " 6   Snowfall              8760 non-null   float64       \n",
      " 7   Seasons               8760 non-null   object        \n",
      " 8   Holiday               8760 non-null   int64         \n",
      " 9   Functioning Day       8760 non-null   bool          \n",
      " 10  Rental Count          8760 non-null   int64         \n",
      " 11  Normal Humidity       8760 non-null   int64         \n",
      " 12  Temperature Category  8760 non-null   category      \n",
      " 13  Good Weather          8760 non-null   int64         \n",
      "dtypes: bool(1), category(1), datetime64[ns](1), float64(4), int64(6), object(1)\n",
      "memory usage: 838.7+ KB\n"
     ]
    }
   ],
   "source": [
    "data.info()"
   ]
  },
  {
   "cell_type": "code",
   "execution_count": 98,
   "id": "76deefbe",
   "metadata": {},
   "outputs": [],
   "source": [
    "data.to_pickle('../Downloads/BikesDataVars_new.pkl')"
   ]
  },
  {
   "cell_type": "code",
   "execution_count": 158,
   "id": "75b6a321",
   "metadata": {},
   "outputs": [
    {
     "data": {
      "text/html": [
       "<div>\n",
       "<style scoped>\n",
       "    .dataframe tbody tr th:only-of-type {\n",
       "        vertical-align: middle;\n",
       "    }\n",
       "\n",
       "    .dataframe tbody tr th {\n",
       "        vertical-align: top;\n",
       "    }\n",
       "\n",
       "    .dataframe thead th {\n",
       "        text-align: right;\n",
       "    }\n",
       "</style>\n",
       "<table border=\"1\" class=\"dataframe\">\n",
       "  <thead>\n",
       "    <tr style=\"text-align: right;\">\n",
       "      <th></th>\n",
       "      <th>name</th>\n",
       "      <th>align</th>\n",
       "      <th>eye</th>\n",
       "      <th>hair</th>\n",
       "      <th>sex</th>\n",
       "      <th>appearances</th>\n",
       "      <th>first_appearance</th>\n",
       "    </tr>\n",
       "  </thead>\n",
       "  <tbody>\n",
       "    <tr>\n",
       "      <th>0</th>\n",
       "      <td>Spider-Man (Peter Parker)</td>\n",
       "      <td>Добрый персонаж</td>\n",
       "      <td>Карие глаза</td>\n",
       "      <td>Каштановые волосы</td>\n",
       "      <td>Мужской персонаж</td>\n",
       "      <td>4043.0</td>\n",
       "      <td>1962.0</td>\n",
       "    </tr>\n",
       "    <tr>\n",
       "      <th>1</th>\n",
       "      <td>Captain America (Steven Rogers)</td>\n",
       "      <td>Добрый персонаж</td>\n",
       "      <td>Голубые глаза</td>\n",
       "      <td>Белые волосы</td>\n",
       "      <td>Мужской персонаж</td>\n",
       "      <td>3360.0</td>\n",
       "      <td>1941.0</td>\n",
       "    </tr>\n",
       "    <tr>\n",
       "      <th>2</th>\n",
       "      <td>Wolverine (James \\\"Logan\\\" Howlett)</td>\n",
       "      <td>Нейтральный персонаж</td>\n",
       "      <td>Голубые глаза</td>\n",
       "      <td>Черные волосы</td>\n",
       "      <td>Мужской персонаж</td>\n",
       "      <td>3061.0</td>\n",
       "      <td>1974.0</td>\n",
       "    </tr>\n",
       "    <tr>\n",
       "      <th>3</th>\n",
       "      <td>Iron Man (Anthony \\\"Tony\\\" Stark)</td>\n",
       "      <td>Добрый персонаж</td>\n",
       "      <td>Голубые глаза</td>\n",
       "      <td>Черные волосы</td>\n",
       "      <td>Мужской персонаж</td>\n",
       "      <td>2961.0</td>\n",
       "      <td>1963.0</td>\n",
       "    </tr>\n",
       "    <tr>\n",
       "      <th>4</th>\n",
       "      <td>Thor (Thor Odinson)</td>\n",
       "      <td>Добрый персонаж</td>\n",
       "      <td>Голубые глаза</td>\n",
       "      <td>Русые волосы</td>\n",
       "      <td>Мужской персонаж</td>\n",
       "      <td>2258.0</td>\n",
       "      <td>1950.0</td>\n",
       "    </tr>\n",
       "  </tbody>\n",
       "</table>\n",
       "</div>"
      ],
      "text/plain": [
       "                                  name                 align            eye  \\\n",
       "0            Spider-Man (Peter Parker)       Добрый персонаж    Карие глаза   \n",
       "1      Captain America (Steven Rogers)       Добрый персонаж  Голубые глаза   \n",
       "2  Wolverine (James \\\"Logan\\\" Howlett)  Нейтральный персонаж  Голубые глаза   \n",
       "3    Iron Man (Anthony \\\"Tony\\\" Stark)       Добрый персонаж  Голубые глаза   \n",
       "4                  Thor (Thor Odinson)       Добрый персонаж  Голубые глаза   \n",
       "\n",
       "                hair               sex  appearances  first_appearance  \n",
       "0  Каштановые волосы  Мужской персонаж       4043.0            1962.0  \n",
       "1       Белые волосы  Мужской персонаж       3360.0            1941.0  \n",
       "2      Черные волосы  Мужской персонаж       3061.0            1974.0  \n",
       "3      Черные волосы  Мужской персонаж       2961.0            1963.0  \n",
       "4       Русые волосы  Мужской персонаж       2258.0            1950.0  "
      ]
     },
     "execution_count": 158,
     "metadata": {},
     "output_type": "execute_result"
    }
   ],
   "source": [
    "# ТЕСТ\n",
    "marvel = pd.read_excel('../Downloads/MarvelComicCaracters.xlsx')\n",
    "marvel.head()"
   ]
  },
  {
   "cell_type": "code",
   "execution_count": 159,
   "id": "7c1bfee6",
   "metadata": {},
   "outputs": [
    {
     "data": {
      "text/plain": [
       "(1096, 7)"
      ]
     },
     "execution_count": 159,
     "metadata": {},
     "output_type": "execute_result"
    }
   ],
   "source": [
    "marvel[marvel['appearances'].isna()].shape"
   ]
  },
  {
   "cell_type": "code",
   "execution_count": 168,
   "id": "bfb570d2",
   "metadata": {},
   "outputs": [
    {
     "data": {
      "text/plain": [
       "count    15280.000000\n",
       "mean        17.033377\n",
       "std         96.372959\n",
       "min          1.000000\n",
       "25%          1.000000\n",
       "50%          3.000000\n",
       "75%          8.000000\n",
       "max       4043.000000\n",
       "Name: appearances, dtype: float64"
      ]
     },
     "execution_count": 168,
     "metadata": {},
     "output_type": "execute_result"
    }
   ],
   "source": [
    "marvel = marvel.dropna(subset=['appearances'])\n",
    "marvel.isna().sum()\n",
    "marvel['appearances'].describe()"
   ]
  },
  {
   "cell_type": "code",
   "execution_count": 176,
   "id": "09052afe",
   "metadata": {},
   "outputs": [
    {
     "name": "stdout",
     "output_type": "stream",
     "text": [
      "-9.5 18.5\n"
     ]
    },
    {
     "data": {
      "text/html": [
       "<div>\n",
       "<style scoped>\n",
       "    .dataframe tbody tr th:only-of-type {\n",
       "        vertical-align: middle;\n",
       "    }\n",
       "\n",
       "    .dataframe tbody tr th {\n",
       "        vertical-align: top;\n",
       "    }\n",
       "\n",
       "    .dataframe thead th {\n",
       "        text-align: right;\n",
       "    }\n",
       "</style>\n",
       "<table border=\"1\" class=\"dataframe\">\n",
       "  <thead>\n",
       "    <tr style=\"text-align: right;\">\n",
       "      <th></th>\n",
       "      <th>appearances</th>\n",
       "      <th>first_appearance</th>\n",
       "    </tr>\n",
       "  </thead>\n",
       "  <tbody>\n",
       "    <tr>\n",
       "      <th>count</th>\n",
       "      <td>15280.000000</td>\n",
       "      <td>14665.000000</td>\n",
       "    </tr>\n",
       "    <tr>\n",
       "      <th>mean</th>\n",
       "      <td>17.033377</td>\n",
       "      <td>1984.692260</td>\n",
       "    </tr>\n",
       "    <tr>\n",
       "      <th>std</th>\n",
       "      <td>96.372959</td>\n",
       "      <td>19.806938</td>\n",
       "    </tr>\n",
       "    <tr>\n",
       "      <th>min</th>\n",
       "      <td>1.000000</td>\n",
       "      <td>1939.000000</td>\n",
       "    </tr>\n",
       "    <tr>\n",
       "      <th>25%</th>\n",
       "      <td>1.000000</td>\n",
       "      <td>1974.000000</td>\n",
       "    </tr>\n",
       "    <tr>\n",
       "      <th>50%</th>\n",
       "      <td>3.000000</td>\n",
       "      <td>1989.000000</td>\n",
       "    </tr>\n",
       "    <tr>\n",
       "      <th>75%</th>\n",
       "      <td>8.000000</td>\n",
       "      <td>2000.000000</td>\n",
       "    </tr>\n",
       "    <tr>\n",
       "      <th>max</th>\n",
       "      <td>4043.000000</td>\n",
       "      <td>2013.000000</td>\n",
       "    </tr>\n",
       "  </tbody>\n",
       "</table>\n",
       "</div>"
      ],
      "text/plain": [
       "        appearances  first_appearance\n",
       "count  15280.000000      14665.000000\n",
       "mean      17.033377       1984.692260\n",
       "std       96.372959         19.806938\n",
       "min        1.000000       1939.000000\n",
       "25%        1.000000       1974.000000\n",
       "50%        3.000000       1989.000000\n",
       "75%        8.000000       2000.000000\n",
       "max     4043.000000       2013.000000"
      ]
     },
     "execution_count": 176,
     "metadata": {},
     "output_type": "execute_result"
    }
   ],
   "source": [
    "q1 = np.percentile(marvel['appearances'], 25)\n",
    "q3 = np.percentile(marvel['appearances'], 75)\n",
    "iqr = q3 - q1\n",
    "bottom = q1 - 1.5 * iqr\n",
    "top = q3 + 1.5 * iqr\n",
    "print(bottom, top)\n",
    "marvel.describe()"
   ]
  },
  {
   "cell_type": "code",
   "execution_count": 177,
   "id": "ee22c62c",
   "metadata": {},
   "outputs": [
    {
     "data": {
      "text/plain": [
       "(1938, 7)"
      ]
     },
     "execution_count": 177,
     "metadata": {},
     "output_type": "execute_result"
    }
   ],
   "source": [
    "marvel[marvel['appearances'] > top].shape"
   ]
  },
  {
   "cell_type": "code",
   "execution_count": 178,
   "id": "4e6ea92e",
   "metadata": {},
   "outputs": [
    {
     "data": {
      "text/plain": [
       "(944, 7)"
      ]
     },
     "execution_count": 178,
     "metadata": {},
     "output_type": "execute_result"
    }
   ],
   "source": [
    "marvel[(marvel['appearances'] > top) \n",
    "                   & (marvel_without_tem['align'] == 'Добрый персонаж')].shape"
   ]
  },
  {
   "cell_type": "code",
   "execution_count": 179,
   "id": "8381ee66",
   "metadata": {},
   "outputs": [
    {
     "data": {
      "text/plain": [
       "(551, 7)"
      ]
     },
     "execution_count": 179,
     "metadata": {},
     "output_type": "execute_result"
    }
   ],
   "source": [
    "marvel[(marvel['appearances'] > top) \n",
    "                   & (marvel_without_tem['align'] == 'Злой персонаж')].shape"
   ]
  },
  {
   "cell_type": "code",
   "execution_count": 187,
   "id": "38582764",
   "metadata": {},
   "outputs": [
    {
     "name": "stdout",
     "output_type": "stream",
     "text": [
      "-2.691982415279326 5.374696975177229\n"
     ]
    },
    {
     "data": {
      "text/plain": [
       "(195, 8)"
      ]
     },
     "execution_count": 187,
     "metadata": {},
     "output_type": "execute_result"
    }
   ],
   "source": [
    "marvel['log_app'] = np.log(marvel['appearances'])\n",
    "mean = marvel['log_app'].mean()\n",
    "std = marvel['log_app'].std()\n",
    "std_bottom = mean - 3 * std\n",
    "std_top = mean + 3 * std\n",
    "print(std_bottom, std_top)\n",
    "marvel[marvel['log_app'] > std_top].shape"
   ]
  },
  {
   "cell_type": "code",
   "execution_count": 189,
   "id": "9d67e50a",
   "metadata": {},
   "outputs": [
    {
     "name": "stdout",
     "output_type": "stream",
     "text": [
      "-272.0855011626842 306.1522550893858\n"
     ]
    },
    {
     "data": {
      "text/plain": [
       "(128, 8)"
      ]
     },
     "execution_count": 189,
     "metadata": {},
     "output_type": "execute_result"
    }
   ],
   "source": [
    "mean = marvel['appearances'].mean()\n",
    "std = marvel['appearances'].std()\n",
    "std_bottom = mean - 3 * std\n",
    "std_top = mean + 3 * std\n",
    "print(std_bottom, std_top)\n",
    "marvel[marvel['appearances'] > std_top].shape"
   ]
  },
  {
   "cell_type": "code",
   "execution_count": 193,
   "id": "9800c8c0",
   "metadata": {},
   "outputs": [
    {
     "name": "stdout",
     "output_type": "stream",
     "text": [
      "-3.0000981723575664 3.000098172357563\n"
     ]
    },
    {
     "data": {
      "text/plain": [
       "(42, 9)"
      ]
     },
     "execution_count": 193,
     "metadata": {},
     "output_type": "execute_result"
    }
   ],
   "source": [
    "marvel['Z_score'] = scipy.stats.zscore(marvel['appearances'])\n",
    "mean = marvel['Z_score'].mean()\n",
    "std = marvel['Z_score'].std()\n",
    "Z_std_bottom = mean - 3 * std\n",
    "Z_std_top = mean + 3 * std\n",
    "print(Z_std_bottom, Z_std_top)\n",
    "marvel[(marvel['Z_score'] > Z_std_top) & (marvel['sex'] == 'Женский персонаж')].shape"
   ]
  },
  {
   "cell_type": "code",
   "execution_count": 197,
   "id": "9385cf32",
   "metadata": {},
   "outputs": [
    {
     "name": "stdout",
     "output_type": "stream",
     "text": [
      "18.5 306.1522550893858\n"
     ]
    },
    {
     "data": {
      "text/plain": [
       "(15152, 9)"
      ]
     },
     "execution_count": 197,
     "metadata": {},
     "output_type": "execute_result"
    }
   ],
   "source": [
    "print(top, std_top)\n",
    "marvel[marvel['appearances'] <= top].shape # 13342\n",
    "marvel[marvel['appearances'] <= std_top].shape # 15152"
   ]
  },
  {
   "cell_type": "code",
   "execution_count": 205,
   "id": "daf6ced5",
   "metadata": {},
   "outputs": [
    {
     "data": {
      "text/plain": [
       "align                 sex                      hair                    \n",
       "Добрый персонаж       Безполый персонаж        Без волос                     3\n",
       "                                               Разноцветные волосы           1\n",
       "                      Гендерфлюидный персонаж  Каштановые волосы             1\n",
       "                      Женский персонаж         Черные волосы               418\n",
       "                                               Русые волосы                309\n",
       "                                                                          ... \n",
       "Нейтральный персонаж  Мужской персонаж         Розовые волосы                2\n",
       "                                               Серебристые волосы            2\n",
       "                                               Золотые волосы                1\n",
       "                                               Светло-каштановые волосы      1\n",
       "                                               Фиолетовые волосы             1\n",
       "Name: hair, Length: 97, dtype: int64"
      ]
     },
     "execution_count": 205,
     "metadata": {},
     "output_type": "execute_result"
    }
   ],
   "source": [
    "marvel.groupby(['align', 'sex'])['hair'].value_counts()"
   ]
  },
  {
   "cell_type": "code",
   "execution_count": 208,
   "id": "bc126af6",
   "metadata": {},
   "outputs": [
    {
     "data": {
      "text/plain": [
       "align                 sex                      hair                    \n",
       "Добрый персонаж       Безполый персонаж        Без волос                     3\n",
       "                                               Разноцветные волосы           1\n",
       "                      Гендерфлюидный персонаж  Каштановые волосы             1\n",
       "                      Женский персонаж         Черные волосы               410\n",
       "                                               Русые волосы                302\n",
       "                                                                          ... \n",
       "Нейтральный персонаж  Мужской персонаж         Светло-розовые волосы         2\n",
       "                                               Серебристые волосы            2\n",
       "                                               Золотые волосы                1\n",
       "                                               Светло-каштановые волосы      1\n",
       "                                               Фиолетовые волосы             1\n",
       "Name: hair, Length: 96, dtype: int64"
      ]
     },
     "execution_count": 208,
     "metadata": {},
     "output_type": "execute_result"
    }
   ],
   "source": [
    "temp = marvel[marvel['appearances'] <= std_top]\n",
    "temp.groupby(['align', 'sex'])['hair'].value_counts()"
   ]
  },
  {
   "cell_type": "code",
   "execution_count": 209,
   "id": "37cf3220",
   "metadata": {},
   "outputs": [
    {
     "data": {
      "text/plain": [
       "align\n",
       "Добрый персонаж         5.0\n",
       "Злой персонаж           3.0\n",
       "Нейтральный персонаж    3.0\n",
       "Name: appearances, dtype: float64"
      ]
     },
     "execution_count": 209,
     "metadata": {},
     "output_type": "execute_result"
    }
   ],
   "source": [
    "marvel.groupby(['align'])['appearances'].median()"
   ]
  },
  {
   "cell_type": "code",
   "execution_count": 210,
   "id": "12fccf75",
   "metadata": {},
   "outputs": [
    {
     "data": {
      "text/plain": [
       "align\n",
       "Добрый персонаж         4.5\n",
       "Злой персонаж           3.0\n",
       "Нейтральный персонаж    3.0\n",
       "Name: appearances, dtype: float64"
      ]
     },
     "execution_count": 210,
     "metadata": {},
     "output_type": "execute_result"
    }
   ],
   "source": [
    "temp = marvel[marvel['appearances'] <= std_top]\n",
    "temp.groupby(['align'])['appearances'].median()"
   ]
  },
  {
   "cell_type": "code",
   "execution_count": null,
   "id": "10f7d059",
   "metadata": {},
   "outputs": [],
   "source": []
  }
 ],
 "metadata": {
  "kernelspec": {
   "display_name": "Python 3 (ipykernel)",
   "language": "python",
   "name": "python3"
  },
  "language_info": {
   "codemirror_mode": {
    "name": "ipython",
    "version": 3
   },
   "file_extension": ".py",
   "mimetype": "text/x-python",
   "name": "python",
   "nbconvert_exporter": "python",
   "pygments_lexer": "ipython3",
   "version": "3.9.12"
  }
 },
 "nbformat": 4,
 "nbformat_minor": 5
}
