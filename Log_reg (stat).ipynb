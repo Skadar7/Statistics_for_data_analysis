{
 "cells": [
  {
   "cell_type": "code",
   "execution_count": 1,
   "id": "aca65af2",
   "metadata": {},
   "outputs": [
    {
     "data": {
      "text/html": [
       "<div>\n",
       "<style scoped>\n",
       "    .dataframe tbody tr th:only-of-type {\n",
       "        vertical-align: middle;\n",
       "    }\n",
       "\n",
       "    .dataframe tbody tr th {\n",
       "        vertical-align: top;\n",
       "    }\n",
       "\n",
       "    .dataframe thead th {\n",
       "        text-align: right;\n",
       "    }\n",
       "</style>\n",
       "<table border=\"1\" class=\"dataframe\">\n",
       "  <thead>\n",
       "    <tr style=\"text-align: right;\">\n",
       "      <th></th>\n",
       "      <th>Date</th>\n",
       "      <th>Hour</th>\n",
       "      <th>Temperature</th>\n",
       "      <th>Humidity</th>\n",
       "      <th>Wind speed</th>\n",
       "      <th>Rainfall</th>\n",
       "      <th>Snowfall</th>\n",
       "      <th>Seasons</th>\n",
       "      <th>Holiday</th>\n",
       "      <th>Functioning Day</th>\n",
       "      <th>Rental Count</th>\n",
       "      <th>Normal Humidity</th>\n",
       "      <th>Temperature Category</th>\n",
       "      <th>Good Weather</th>\n",
       "    </tr>\n",
       "  </thead>\n",
       "  <tbody>\n",
       "    <tr>\n",
       "      <th>0</th>\n",
       "      <td>2017-12-01</td>\n",
       "      <td>0</td>\n",
       "      <td>-5.2</td>\n",
       "      <td>37</td>\n",
       "      <td>2.2</td>\n",
       "      <td>0.0</td>\n",
       "      <td>0.0</td>\n",
       "      <td>Winter</td>\n",
       "      <td>0</td>\n",
       "      <td>True</td>\n",
       "      <td>257</td>\n",
       "      <td>0</td>\n",
       "      <td>Freezing</td>\n",
       "      <td>0</td>\n",
       "    </tr>\n",
       "    <tr>\n",
       "      <th>1</th>\n",
       "      <td>2017-12-01</td>\n",
       "      <td>1</td>\n",
       "      <td>-5.5</td>\n",
       "      <td>38</td>\n",
       "      <td>0.8</td>\n",
       "      <td>0.0</td>\n",
       "      <td>0.0</td>\n",
       "      <td>Winter</td>\n",
       "      <td>0</td>\n",
       "      <td>True</td>\n",
       "      <td>219</td>\n",
       "      <td>0</td>\n",
       "      <td>Freezing</td>\n",
       "      <td>0</td>\n",
       "    </tr>\n",
       "    <tr>\n",
       "      <th>2</th>\n",
       "      <td>2017-12-01</td>\n",
       "      <td>2</td>\n",
       "      <td>-6.0</td>\n",
       "      <td>39</td>\n",
       "      <td>1.0</td>\n",
       "      <td>0.0</td>\n",
       "      <td>0.0</td>\n",
       "      <td>Winter</td>\n",
       "      <td>0</td>\n",
       "      <td>True</td>\n",
       "      <td>162</td>\n",
       "      <td>0</td>\n",
       "      <td>Freezing</td>\n",
       "      <td>0</td>\n",
       "    </tr>\n",
       "    <tr>\n",
       "      <th>3</th>\n",
       "      <td>2017-12-01</td>\n",
       "      <td>3</td>\n",
       "      <td>-6.2</td>\n",
       "      <td>40</td>\n",
       "      <td>0.9</td>\n",
       "      <td>0.0</td>\n",
       "      <td>0.0</td>\n",
       "      <td>Winter</td>\n",
       "      <td>0</td>\n",
       "      <td>True</td>\n",
       "      <td>148</td>\n",
       "      <td>1</td>\n",
       "      <td>Freezing</td>\n",
       "      <td>0</td>\n",
       "    </tr>\n",
       "    <tr>\n",
       "      <th>4</th>\n",
       "      <td>2017-12-01</td>\n",
       "      <td>4</td>\n",
       "      <td>-6.0</td>\n",
       "      <td>36</td>\n",
       "      <td>2.3</td>\n",
       "      <td>0.0</td>\n",
       "      <td>0.0</td>\n",
       "      <td>Winter</td>\n",
       "      <td>0</td>\n",
       "      <td>True</td>\n",
       "      <td>97</td>\n",
       "      <td>0</td>\n",
       "      <td>Freezing</td>\n",
       "      <td>0</td>\n",
       "    </tr>\n",
       "  </tbody>\n",
       "</table>\n",
       "</div>"
      ],
      "text/plain": [
       "        Date  Hour  Temperature  Humidity  Wind speed  Rainfall  Snowfall  \\\n",
       "0 2017-12-01     0         -5.2        37         2.2       0.0       0.0   \n",
       "1 2017-12-01     1         -5.5        38         0.8       0.0       0.0   \n",
       "2 2017-12-01     2         -6.0        39         1.0       0.0       0.0   \n",
       "3 2017-12-01     3         -6.2        40         0.9       0.0       0.0   \n",
       "4 2017-12-01     4         -6.0        36         2.3       0.0       0.0   \n",
       "\n",
       "  Seasons  Holiday  Functioning Day  Rental Count  Normal Humidity  \\\n",
       "0  Winter        0             True           257                0   \n",
       "1  Winter        0             True           219                0   \n",
       "2  Winter        0             True           162                0   \n",
       "3  Winter        0             True           148                1   \n",
       "4  Winter        0             True            97                0   \n",
       "\n",
       "  Temperature Category  Good Weather  \n",
       "0             Freezing             0  \n",
       "1             Freezing             0  \n",
       "2             Freezing             0  \n",
       "3             Freezing             0  \n",
       "4             Freezing             0  "
      ]
     },
     "execution_count": 1,
     "metadata": {},
     "output_type": "execute_result"
    }
   ],
   "source": [
    "import pandas as pd\n",
    "import seaborn as sns\n",
    "import matplotlib.pyplot as plt\n",
    "import scipy.stats\n",
    "import statsmodels.api as sm\n",
    "import numpy as np\n",
    "\n",
    "bikes = pd.read_pickle('../Downloads/BikesDataVars_new.pkl')\n",
    "bikes.head()"
   ]
  },
  {
   "cell_type": "code",
   "execution_count": 4,
   "id": "9c7c060f",
   "metadata": {},
   "outputs": [
    {
     "data": {
      "text/html": [
       "<div>\n",
       "<style scoped>\n",
       "    .dataframe tbody tr th:only-of-type {\n",
       "        vertical-align: middle;\n",
       "    }\n",
       "\n",
       "    .dataframe tbody tr th {\n",
       "        vertical-align: top;\n",
       "    }\n",
       "\n",
       "    .dataframe thead th {\n",
       "        text-align: right;\n",
       "    }\n",
       "</style>\n",
       "<table border=\"1\" class=\"dataframe\">\n",
       "  <thead>\n",
       "    <tr style=\"text-align: right;\">\n",
       "      <th></th>\n",
       "      <th>Rental Count</th>\n",
       "      <th>Temperature</th>\n",
       "      <th>Humidity</th>\n",
       "      <th>Wind speed</th>\n",
       "    </tr>\n",
       "    <tr>\n",
       "      <th>week</th>\n",
       "      <th></th>\n",
       "      <th></th>\n",
       "      <th></th>\n",
       "      <th></th>\n",
       "    </tr>\n",
       "  </thead>\n",
       "  <tbody>\n",
       "    <tr>\n",
       "      <th>1</th>\n",
       "      <td>39441</td>\n",
       "      <td>-2.694940</td>\n",
       "      <td>43.660714</td>\n",
       "      <td>1.524405</td>\n",
       "    </tr>\n",
       "    <tr>\n",
       "      <th>2</th>\n",
       "      <td>30871</td>\n",
       "      <td>-5.079762</td>\n",
       "      <td>53.958333</td>\n",
       "      <td>1.995833</td>\n",
       "    </tr>\n",
       "    <tr>\n",
       "      <th>3</th>\n",
       "      <td>42193</td>\n",
       "      <td>2.662500</td>\n",
       "      <td>55.178571</td>\n",
       "      <td>1.385119</td>\n",
       "    </tr>\n",
       "    <tr>\n",
       "      <th>4</th>\n",
       "      <td>23079</td>\n",
       "      <td>-10.038690</td>\n",
       "      <td>38.410714</td>\n",
       "      <td>2.575000</td>\n",
       "    </tr>\n",
       "    <tr>\n",
       "      <th>5</th>\n",
       "      <td>28415</td>\n",
       "      <td>-5.650595</td>\n",
       "      <td>47.815476</td>\n",
       "      <td>2.256548</td>\n",
       "    </tr>\n",
       "  </tbody>\n",
       "</table>\n",
       "</div>"
      ],
      "text/plain": [
       "      Rental Count  Temperature   Humidity  Wind speed\n",
       "week                                                  \n",
       "1            39441    -2.694940  43.660714    1.524405\n",
       "2            30871    -5.079762  53.958333    1.995833\n",
       "3            42193     2.662500  55.178571    1.385119\n",
       "4            23079   -10.038690  38.410714    2.575000\n",
       "5            28415    -5.650595  47.815476    2.256548"
      ]
     },
     "execution_count": 4,
     "metadata": {},
     "output_type": "execute_result"
    }
   ],
   "source": [
    "bikes_sum = bikes.groupby(bikes['Date'].dt.isocalendar().week)['Rental Count'].sum()\n",
    "temp_mean = bikes.groupby(bikes['Date'].dt.isocalendar().week)['Temperature'].mean()\n",
    "humidity_mean = bikes.groupby(bikes['Date'].dt.isocalendar().week)['Humidity'].mean()\n",
    "wind_meam = bikes.groupby(bikes['Date'].dt.isocalendar().week)['Wind speed'].mean()\n",
    "\n",
    "bikes_week = pd.concat([bikes_sum, temp_mean, humidity_mean, wind_meam], axis=1)\n",
    "bikes_week.head()"
   ]
  },
  {
   "cell_type": "code",
   "execution_count": 5,
   "id": "b16e2aa6",
   "metadata": {},
   "outputs": [
    {
     "data": {
      "image/png": "[encoded data removed]",
      "text/plain": [
       "<Figure size 1440x1440 with 2 Axes>"
      ]
     },
     "metadata": {
      "needs_background": "light"
     },
     "output_type": "display_data"
    }
   ],
   "source": [
    "plt.figure(figsize=(20, 20))\n",
    "p = sns.heatmap(bikes_week.corr(), annot=True, cmap='RdYlGn', vmin=-1, vmax=1)"
   ]
  },
  {
   "cell_type": "code",
   "execution_count": 7,
   "id": "b9b91973",
   "metadata": {},
   "outputs": [
    {
     "data": {
      "image/png": "[encoded data removed]",
      "text/plain": [
       "<Figure size 720x720 with 20 Axes>"
      ]
     },
     "metadata": {
      "needs_background": "light"
     },
     "output_type": "display_data"
    }
   ],
   "source": [
    "sns.pairplot(bikes_week);"
   ]
  },
  {
   "cell_type": "code",
   "execution_count": 9,
   "id": "b4e053d1",
   "metadata": {},
   "outputs": [
    {
     "name": "stdout",
     "output_type": "stream",
     "text": [
      "LinregressResult(slope=4309.320603391841, intercept=61741.699243285024, rvalue=0.8458075200534889, pvalue=2.992184317240584e-15, stderr=384.39441030665824, intercept_stderr=6596.057490467339)\n"
     ]
    }
   ],
   "source": [
    "X = bikes_week['Temperature']\n",
    "y = bikes_week['Rental Count']\n",
    "\n",
    "res = scipy.stats.linregress(X, y)\n",
    "print(res)"
   ]
  },
  {
   "cell_type": "code",
   "execution_count": 10,
   "id": "d7b1b10b",
   "metadata": {},
   "outputs": [
    {
     "data": {
      "text/plain": [
       "0.7153903609790331"
      ]
     },
     "execution_count": 10,
     "metadata": {},
     "output_type": "execute_result"
    }
   ],
   "source": [
    "r_sq = res.rvalue ** 2\n",
    "r_sq"
   ]
  },
  {
   "cell_type": "code",
   "execution_count": 13,
   "id": "9f971f0d",
   "metadata": {},
   "outputs": [
    {
     "data": {
      "image/png": "[encoded data removed]",
      "text/plain": [
       "<Figure size 432x288 with 1 Axes>"
      ]
     },
     "metadata": {
      "needs_background": "light"
     },
     "output_type": "display_data"
    }
   ],
   "source": [
    "plt.scatter(X, y, label='Оригинальные данные')\n",
    "plt.plot(X, res.intercept + res.slope * X, 'r', label='Линия регрессия')\n",
    "plt.legend()\n",
    "plt.show()"
   ]
  },
  {
   "cell_type": "code",
   "execution_count": 17,
   "id": "cae9d77b",
   "metadata": {},
   "outputs": [
    {
     "name": "stdout",
     "output_type": "stream",
     "text": [
      "                            OLS Regression Results                            \n",
      "==============================================================================\n",
      "Dep. Variable:           Rental Count   R-squared:                       0.715\n",
      "Model:                            OLS   Adj. R-squared:                  0.710\n",
      "Method:                 Least Squares   F-statistic:                     125.7\n",
      "Date:                Sun, 05 Mar 2023   Prob (F-statistic):           2.99e-15\n",
      "Time:                        16:58:05   Log-Likelihood:                -611.13\n",
      "No. Observations:                  52   AIC:                             1226.\n",
      "Df Residuals:                      50   BIC:                             1230.\n",
      "Df Model:                           1                                         \n",
      "Covariance Type:            nonrobust                                         \n",
      "===============================================================================\n",
      "                  coef    std err          t      P>|t|      [0.025      0.975]\n",
      "-------------------------------------------------------------------------------\n",
      "const        6.174e+04   6596.057      9.360      0.000    4.85e+04     7.5e+04\n",
      "Temperature  4309.3206    384.394     11.211      0.000    3537.242    5081.399\n",
      "==============================================================================\n",
      "Omnibus:                        2.064   Durbin-Watson:                   1.050\n",
      "Prob(Omnibus):                  0.356   Jarque-Bera (JB):                1.894\n",
      "Skew:                           0.369   Prob(JB):                        0.388\n",
      "Kurtosis:                       2.425   Cond. No.                         26.1\n",
      "==============================================================================\n",
      "\n",
      "Notes:\n",
      "[1] Standard Errors assume that the covariance matrix of the errors is correctly specified.\n"
     ]
    }
   ],
   "source": [
    "X_simple = bikes_week['Temperature']\n",
    "y = bikes_week['Rental Count']\n",
    "X_simple_constatnt = sm.add_constant(X_simple)\n",
    "\n",
    "model = sm.OLS(y, X_simple_constatnt)\n",
    "res_simple = model.fit()\n",
    "print(res_simple.summary())"
   ]
  },
  {
   "cell_type": "code",
   "execution_count": 18,
   "id": "12aa3aa7",
   "metadata": {},
   "outputs": [
    {
     "name": "stdout",
     "output_type": "stream",
     "text": [
      "                            OLS Regression Results                            \n",
      "==============================================================================\n",
      "Dep. Variable:           Rental Count   R-squared:                       0.749\n",
      "Model:                            OLS   Adj. R-squared:                  0.733\n",
      "Method:                 Least Squares   F-statistic:                     47.63\n",
      "Date:                Sun, 05 Mar 2023   Prob (F-statistic):           1.99e-14\n",
      "Time:                        17:01:59   Log-Likelihood:                -607.91\n",
      "No. Observations:                  52   AIC:                             1224.\n",
      "Df Residuals:                      48   BIC:                             1232.\n",
      "Df Model:                           3                                         \n",
      "Covariance Type:            nonrobust                                         \n",
      "===============================================================================\n",
      "                  coef    std err          t      P>|t|      [0.025      0.975]\n",
      "-------------------------------------------------------------------------------\n",
      "const        1.756e+05   4.61e+04      3.807      0.000    8.29e+04    2.68e+05\n",
      "Temperature  4606.1894    465.195      9.902      0.000    3670.853    5541.526\n",
      "Humidity    -1228.9486    555.006     -2.214      0.032   -2344.862    -113.035\n",
      "Wind speed  -2.675e+04    1.5e+04     -1.779      0.082    -5.7e+04    3491.505\n",
      "==============================================================================\n",
      "Omnibus:                        0.375   Durbin-Watson:                   0.867\n",
      "Prob(Omnibus):                  0.829   Jarque-Bera (JB):                0.542\n",
      "Skew:                           0.073   Prob(JB):                        0.762\n",
      "Kurtosis:                       2.521   Cond. No.                         694.\n",
      "==============================================================================\n",
      "\n",
      "Notes:\n",
      "[1] Standard Errors assume that the covariance matrix of the errors is correctly specified.\n"
     ]
    }
   ],
   "source": [
    "X_mult = sm.add_constant(bikes_week.drop('Rental Count', axis=1))\n",
    "\n",
    "model = sm.OLS(y, X_mult)\n",
    "res_mult = model.fit()\n",
    "print(res_mult.summary())"
   ]
  },
  {
   "cell_type": "code",
   "execution_count": 19,
   "id": "245fd808",
   "metadata": {},
   "outputs": [
    {
     "data": {
      "text/html": [
       "<div>\n",
       "<style scoped>\n",
       "    .dataframe tbody tr th:only-of-type {\n",
       "        vertical-align: middle;\n",
       "    }\n",
       "\n",
       "    .dataframe tbody tr th {\n",
       "        vertical-align: top;\n",
       "    }\n",
       "\n",
       "    .dataframe thead th {\n",
       "        text-align: right;\n",
       "    }\n",
       "</style>\n",
       "<table border=\"1\" class=\"dataframe\">\n",
       "  <thead>\n",
       "    <tr style=\"text-align: right;\">\n",
       "      <th></th>\n",
       "      <th>competitorname</th>\n",
       "      <th>chocolate</th>\n",
       "      <th>fruity</th>\n",
       "      <th>caramel</th>\n",
       "      <th>peanutyalmondy</th>\n",
       "      <th>nougat</th>\n",
       "      <th>crispedricewafer</th>\n",
       "      <th>hard</th>\n",
       "      <th>bar</th>\n",
       "      <th>pluribus</th>\n",
       "      <th>sugarpercent</th>\n",
       "      <th>pricepercent</th>\n",
       "      <th>winpercent</th>\n",
       "    </tr>\n",
       "  </thead>\n",
       "  <tbody>\n",
       "    <tr>\n",
       "      <th>0</th>\n",
       "      <td>100 Grand</td>\n",
       "      <td>1</td>\n",
       "      <td>0</td>\n",
       "      <td>1</td>\n",
       "      <td>0</td>\n",
       "      <td>0</td>\n",
       "      <td>1</td>\n",
       "      <td>0</td>\n",
       "      <td>1</td>\n",
       "      <td>0</td>\n",
       "      <td>0.732</td>\n",
       "      <td>0.860</td>\n",
       "      <td>66.971725</td>\n",
       "    </tr>\n",
       "    <tr>\n",
       "      <th>1</th>\n",
       "      <td>3 Musketeers</td>\n",
       "      <td>1</td>\n",
       "      <td>0</td>\n",
       "      <td>0</td>\n",
       "      <td>0</td>\n",
       "      <td>1</td>\n",
       "      <td>0</td>\n",
       "      <td>0</td>\n",
       "      <td>1</td>\n",
       "      <td>0</td>\n",
       "      <td>0.604</td>\n",
       "      <td>0.511</td>\n",
       "      <td>67.602936</td>\n",
       "    </tr>\n",
       "    <tr>\n",
       "      <th>2</th>\n",
       "      <td>One dime</td>\n",
       "      <td>0</td>\n",
       "      <td>0</td>\n",
       "      <td>0</td>\n",
       "      <td>0</td>\n",
       "      <td>0</td>\n",
       "      <td>0</td>\n",
       "      <td>0</td>\n",
       "      <td>0</td>\n",
       "      <td>0</td>\n",
       "      <td>0.011</td>\n",
       "      <td>0.116</td>\n",
       "      <td>32.261086</td>\n",
       "    </tr>\n",
       "    <tr>\n",
       "      <th>3</th>\n",
       "      <td>One quarter</td>\n",
       "      <td>0</td>\n",
       "      <td>0</td>\n",
       "      <td>0</td>\n",
       "      <td>0</td>\n",
       "      <td>0</td>\n",
       "      <td>0</td>\n",
       "      <td>0</td>\n",
       "      <td>0</td>\n",
       "      <td>0</td>\n",
       "      <td>0.011</td>\n",
       "      <td>0.511</td>\n",
       "      <td>46.116505</td>\n",
       "    </tr>\n",
       "    <tr>\n",
       "      <th>4</th>\n",
       "      <td>Air Heads</td>\n",
       "      <td>0</td>\n",
       "      <td>1</td>\n",
       "      <td>0</td>\n",
       "      <td>0</td>\n",
       "      <td>0</td>\n",
       "      <td>0</td>\n",
       "      <td>0</td>\n",
       "      <td>0</td>\n",
       "      <td>0</td>\n",
       "      <td>0.906</td>\n",
       "      <td>0.511</td>\n",
       "      <td>52.341465</td>\n",
       "    </tr>\n",
       "  </tbody>\n",
       "</table>\n",
       "</div>"
      ],
      "text/plain": [
       "  competitorname  chocolate  fruity  caramel  peanutyalmondy  nougat  \\\n",
       "0      100 Grand          1       0        1               0       0   \n",
       "1   3 Musketeers          1       0        0               0       1   \n",
       "2       One dime          0       0        0               0       0   \n",
       "3    One quarter          0       0        0               0       0   \n",
       "4      Air Heads          0       1        0               0       0   \n",
       "\n",
       "   crispedricewafer  hard  bar  pluribus  sugarpercent  pricepercent  \\\n",
       "0                 1     0    1         0         0.732         0.860   \n",
       "1                 0     0    1         0         0.604         0.511   \n",
       "2                 0     0    0         0         0.011         0.116   \n",
       "3                 0     0    0         0         0.011         0.511   \n",
       "4                 0     0    0         0         0.906         0.511   \n",
       "\n",
       "   winpercent  \n",
       "0   66.971725  \n",
       "1   67.602936  \n",
       "2   32.261086  \n",
       "3   46.116505  \n",
       "4   52.341465  "
      ]
     },
     "execution_count": 19,
     "metadata": {},
     "output_type": "execute_result"
    }
   ],
   "source": [
    "data = pd.read_csv('../Downloads/CandyData.csv')\n",
    "data.head()"
   ]
  },
  {
   "cell_type": "code",
   "execution_count": 20,
   "id": "6b1ca37b",
   "metadata": {},
   "outputs": [
    {
     "data": {
      "image/png": "[encoded data removed]",
      "text/plain": [
       "<Figure size 1440x1440 with 2 Axes>"
      ]
     },
     "metadata": {
      "needs_background": "light"
     },
     "output_type": "display_data"
    }
   ],
   "source": [
    "plt.figure(figsize=(20, 20))\n",
    "p = sns.heatmap(data[['sugarpercent', 'pricepercent', 'winpercent']].corr(), annot=True, cmap='RdYlGn', vmin=-1, vmax=1)"
   ]
  },
  {
   "cell_type": "code",
   "execution_count": 32,
   "id": "837adcb8",
   "metadata": {},
   "outputs": [
    {
     "name": "stdout",
     "output_type": "stream",
     "text": [
      "LinregressResult(slope=11.923863286810722, intercept=44.60944180753465, rvalue=0.22915065712800645, pvalue=0.034897896761698376, stderr=5.5596076890773345, intercept_stderr=3.0860859920175674) 0.052510023662197175\n"
     ]
    }
   ],
   "source": [
    "X = data['winpercent']\n",
    "y = data['sugarpercent']\n",
    "\n",
    "res = scipy.stats.linregress(y, X)\n",
    "print(res, res.rvalue ** 2)"
   ]
  },
  {
   "cell_type": "code",
   "execution_count": 26,
   "id": "a2baf583",
   "metadata": {},
   "outputs": [
    {
     "name": "stdout",
     "output_type": "stream",
     "text": [
      "                            OLS Regression Results                            \n",
      "==============================================================================\n",
      "Dep. Variable:             winpercent   R-squared:                       0.134\n",
      "Model:                            OLS   Adj. R-squared:                  0.113\n",
      "Method:                 Least Squares   F-statistic:                     6.353\n",
      "Date:                Sun, 05 Mar 2023   Prob (F-statistic):            0.00272\n",
      "Time:                        17:45:16   Log-Likelihood:                -342.53\n",
      "No. Observations:                  85   AIC:                             691.1\n",
      "Df Residuals:                      82   BIC:                             698.4\n",
      "Df Model:                           2                                         \n",
      "Covariance Type:            nonrobust                                         \n",
      "================================================================================\n",
      "                   coef    std err          t      P>|t|      [0.025      0.975]\n",
      "--------------------------------------------------------------------------------\n",
      "const           39.7867      3.438     11.574      0.000      32.948      46.625\n",
      "sugarpercent     6.7311      5.664      1.188      0.238      -4.536      17.998\n",
      "pricepercent    15.5865      5.605      2.781      0.007       4.436      26.737\n",
      "==============================================================================\n",
      "Omnibus:                        0.572   Durbin-Watson:                   1.424\n",
      "Prob(Omnibus):                  0.751   Jarque-Bera (JB):                0.467\n",
      "Skew:                           0.180   Prob(JB):                        0.792\n",
      "Kurtosis:                       2.946   Cond. No.                         5.27\n",
      "==============================================================================\n",
      "\n",
      "Notes:\n",
      "[1] Standard Errors assume that the covariance matrix of the errors is correctly specified.\n"
     ]
    }
   ],
   "source": [
    "X_mult = sm.add_constant(data[['sugarpercent', 'pricepercent']])\n",
    "y = data['winpercent']\n",
    "model = sm.OLS(y, X_mult)\n",
    "res_mult = model.fit()\n",
    "print(res_mult.summary())"
   ]
  },
  {
   "cell_type": "code",
   "execution_count": 2,
   "id": "9dba8bcd",
   "metadata": {},
   "outputs": [
    {
     "data": {
      "text/html": [
       "<div>\n",
       "<style scoped>\n",
       "    .dataframe tbody tr th:only-of-type {\n",
       "        vertical-align: middle;\n",
       "    }\n",
       "\n",
       "    .dataframe tbody tr th {\n",
       "        vertical-align: top;\n",
       "    }\n",
       "\n",
       "    .dataframe thead th {\n",
       "        text-align: right;\n",
       "    }\n",
       "</style>\n",
       "<table border=\"1\" class=\"dataframe\">\n",
       "  <thead>\n",
       "    <tr style=\"text-align: right;\">\n",
       "      <th></th>\n",
       "      <th>age</th>\n",
       "      <th>sex</th>\n",
       "      <th>cp</th>\n",
       "      <th>trestbps</th>\n",
       "      <th>chol</th>\n",
       "      <th>fbs</th>\n",
       "      <th>restecg</th>\n",
       "      <th>thalach</th>\n",
       "      <th>exang</th>\n",
       "      <th>target</th>\n",
       "    </tr>\n",
       "  </thead>\n",
       "  <tbody>\n",
       "    <tr>\n",
       "      <th>0</th>\n",
       "      <td>63</td>\n",
       "      <td>1</td>\n",
       "      <td>3</td>\n",
       "      <td>145</td>\n",
       "      <td>233</td>\n",
       "      <td>1</td>\n",
       "      <td>0</td>\n",
       "      <td>150</td>\n",
       "      <td>0</td>\n",
       "      <td>1</td>\n",
       "    </tr>\n",
       "    <tr>\n",
       "      <th>1</th>\n",
       "      <td>37</td>\n",
       "      <td>1</td>\n",
       "      <td>2</td>\n",
       "      <td>130</td>\n",
       "      <td>250</td>\n",
       "      <td>0</td>\n",
       "      <td>1</td>\n",
       "      <td>187</td>\n",
       "      <td>0</td>\n",
       "      <td>1</td>\n",
       "    </tr>\n",
       "    <tr>\n",
       "      <th>2</th>\n",
       "      <td>41</td>\n",
       "      <td>0</td>\n",
       "      <td>1</td>\n",
       "      <td>130</td>\n",
       "      <td>204</td>\n",
       "      <td>0</td>\n",
       "      <td>0</td>\n",
       "      <td>172</td>\n",
       "      <td>0</td>\n",
       "      <td>1</td>\n",
       "    </tr>\n",
       "    <tr>\n",
       "      <th>3</th>\n",
       "      <td>56</td>\n",
       "      <td>1</td>\n",
       "      <td>1</td>\n",
       "      <td>120</td>\n",
       "      <td>236</td>\n",
       "      <td>0</td>\n",
       "      <td>1</td>\n",
       "      <td>178</td>\n",
       "      <td>0</td>\n",
       "      <td>1</td>\n",
       "    </tr>\n",
       "    <tr>\n",
       "      <th>4</th>\n",
       "      <td>57</td>\n",
       "      <td>0</td>\n",
       "      <td>0</td>\n",
       "      <td>120</td>\n",
       "      <td>354</td>\n",
       "      <td>0</td>\n",
       "      <td>1</td>\n",
       "      <td>163</td>\n",
       "      <td>1</td>\n",
       "      <td>1</td>\n",
       "    </tr>\n",
       "  </tbody>\n",
       "</table>\n",
       "</div>"
      ],
      "text/plain": [
       "   age  sex  cp  trestbps  chol  fbs  restecg  thalach  exang  target\n",
       "0   63    1   3       145   233    1        0      150      0       1\n",
       "1   37    1   2       130   250    0        1      187      0       1\n",
       "2   41    0   1       130   204    0        0      172      0       1\n",
       "3   56    1   1       120   236    0        1      178      0       1\n",
       "4   57    0   0       120   354    0        1      163      1       1"
      ]
     },
     "execution_count": 2,
     "metadata": {},
     "output_type": "execute_result"
    }
   ],
   "source": [
    "df = pd.read_csv('../Downloads/heart.csv')\n",
    "df.head()"
   ]
  },
  {
   "cell_type": "code",
   "execution_count": 3,
   "id": "6da38416",
   "metadata": {},
   "outputs": [],
   "source": [
    "columns_num = ['age', 'trestbps', 'chol', 'thalach']"
   ]
  },
  {
   "cell_type": "code",
   "execution_count": 7,
   "id": "48257bd8",
   "metadata": {},
   "outputs": [
    {
     "name": "stdout",
     "output_type": "stream",
     "text": [
      "Optimization terminated successfully.\n",
      "         Current function value: 0.648180\n",
      "         Iterations 5\n",
      "                           Logit Regression Results                           \n",
      "==============================================================================\n",
      "Dep. Variable:                 target   No. Observations:                  303\n",
      "Model:                          Logit   Df Residuals:                      301\n",
      "Method:                           MLE   Df Model:                            1\n",
      "Date:                Mon, 06 Mar 2023   Pseudo R-squ.:                 0.05948\n",
      "Time:                        17:55:01   Log-Likelihood:                -196.40\n",
      "converged:                       True   LL-Null:                       -208.82\n",
      "Covariance Type:            nonrobust   LLR p-value:                 6.226e-07\n",
      "==============================================================================\n",
      "                 coef    std err          z      P>|z|      [0.025      0.975]\n",
      "------------------------------------------------------------------------------\n",
      "const          1.0986      0.236      4.661      0.000       0.637       1.561\n",
      "sex           -1.3022      0.274     -4.752      0.000      -1.839      -0.765\n",
      "==============================================================================\n"
     ]
    }
   ],
   "source": [
    "X = sm.add_constant(df['sex'])\n",
    "y = df['target']\n",
    "\n",
    "logit = sm.Logit(y, X)\n",
    "results = logit.fit()\n",
    "print(results.summary())"
   ]
  },
  {
   "cell_type": "code",
   "execution_count": 8,
   "id": "de50eb10",
   "metadata": {},
   "outputs": [
    {
     "data": {
      "text/plain": [
       "2.9999631342221873"
      ]
     },
     "execution_count": 8,
     "metadata": {},
     "output_type": "execute_result"
    }
   ],
   "source": [
    "np.exp(1.0986)"
   ]
  },
  {
   "cell_type": "code",
   "execution_count": 9,
   "id": "6f1729df",
   "metadata": {},
   "outputs": [
    {
     "data": {
      "text/plain": [
       "0.27193288213288974"
      ]
     },
     "execution_count": 9,
     "metadata": {},
     "output_type": "execute_result"
    }
   ],
   "source": [
    "np.exp(-1.3022)"
   ]
  },
  {
   "cell_type": "code",
   "execution_count": 12,
   "id": "7b4f8365",
   "metadata": {},
   "outputs": [
    {
     "data": {
      "text/html": [
       "<div>\n",
       "<style scoped>\n",
       "    .dataframe tbody tr th:only-of-type {\n",
       "        vertical-align: middle;\n",
       "    }\n",
       "\n",
       "    .dataframe tbody tr th {\n",
       "        vertical-align: top;\n",
       "    }\n",
       "\n",
       "    .dataframe thead th {\n",
       "        text-align: right;\n",
       "    }\n",
       "</style>\n",
       "<table border=\"1\" class=\"dataframe\">\n",
       "  <thead>\n",
       "    <tr style=\"text-align: right;\">\n",
       "      <th>sex</th>\n",
       "      <th>0</th>\n",
       "      <th>1</th>\n",
       "    </tr>\n",
       "    <tr>\n",
       "      <th>target</th>\n",
       "      <th></th>\n",
       "      <th></th>\n",
       "    </tr>\n",
       "  </thead>\n",
       "  <tbody>\n",
       "    <tr>\n",
       "      <th>0</th>\n",
       "      <td>24</td>\n",
       "      <td>114</td>\n",
       "    </tr>\n",
       "    <tr>\n",
       "      <th>1</th>\n",
       "      <td>72</td>\n",
       "      <td>93</td>\n",
       "    </tr>\n",
       "  </tbody>\n",
       "</table>\n",
       "</div>"
      ],
      "text/plain": [
       "sex      0    1\n",
       "target         \n",
       "0       24  114\n",
       "1       72   93"
      ]
     },
     "execution_count": 12,
     "metadata": {},
     "output_type": "execute_result"
    }
   ],
   "source": [
    "df.groupby('target')['sex'].value_counts().unstack()"
   ]
  },
  {
   "cell_type": "code",
   "execution_count": 14,
   "id": "3d3bc485",
   "metadata": {},
   "outputs": [
    {
     "name": "stdout",
     "output_type": "stream",
     "text": [
      "3.0\n",
      "1.0986122886681098\n"
     ]
    }
   ],
   "source": [
    "p_1_female = 72 / (72 + 24)\n",
    "p_0_female = 1 - p_1_female\n",
    "odds_1_female = p_1_female / p_0_female\n",
    "print(odds_1_female)\n",
    "print(np.log(odds_1_female))"
   ]
  },
  {
   "cell_type": "code",
   "execution_count": 15,
   "id": "d2f9086b",
   "metadata": {},
   "outputs": [
    {
     "name": "stdout",
     "output_type": "stream",
     "text": [
      "Optimization terminated successfully.\n",
      "         Current function value: 0.480864\n",
      "         Iterations 6\n",
      "                           Logit Regression Results                           \n",
      "==============================================================================\n",
      "Dep. Variable:                 target   No. Observations:                  303\n",
      "Model:                          Logit   Df Residuals:                      294\n",
      "Method:                           MLE   Df Model:                            8\n",
      "Date:                Mon, 06 Mar 2023   Pseudo R-squ.:                  0.3023\n",
      "Time:                        18:02:23   Log-Likelihood:                -145.70\n",
      "converged:                       True   LL-Null:                       -208.82\n",
      "Covariance Type:            nonrobust   LLR p-value:                 1.705e-23\n",
      "==============================================================================\n",
      "                 coef    std err          z      P>|z|      [0.025      0.975]\n",
      "------------------------------------------------------------------------------\n",
      "const          1.2171      2.040      0.597      0.551      -2.782       5.216\n",
      "age           -0.0231      0.019     -1.207      0.227      -0.061       0.014\n",
      "sex           -1.7588      0.356     -4.944      0.000      -2.456      -1.061\n",
      "trestbps      -0.0176      0.009     -1.983      0.047      -0.035      -0.000\n",
      "chol          -0.0058      0.003     -1.961      0.050      -0.012   -2.51e-06\n",
      "fbs            0.2182      0.397      0.549      0.583      -0.561       0.997\n",
      "restecg        0.3275      0.278      1.179      0.238      -0.217       0.872\n",
      "thalach        0.0367      0.008      4.486      0.000       0.021       0.053\n",
      "exang         -1.5403      0.327     -4.710      0.000      -2.181      -0.899\n",
      "==============================================================================\n"
     ]
    }
   ],
   "source": [
    "X = sm.add_constant(df.drop(['cp', 'target'], axis=1))\n",
    "y = df['target']\n",
    "\n",
    "logit = sm.Logit(y, X)\n",
    "results = logit.fit()\n",
    "print(results.summary())"
   ]
  },
  {
   "cell_type": "code",
   "execution_count": 16,
   "id": "f9ad4de5",
   "metadata": {},
   "outputs": [
    {
     "name": "stdout",
     "output_type": "stream",
     "text": [
      "Optimization terminated successfully.\n",
      "         Current function value: 0.580461\n",
      "         Iterations 6\n",
      "                           Logit Regression Results                           \n",
      "==============================================================================\n",
      "Dep. Variable:                 target   No. Observations:                  303\n",
      "Model:                          Logit   Df Residuals:                      298\n",
      "Method:                           MLE   Df Model:                            4\n",
      "Date:                Mon, 06 Mar 2023   Pseudo R-squ.:                  0.1577\n",
      "Time:                        18:04:37   Log-Likelihood:                -175.88\n",
      "converged:                       True   LL-Null:                       -208.82\n",
      "Covariance Type:            nonrobust   LLR p-value:                 1.680e-13\n",
      "==============================================================================\n",
      "                 coef    std err          z      P>|z|      [0.025      0.975]\n",
      "------------------------------------------------------------------------------\n",
      "const         -3.2241      1.662     -1.940      0.052      -6.481       0.032\n",
      "age           -0.0054      0.016     -0.328      0.743      -0.038       0.027\n",
      "trestbps      -0.0157      0.008     -2.004      0.045      -0.031      -0.000\n",
      "chol          -0.0031      0.002     -1.231      0.218      -0.008       0.002\n",
      "thalach        0.0436      0.007      6.194      0.000       0.030       0.057\n",
      "==============================================================================\n"
     ]
    }
   ],
   "source": [
    "X = sm.add_constant(df[columns_num])\n",
    "y = df['target']\n",
    "\n",
    "logit = sm.Logit(y, X)\n",
    "results = logit.fit()\n",
    "print(results.summary())"
   ]
  },
  {
   "cell_type": "code",
   "execution_count": 17,
   "id": "5af2ae73",
   "metadata": {},
   "outputs": [
    {
     "name": "stdout",
     "output_type": "stream",
     "text": [
      "Optimization terminated successfully.\n",
      "         Current function value: 0.580461\n",
      "         Iterations 5\n",
      "                           Logit Regression Results                           \n",
      "==============================================================================\n",
      "Dep. Variable:                 target   No. Observations:                  303\n",
      "Model:                          Logit   Df Residuals:                      298\n",
      "Method:                           MLE   Df Model:                            4\n",
      "Date:                Mon, 06 Mar 2023   Pseudo R-squ.:                  0.1577\n",
      "Time:                        18:05:44   Log-Likelihood:                -175.88\n",
      "converged:                       True   LL-Null:                       -208.82\n",
      "Covariance Type:            nonrobust   LLR p-value:                 1.680e-13\n",
      "==============================================================================\n",
      "                 coef    std err          z      P>|z|      [0.025      0.975]\n",
      "------------------------------------------------------------------------------\n",
      "const          0.1947      0.129      1.505      0.132      -0.059       0.448\n",
      "age           -0.0054      0.016     -0.328      0.743      -0.038       0.027\n",
      "trestbps      -0.0157      0.008     -2.004      0.045      -0.031      -0.000\n",
      "chol          -0.0031      0.002     -1.231      0.218      -0.008       0.002\n",
      "thalach        0.0436      0.007      6.194      0.000       0.030       0.057\n",
      "==============================================================================\n"
     ]
    }
   ],
   "source": [
    "X = sm.add_constant(df[columns_num] - df[columns_num].mean())\n",
    "y = df['target']\n",
    "\n",
    "logit = sm.Logit(y, X)\n",
    "results = logit.fit()\n",
    "print(results.summary())"
   ]
  },
  {
   "cell_type": "code",
   "execution_count": 20,
   "id": "d909f279",
   "metadata": {},
   "outputs": [
    {
     "name": "stdout",
     "output_type": "stream",
     "text": [
      "Optimization terminated successfully.\n",
      "         Current function value: 0.580461\n",
      "         Iterations 5\n",
      "                           Logit Regression Results                           \n",
      "==============================================================================\n",
      "Dep. Variable:                 target   No. Observations:                  303\n",
      "Model:                          Logit   Df Residuals:                      298\n",
      "Method:                           MLE   Df Model:                            4\n",
      "Date:                Mon, 06 Mar 2023   Pseudo R-squ.:                  0.1577\n",
      "Time:                        18:07:56   Log-Likelihood:                -175.88\n",
      "converged:                       True   LL-Null:                       -208.82\n",
      "Covariance Type:            nonrobust   LLR p-value:                 1.680e-13\n",
      "==============================================================================\n",
      "                 coef    std err          z      P>|z|      [0.025      0.975]\n",
      "------------------------------------------------------------------------------\n",
      "const          0.1947      0.129      1.505      0.132      -0.059       0.448\n",
      "age           -0.0489      0.149     -0.328      0.743      -0.342       0.244\n",
      "trestbps      -0.2747      0.137     -2.004      0.045      -0.543      -0.006\n",
      "chol          -0.1587      0.129     -1.231      0.218      -0.411       0.094\n",
      "thalach        0.9992      0.161      6.194      0.000       0.683       1.315\n",
      "==============================================================================\n"
     ]
    }
   ],
   "source": [
    "X = sm.add_constant((df[columns_num] - df[columns_num].mean()) / df[columns_num].std())\n",
    "y = df['target']\n",
    "\n",
    "logit = sm.Logit(y, X)\n",
    "results = logit.fit()\n",
    "print(results.summary())"
   ]
  },
  {
   "cell_type": "code",
   "execution_count": 21,
   "id": "c3456277",
   "metadata": {},
   "outputs": [
    {
     "data": {
      "text/html": [
       "<div>\n",
       "<style scoped>\n",
       "    .dataframe tbody tr th:only-of-type {\n",
       "        vertical-align: middle;\n",
       "    }\n",
       "\n",
       "    .dataframe tbody tr th {\n",
       "        vertical-align: top;\n",
       "    }\n",
       "\n",
       "    .dataframe thead th {\n",
       "        text-align: right;\n",
       "    }\n",
       "</style>\n",
       "<table border=\"1\" class=\"dataframe\">\n",
       "  <thead>\n",
       "    <tr style=\"text-align: right;\">\n",
       "      <th></th>\n",
       "      <th>competitorname</th>\n",
       "      <th>chocolate</th>\n",
       "      <th>fruity</th>\n",
       "      <th>caramel</th>\n",
       "      <th>peanutyalmondy</th>\n",
       "      <th>nougat</th>\n",
       "      <th>crispedricewafer</th>\n",
       "      <th>hard</th>\n",
       "      <th>bar</th>\n",
       "      <th>pluribus</th>\n",
       "      <th>sugarpercent</th>\n",
       "      <th>pricepercent</th>\n",
       "      <th>winpercent</th>\n",
       "    </tr>\n",
       "  </thead>\n",
       "  <tbody>\n",
       "    <tr>\n",
       "      <th>0</th>\n",
       "      <td>100 Grand</td>\n",
       "      <td>1</td>\n",
       "      <td>0</td>\n",
       "      <td>1</td>\n",
       "      <td>0</td>\n",
       "      <td>0</td>\n",
       "      <td>1</td>\n",
       "      <td>0</td>\n",
       "      <td>1</td>\n",
       "      <td>0</td>\n",
       "      <td>0.732</td>\n",
       "      <td>0.860</td>\n",
       "      <td>66.971725</td>\n",
       "    </tr>\n",
       "    <tr>\n",
       "      <th>1</th>\n",
       "      <td>3 Musketeers</td>\n",
       "      <td>1</td>\n",
       "      <td>0</td>\n",
       "      <td>0</td>\n",
       "      <td>0</td>\n",
       "      <td>1</td>\n",
       "      <td>0</td>\n",
       "      <td>0</td>\n",
       "      <td>1</td>\n",
       "      <td>0</td>\n",
       "      <td>0.604</td>\n",
       "      <td>0.511</td>\n",
       "      <td>67.602936</td>\n",
       "    </tr>\n",
       "    <tr>\n",
       "      <th>2</th>\n",
       "      <td>One dime</td>\n",
       "      <td>0</td>\n",
       "      <td>0</td>\n",
       "      <td>0</td>\n",
       "      <td>0</td>\n",
       "      <td>0</td>\n",
       "      <td>0</td>\n",
       "      <td>0</td>\n",
       "      <td>0</td>\n",
       "      <td>0</td>\n",
       "      <td>0.011</td>\n",
       "      <td>0.116</td>\n",
       "      <td>32.261086</td>\n",
       "    </tr>\n",
       "    <tr>\n",
       "      <th>3</th>\n",
       "      <td>One quarter</td>\n",
       "      <td>0</td>\n",
       "      <td>0</td>\n",
       "      <td>0</td>\n",
       "      <td>0</td>\n",
       "      <td>0</td>\n",
       "      <td>0</td>\n",
       "      <td>0</td>\n",
       "      <td>0</td>\n",
       "      <td>0</td>\n",
       "      <td>0.011</td>\n",
       "      <td>0.511</td>\n",
       "      <td>46.116505</td>\n",
       "    </tr>\n",
       "    <tr>\n",
       "      <th>4</th>\n",
       "      <td>Air Heads</td>\n",
       "      <td>0</td>\n",
       "      <td>1</td>\n",
       "      <td>0</td>\n",
       "      <td>0</td>\n",
       "      <td>0</td>\n",
       "      <td>0</td>\n",
       "      <td>0</td>\n",
       "      <td>0</td>\n",
       "      <td>0</td>\n",
       "      <td>0.906</td>\n",
       "      <td>0.511</td>\n",
       "      <td>52.341465</td>\n",
       "    </tr>\n",
       "  </tbody>\n",
       "</table>\n",
       "</div>"
      ],
      "text/plain": [
       "  competitorname  chocolate  fruity  caramel  peanutyalmondy  nougat  \\\n",
       "0      100 Grand          1       0        1               0       0   \n",
       "1   3 Musketeers          1       0        0               0       1   \n",
       "2       One dime          0       0        0               0       0   \n",
       "3    One quarter          0       0        0               0       0   \n",
       "4      Air Heads          0       1        0               0       0   \n",
       "\n",
       "   crispedricewafer  hard  bar  pluribus  sugarpercent  pricepercent  \\\n",
       "0                 1     0    1         0         0.732         0.860   \n",
       "1                 0     0    1         0         0.604         0.511   \n",
       "2                 0     0    0         0         0.011         0.116   \n",
       "3                 0     0    0         0         0.011         0.511   \n",
       "4                 0     0    0         0         0.906         0.511   \n",
       "\n",
       "   winpercent  \n",
       "0   66.971725  \n",
       "1   67.602936  \n",
       "2   32.261086  \n",
       "3   46.116505  \n",
       "4   52.341465  "
      ]
     },
     "execution_count": 21,
     "metadata": {},
     "output_type": "execute_result"
    }
   ],
   "source": [
    "data = pd.read_csv('../Downloads/CandyData.csv')\n",
    "data.head()"
   ]
  },
  {
   "cell_type": "code",
   "execution_count": 38,
   "id": "36978c15",
   "metadata": {},
   "outputs": [],
   "source": [
    "data['winpercent_0_1'] = np.where(data['winpercent'] >= 50, 1, 0)"
   ]
  },
  {
   "cell_type": "code",
   "execution_count": 47,
   "id": "90288735",
   "metadata": {},
   "outputs": [
    {
     "name": "stdout",
     "output_type": "stream",
     "text": [
      "Optimization terminated successfully.\n",
      "         Current function value: 0.672972\n",
      "         Iterations 4\n",
      "                           Logit Regression Results                           \n",
      "==============================================================================\n",
      "Dep. Variable:         winpercent_0_1   No. Observations:                   85\n",
      "Model:                          Logit   Df Residuals:                       83\n",
      "Method:                           MLE   Df Model:                            1\n",
      "Date:                Mon, 06 Mar 2023   Pseudo R-squ.:                 0.02433\n",
      "Time:                        20:07:02   Log-Likelihood:                -57.203\n",
      "converged:                       True   LL-Null:                       -58.629\n",
      "Covariance Type:            nonrobust   LLR p-value:                   0.09122\n",
      "================================================================================\n",
      "                   coef    std err          z      P>|z|      [0.025      0.975]\n",
      "--------------------------------------------------------------------------------\n",
      "const           -0.8058      0.447     -1.803      0.071      -1.682       0.070\n",
      "sugarpercent     1.3276      0.798      1.663      0.096      -0.237       2.892\n",
      "================================================================================\n"
     ]
    }
   ],
   "source": [
    "X = sm.add_constant(data['sugarpercent'])\n",
    "y = data['winpercent_0_1']\n",
    "\n",
    "logit = sm.Logit(y, X)\n",
    "results = logit.fit()\n",
    "print(results.summary())"
   ]
  },
  {
   "cell_type": "code",
   "execution_count": 41,
   "id": "ff3f10ee",
   "metadata": {},
   "outputs": [
    {
     "data": {
      "text/plain": [
       "0.4467303992481016"
      ]
     },
     "execution_count": 41,
     "metadata": {},
     "output_type": "execute_result"
    }
   ],
   "source": [
    "np.exp(-0.8058)"
   ]
  },
  {
   "cell_type": "code",
   "execution_count": 42,
   "id": "923bb7d7",
   "metadata": {},
   "outputs": [
    {
     "data": {
      "text/plain": [
       "3.771979764137272"
      ]
     },
     "execution_count": 42,
     "metadata": {},
     "output_type": "execute_result"
    }
   ],
   "source": [
    "np.exp(1.3276)"
   ]
  },
  {
   "cell_type": "code",
   "execution_count": 44,
   "id": "b856c3cc",
   "metadata": {},
   "outputs": [
    {
     "data": {
      "text/plain": [
       "0.18387483452370543"
      ]
     },
     "execution_count": 44,
     "metadata": {},
     "output_type": "execute_result"
    }
   ],
   "source": [
    "np.exp(-1.6935)"
   ]
  },
  {
   "cell_type": "code",
   "execution_count": 45,
   "id": "c8403c7c",
   "metadata": {},
   "outputs": [
    {
     "name": "stdout",
     "output_type": "stream",
     "text": [
      "Optimization terminated successfully.\n",
      "         Current function value: 0.619123\n",
      "         Iterations 5\n",
      "                           Logit Regression Results                           \n",
      "==============================================================================\n",
      "Dep. Variable:         winpercent_0_1   No. Observations:                   85\n",
      "Model:                          Logit   Df Residuals:                       82\n",
      "Method:                           MLE   Df Model:                            2\n",
      "Date:                Mon, 06 Mar 2023   Pseudo R-squ.:                  0.1024\n",
      "Time:                        20:05:51   Log-Likelihood:                -52.625\n",
      "converged:                       True   LL-Null:                       -58.629\n",
      "Covariance Type:            nonrobust   LLR p-value:                  0.002470\n",
      "================================================================================\n",
      "                   coef    std err          z      P>|z|      [0.025      0.975]\n",
      "--------------------------------------------------------------------------------\n",
      "const           -0.1916      0.235     -0.816      0.414      -0.652       0.269\n",
      "sugarpercent     0.5896      0.881      0.669      0.503      -1.137       2.316\n",
      "pricepercent     2.6012      0.906      2.871      0.004       0.825       4.377\n",
      "================================================================================\n"
     ]
    }
   ],
   "source": [
    "X = sm.add_constant(data[['sugarpercent', 'pricepercent']] - data[['sugarpercent', 'pricepercent']].mean())\n",
    "y = data['winpercent_0_1']\n",
    "\n",
    "logit = sm.Logit(y, X)\n",
    "results = logit.fit()\n",
    "print(results.summary())"
   ]
  },
  {
   "cell_type": "code",
   "execution_count": 46,
   "id": "6bf04ae0",
   "metadata": {},
   "outputs": [
    {
     "data": {
      "text/plain": [
       "0.8256370572724328"
      ]
     },
     "execution_count": 46,
     "metadata": {},
     "output_type": "execute_result"
    }
   ],
   "source": [
    "np.exp(-0.1916)"
   ]
  },
  {
   "cell_type": "code",
   "execution_count": null,
   "id": "968dbb73",
   "metadata": {},
   "outputs": [],
   "source": []
  }
 ],
 "metadata": {
  "kernelspec": {
   "display_name": "Python 3 (ipykernel)",
   "language": "python",
   "name": "python3"
  },
  "language_info": {
   "codemirror_mode": {
    "name": "ipython",
    "version": 3
   },
   "file_extension": ".py",
   "mimetype": "text/x-python",
   "name": "python",
   "nbconvert_exporter": "python",
   "pygments_lexer": "ipython3",
   "version": "3.9.12"
  }
 },
 "nbformat": 4,
 "nbformat_minor": 5
}
