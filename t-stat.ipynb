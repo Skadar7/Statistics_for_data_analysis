{
 "cells": [
  {
   "cell_type": "code",
   "execution_count": 1,
   "id": "f058f0e4",
   "metadata": {},
   "outputs": [
    {
     "data": {
      "text/html": [
       "<div>\n",
       "<style scoped>\n",
       "    .dataframe tbody tr th:only-of-type {\n",
       "        vertical-align: middle;\n",
       "    }\n",
       "\n",
       "    .dataframe tbody tr th {\n",
       "        vertical-align: top;\n",
       "    }\n",
       "\n",
       "    .dataframe thead th {\n",
       "        text-align: right;\n",
       "    }\n",
       "</style>\n",
       "<table border=\"1\" class=\"dataframe\">\n",
       "  <thead>\n",
       "    <tr style=\"text-align: right;\">\n",
       "      <th></th>\n",
       "      <th>age</th>\n",
       "      <th>sex</th>\n",
       "      <th>cp</th>\n",
       "      <th>trestbps</th>\n",
       "      <th>chol</th>\n",
       "      <th>fbs</th>\n",
       "      <th>restecg</th>\n",
       "      <th>thalach</th>\n",
       "      <th>exang</th>\n",
       "      <th>target</th>\n",
       "    </tr>\n",
       "  </thead>\n",
       "  <tbody>\n",
       "    <tr>\n",
       "      <th>0</th>\n",
       "      <td>63</td>\n",
       "      <td>1</td>\n",
       "      <td>3</td>\n",
       "      <td>145</td>\n",
       "      <td>233</td>\n",
       "      <td>1</td>\n",
       "      <td>0</td>\n",
       "      <td>150</td>\n",
       "      <td>0</td>\n",
       "      <td>1</td>\n",
       "    </tr>\n",
       "    <tr>\n",
       "      <th>1</th>\n",
       "      <td>37</td>\n",
       "      <td>1</td>\n",
       "      <td>2</td>\n",
       "      <td>130</td>\n",
       "      <td>250</td>\n",
       "      <td>0</td>\n",
       "      <td>1</td>\n",
       "      <td>187</td>\n",
       "      <td>0</td>\n",
       "      <td>1</td>\n",
       "    </tr>\n",
       "    <tr>\n",
       "      <th>2</th>\n",
       "      <td>41</td>\n",
       "      <td>0</td>\n",
       "      <td>1</td>\n",
       "      <td>130</td>\n",
       "      <td>204</td>\n",
       "      <td>0</td>\n",
       "      <td>0</td>\n",
       "      <td>172</td>\n",
       "      <td>0</td>\n",
       "      <td>1</td>\n",
       "    </tr>\n",
       "    <tr>\n",
       "      <th>3</th>\n",
       "      <td>56</td>\n",
       "      <td>1</td>\n",
       "      <td>1</td>\n",
       "      <td>120</td>\n",
       "      <td>236</td>\n",
       "      <td>0</td>\n",
       "      <td>1</td>\n",
       "      <td>178</td>\n",
       "      <td>0</td>\n",
       "      <td>1</td>\n",
       "    </tr>\n",
       "    <tr>\n",
       "      <th>4</th>\n",
       "      <td>57</td>\n",
       "      <td>0</td>\n",
       "      <td>0</td>\n",
       "      <td>120</td>\n",
       "      <td>354</td>\n",
       "      <td>0</td>\n",
       "      <td>1</td>\n",
       "      <td>163</td>\n",
       "      <td>1</td>\n",
       "      <td>1</td>\n",
       "    </tr>\n",
       "  </tbody>\n",
       "</table>\n",
       "</div>"
      ],
      "text/plain": [
       "   age  sex  cp  trestbps  chol  fbs  restecg  thalach  exang  target\n",
       "0   63    1   3       145   233    1        0      150      0       1\n",
       "1   37    1   2       130   250    0        1      187      0       1\n",
       "2   41    0   1       130   204    0        0      172      0       1\n",
       "3   56    1   1       120   236    0        1      178      0       1\n",
       "4   57    0   0       120   354    0        1      163      1       1"
      ]
     },
     "execution_count": 1,
     "metadata": {},
     "output_type": "execute_result"
    }
   ],
   "source": [
    "import pandas as pd\n",
    "import numpy as np\n",
    "import scipy.stats\n",
    "\n",
    "df = pd.read_csv('../Downloads/heart.csv')\n",
    "df.head()"
   ]
  },
  {
   "cell_type": "markdown",
   "id": "09631038",
   "metadata": {},
   "source": [
    "dof = (R-1)(C-1)"
   ]
  },
  {
   "cell_type": "code",
   "execution_count": 2,
   "id": "9812fed4",
   "metadata": {},
   "outputs": [
    {
     "data": {
      "text/html": [
       "<div>\n",
       "<style scoped>\n",
       "    .dataframe tbody tr th:only-of-type {\n",
       "        vertical-align: middle;\n",
       "    }\n",
       "\n",
       "    .dataframe tbody tr th {\n",
       "        vertical-align: top;\n",
       "    }\n",
       "\n",
       "    .dataframe thead th {\n",
       "        text-align: right;\n",
       "    }\n",
       "</style>\n",
       "<table border=\"1\" class=\"dataframe\">\n",
       "  <thead>\n",
       "    <tr style=\"text-align: right;\">\n",
       "      <th>target</th>\n",
       "      <th>0</th>\n",
       "      <th>1</th>\n",
       "    </tr>\n",
       "    <tr>\n",
       "      <th>sex</th>\n",
       "      <th></th>\n",
       "      <th></th>\n",
       "    </tr>\n",
       "  </thead>\n",
       "  <tbody>\n",
       "    <tr>\n",
       "      <th>0</th>\n",
       "      <td>24</td>\n",
       "      <td>72</td>\n",
       "    </tr>\n",
       "    <tr>\n",
       "      <th>1</th>\n",
       "      <td>114</td>\n",
       "      <td>93</td>\n",
       "    </tr>\n",
       "  </tbody>\n",
       "</table>\n",
       "</div>"
      ],
      "text/plain": [
       "target    0   1\n",
       "sex            \n",
       "0        24  72\n",
       "1       114  93"
      ]
     },
     "execution_count": 2,
     "metadata": {},
     "output_type": "execute_result"
    }
   ],
   "source": [
    "ct_o = df.groupby('sex')['target'].value_counts().unstack()\n",
    "ct_o"
   ]
  },
  {
   "cell_type": "code",
   "execution_count": 3,
   "id": "6a43bdf8",
   "metadata": {},
   "outputs": [],
   "source": [
    "alpha = 0.01\n",
    "dof = (2-1)*(2-1)\n",
    "critical_value = 6.63"
   ]
  },
  {
   "cell_type": "code",
   "execution_count": 4,
   "id": "32f86fba",
   "metadata": {},
   "outputs": [
    {
     "data": {
      "text/plain": [
       "303"
      ]
     },
     "execution_count": 4,
     "metadata": {},
     "output_type": "execute_result"
    }
   ],
   "source": [
    "n_total = ct_o.sum().sum()\n",
    "n_total"
   ]
  },
  {
   "cell_type": "code",
   "execution_count": 5,
   "id": "0fe6e095",
   "metadata": {},
   "outputs": [
    {
     "ename": "NameError",
     "evalue": "name 'ct_target0' is not defined",
     "output_type": "error",
     "traceback": [
      "\u001b[1;31m---------------------------------------------------------------------------\u001b[0m",
      "\u001b[1;31mNameError\u001b[0m                                 Traceback (most recent call last)",
      "Input \u001b[1;32mIn [5]\u001b[0m, in \u001b[0;36m<cell line: 3>\u001b[1;34m()\u001b[0m\n\u001b[0;32m      1\u001b[0m n_target0 \u001b[38;5;241m=\u001b[39m ct_o[\u001b[38;5;241m0\u001b[39m]\u001b[38;5;241m.\u001b[39msum()\n\u001b[0;32m      2\u001b[0m n_target1 \u001b[38;5;241m=\u001b[39m ct_o[\u001b[38;5;241m1\u001b[39m]\u001b[38;5;241m.\u001b[39msum()\n\u001b[1;32m----> 3\u001b[0m \u001b[38;5;28mprint\u001b[39m(\u001b[43mct_target0\u001b[49m, ct_target1)\n",
      "\u001b[1;31mNameError\u001b[0m: name 'ct_target0' is not defined"
     ]
    }
   ],
   "source": [
    "n_target0 = ct_o[0].sum()\n",
    "n_target1 = ct_o[1].sum()\n",
    "print(ct_target0, ct_target1)"
   ]
  },
  {
   "cell_type": "code",
   "execution_count": 6,
   "id": "1f3e1262",
   "metadata": {},
   "outputs": [
    {
     "name": "stdout",
     "output_type": "stream",
     "text": [
      "0.45544554455445546 0.5445544554455446\n"
     ]
    }
   ],
   "source": [
    "p_target0 = n_target0 / n_total\n",
    "p_target1 = n_target1 / n_total\n",
    "print(p_target0, p_target1)"
   ]
  },
  {
   "cell_type": "code",
   "execution_count": 7,
   "id": "f23bdef3",
   "metadata": {},
   "outputs": [
    {
     "name": "stdout",
     "output_type": "stream",
     "text": [
      "96 207\n"
     ]
    }
   ],
   "source": [
    "n_women = ct_o.iloc[0].sum()\n",
    "n_men = ct_o.iloc[1].sum()\n",
    "print(n_women, n_men)"
   ]
  },
  {
   "cell_type": "code",
   "execution_count": 8,
   "id": "6d811e9d",
   "metadata": {},
   "outputs": [
    {
     "name": "stdout",
     "output_type": "stream",
     "text": [
      "43.722772277227726 52.27722772277228\n"
     ]
    }
   ],
   "source": [
    "f_e_target0_women = n_women * p_target0\n",
    "f_e_target1_women = n_women * p_target1\n",
    "print(f_e_target0_women, f_e_target1_women)"
   ]
  },
  {
   "cell_type": "code",
   "execution_count": 9,
   "id": "8d6a290d",
   "metadata": {},
   "outputs": [
    {
     "name": "stdout",
     "output_type": "stream",
     "text": [
      "94.27722772277228 112.72277227722773\n"
     ]
    }
   ],
   "source": [
    "f_e_target0_men = n_men * p_target0\n",
    "f_e_target1_men = n_men * p_target1\n",
    "print(f_e_target0_men, f_e_target1_men)"
   ]
  },
  {
   "cell_type": "code",
   "execution_count": 10,
   "id": "ad73d92b",
   "metadata": {},
   "outputs": [
    {
     "data": {
      "text/plain": [
       "array([[ 43.72277228,  52.27722772],\n",
       "       [ 94.27722772, 112.72277228]])"
      ]
     },
     "execution_count": 10,
     "metadata": {},
     "output_type": "execute_result"
    }
   ],
   "source": [
    "ct_e = np.array([[f_e_target0_women, f_e_target1_women],\n",
    "                [f_e_target0_men, f_e_target1_men]])\n",
    "ct_e"
   ]
  },
  {
   "cell_type": "code",
   "execution_count": 11,
   "id": "a4a1059c",
   "metadata": {},
   "outputs": [
    {
     "data": {
      "text/plain": [
       "43.722772277227726"
      ]
     },
     "execution_count": 11,
     "metadata": {},
     "output_type": "execute_result"
    }
   ],
   "source": [
    "ct_o[0].sum() * ct_o.iloc[0].sum() / n_total"
   ]
  },
  {
   "cell_type": "code",
   "execution_count": 12,
   "id": "2b350dd9",
   "metadata": {},
   "outputs": [
    {
     "data": {
      "text/html": [
       "<div>\n",
       "<style scoped>\n",
       "    .dataframe tbody tr th:only-of-type {\n",
       "        vertical-align: middle;\n",
       "    }\n",
       "\n",
       "    .dataframe tbody tr th {\n",
       "        vertical-align: top;\n",
       "    }\n",
       "\n",
       "    .dataframe thead th {\n",
       "        text-align: right;\n",
       "    }\n",
       "</style>\n",
       "<table border=\"1\" class=\"dataframe\">\n",
       "  <thead>\n",
       "    <tr style=\"text-align: right;\">\n",
       "      <th>target</th>\n",
       "      <th>0</th>\n",
       "      <th>1</th>\n",
       "    </tr>\n",
       "    <tr>\n",
       "      <th>sex</th>\n",
       "      <th></th>\n",
       "      <th></th>\n",
       "    </tr>\n",
       "  </thead>\n",
       "  <tbody>\n",
       "    <tr>\n",
       "      <th>0</th>\n",
       "      <td>24</td>\n",
       "      <td>72</td>\n",
       "    </tr>\n",
       "    <tr>\n",
       "      <th>1</th>\n",
       "      <td>114</td>\n",
       "      <td>93</td>\n",
       "    </tr>\n",
       "  </tbody>\n",
       "</table>\n",
       "</div>"
      ],
      "text/plain": [
       "target    0   1\n",
       "sex            \n",
       "0        24  72\n",
       "1       114  93"
      ]
     },
     "execution_count": 12,
     "metadata": {},
     "output_type": "execute_result"
    }
   ],
   "source": [
    "ct_o"
   ]
  },
  {
   "cell_type": "code",
   "execution_count": 13,
   "id": "c7d231f1",
   "metadata": {},
   "outputs": [],
   "source": [
    "chi_square = (np.power((ct_o - ct_e), 2) / ct_e).sum().sum()"
   ]
  },
  {
   "cell_type": "code",
   "execution_count": 14,
   "id": "beedf134",
   "metadata": {},
   "outputs": [
    {
     "name": "stdout",
     "output_type": "stream",
     "text": [
      "6.63 23.914383914761984\n",
      "True\n"
     ]
    }
   ],
   "source": [
    "print(critical_value, chi_square)\n",
    "print(chi_square > critical_value)"
   ]
  },
  {
   "cell_type": "code",
   "execution_count": 15,
   "id": "01515527",
   "metadata": {},
   "outputs": [
    {
     "data": {
      "text/plain": [
       "(23.914383914761988,\n",
       " 1.0071642033238865e-06,\n",
       " 1,\n",
       " array([[ 43.72277228,  52.27722772],\n",
       "        [ 94.27722772, 112.72277228]]))"
      ]
     },
     "execution_count": 15,
     "metadata": {},
     "output_type": "execute_result"
    }
   ],
   "source": [
    "scipy.stats.chi2_contingency(ct_o, correction=False)"
   ]
  },
  {
   "cell_type": "code",
   "execution_count": 16,
   "id": "7808805b",
   "metadata": {},
   "outputs": [
    {
     "data": {
      "text/html": [
       "<div>\n",
       "<style scoped>\n",
       "    .dataframe tbody tr th:only-of-type {\n",
       "        vertical-align: middle;\n",
       "    }\n",
       "\n",
       "    .dataframe tbody tr th {\n",
       "        vertical-align: top;\n",
       "    }\n",
       "\n",
       "    .dataframe thead th {\n",
       "        text-align: right;\n",
       "    }\n",
       "</style>\n",
       "<table border=\"1\" class=\"dataframe\">\n",
       "  <thead>\n",
       "    <tr style=\"text-align: right;\">\n",
       "      <th></th>\n",
       "      <th>respondentID</th>\n",
       "      <th>seen</th>\n",
       "      <th>fan</th>\n",
       "      <th>gender</th>\n",
       "      <th>age_group</th>\n",
       "      <th>income</th>\n",
       "      <th>loc</th>\n",
       "      <th>yoda</th>\n",
       "      <th>princess_leia_organa</th>\n",
       "    </tr>\n",
       "  </thead>\n",
       "  <tbody>\n",
       "    <tr>\n",
       "      <th>0</th>\n",
       "      <td>3292879998</td>\n",
       "      <td>да</td>\n",
       "      <td>да</td>\n",
       "      <td>М</td>\n",
       "      <td>18-29</td>\n",
       "      <td>NaN</td>\n",
       "      <td>Южно-Атлантический</td>\n",
       "      <td>очень нравится</td>\n",
       "      <td>очень нравится</td>\n",
       "    </tr>\n",
       "    <tr>\n",
       "      <th>1</th>\n",
       "      <td>3292879538</td>\n",
       "      <td>нет</td>\n",
       "      <td>NaN</td>\n",
       "      <td>М</td>\n",
       "      <td>18-29</td>\n",
       "      <td>0 - 24.999</td>\n",
       "      <td>Юго-Западный центральный</td>\n",
       "      <td>NaN</td>\n",
       "      <td>NaN</td>\n",
       "    </tr>\n",
       "    <tr>\n",
       "      <th>2</th>\n",
       "      <td>3292765271</td>\n",
       "      <td>да</td>\n",
       "      <td>нет</td>\n",
       "      <td>М</td>\n",
       "      <td>18-29</td>\n",
       "      <td>0 - 24.999</td>\n",
       "      <td>Северо-Западный центральный</td>\n",
       "      <td>не знаю такого персонажа</td>\n",
       "      <td>нравится</td>\n",
       "    </tr>\n",
       "    <tr>\n",
       "      <th>3</th>\n",
       "      <td>3292763116</td>\n",
       "      <td>да</td>\n",
       "      <td>да</td>\n",
       "      <td>М</td>\n",
       "      <td>18-29</td>\n",
       "      <td>100.000 - 149.999</td>\n",
       "      <td>Северо-Западный центральный</td>\n",
       "      <td>очень нравится</td>\n",
       "      <td>очень нравится</td>\n",
       "    </tr>\n",
       "    <tr>\n",
       "      <th>4</th>\n",
       "      <td>3292731220</td>\n",
       "      <td>да</td>\n",
       "      <td>да</td>\n",
       "      <td>М</td>\n",
       "      <td>18-29</td>\n",
       "      <td>100.000 - 149.999</td>\n",
       "      <td>Северо-Западный центральный</td>\n",
       "      <td>нравится</td>\n",
       "      <td>нравится</td>\n",
       "    </tr>\n",
       "  </tbody>\n",
       "</table>\n",
       "</div>"
      ],
      "text/plain": [
       "   respondentID seen  fan gender age_group             income  \\\n",
       "0    3292879998   да   да      М     18-29                NaN   \n",
       "1    3292879538  нет  NaN      М     18-29         0 - 24.999   \n",
       "2    3292765271   да  нет      М     18-29         0 - 24.999   \n",
       "3    3292763116   да   да      М     18-29  100.000 - 149.999   \n",
       "4    3292731220   да   да      М     18-29  100.000 - 149.999   \n",
       "\n",
       "                           loc                      yoda princess_leia_organa  \n",
       "0           Южно-Атлантический            очень нравится       очень нравится  \n",
       "1     Юго-Западный центральный                       NaN                  NaN  \n",
       "2  Северо-Западный центральный  не знаю такого персонажа             нравится  \n",
       "3  Северо-Западный центральный            очень нравится       очень нравится  \n",
       "4  Северо-Западный центральный                  нравится             нравится  "
      ]
     },
     "execution_count": 16,
     "metadata": {},
     "output_type": "execute_result"
    }
   ],
   "source": [
    "sw = pd.read_csv('../Downloads/StarWars.csv', sep=';')\n",
    "sw.head()"
   ]
  },
  {
   "cell_type": "code",
   "execution_count": 17,
   "id": "8212fddc",
   "metadata": {},
   "outputs": [
    {
     "data": {
      "text/html": [
       "<div>\n",
       "<style scoped>\n",
       "    .dataframe tbody tr th:only-of-type {\n",
       "        vertical-align: middle;\n",
       "    }\n",
       "\n",
       "    .dataframe tbody tr th {\n",
       "        vertical-align: top;\n",
       "    }\n",
       "\n",
       "    .dataframe thead th {\n",
       "        text-align: right;\n",
       "    }\n",
       "</style>\n",
       "<table border=\"1\" class=\"dataframe\">\n",
       "  <thead>\n",
       "    <tr style=\"text-align: right;\">\n",
       "      <th>fan</th>\n",
       "      <th>да</th>\n",
       "      <th>нет</th>\n",
       "    </tr>\n",
       "    <tr>\n",
       "      <th>gender</th>\n",
       "      <th></th>\n",
       "      <th></th>\n",
       "    </tr>\n",
       "  </thead>\n",
       "  <tbody>\n",
       "    <tr>\n",
       "      <th>Ж</th>\n",
       "      <td>238</td>\n",
       "      <td>159</td>\n",
       "    </tr>\n",
       "    <tr>\n",
       "      <th>М</th>\n",
       "      <td>303</td>\n",
       "      <td>120</td>\n",
       "    </tr>\n",
       "  </tbody>\n",
       "</table>\n",
       "</div>"
      ],
      "text/plain": [
       "fan      да  нет\n",
       "gender          \n",
       "Ж       238  159\n",
       "М       303  120"
      ]
     },
     "execution_count": 17,
     "metadata": {},
     "output_type": "execute_result"
    }
   ],
   "source": [
    "table_s = sw.groupby('gender')['fan'].value_counts().unstack()\n",
    "table_s"
   ]
  },
  {
   "cell_type": "code",
   "execution_count": 18,
   "id": "4ec4fdc3",
   "metadata": {},
   "outputs": [
    {
     "data": {
      "text/plain": [
       "(12.449350493035466,\n",
       " 0.00041813719910750865,\n",
       " 1,\n",
       " array([[261.92317073, 135.07682927],\n",
       "        [279.07682927, 143.92317073]]))"
      ]
     },
     "execution_count": 18,
     "metadata": {},
     "output_type": "execute_result"
    }
   ],
   "source": [
    "scipy.stats.chi2_contingency(table_s, correction=False)"
   ]
  },
  {
   "cell_type": "code",
   "execution_count": 19,
   "id": "e763fd2d",
   "metadata": {},
   "outputs": [
    {
     "data": {
      "text/plain": [
       "0.66"
      ]
     },
     "execution_count": 19,
     "metadata": {},
     "output_type": "execute_result"
    }
   ],
   "source": [
    "p_fan = table_s['да'].sum() / table_s.sum().sum()\n",
    "round(p_fan, 2)"
   ]
  },
  {
   "cell_type": "code",
   "execution_count": 20,
   "id": "03e450c9",
   "metadata": {},
   "outputs": [
    {
     "ename": "NameError",
     "evalue": "name 'f_e_target' is not defined",
     "output_type": "error",
     "traceback": [
      "\u001b[1;31m---------------------------------------------------------------------------\u001b[0m",
      "\u001b[1;31mNameError\u001b[0m                                 Traceback (most recent call last)",
      "Input \u001b[1;32mIn [20]\u001b[0m, in \u001b[0;36m<cell line: 1>\u001b[1;34m()\u001b[0m\n\u001b[1;32m----> 1\u001b[0m \u001b[43mf_e_target\u001b[49m\n",
      "\u001b[1;31mNameError\u001b[0m: name 'f_e_target' is not defined"
     ]
    }
   ],
   "source": [
    "f_e_target"
   ]
  },
  {
   "cell_type": "code",
   "execution_count": 21,
   "id": "6e0b2c5d",
   "metadata": {},
   "outputs": [
    {
     "data": {
      "text/html": [
       "<div>\n",
       "<style scoped>\n",
       "    .dataframe tbody tr th:only-of-type {\n",
       "        vertical-align: middle;\n",
       "    }\n",
       "\n",
       "    .dataframe tbody tr th {\n",
       "        vertical-align: top;\n",
       "    }\n",
       "\n",
       "    .dataframe thead th {\n",
       "        text-align: right;\n",
       "    }\n",
       "</style>\n",
       "<table border=\"1\" class=\"dataframe\">\n",
       "  <thead>\n",
       "    <tr style=\"text-align: right;\">\n",
       "      <th></th>\n",
       "      <th>Athlete</th>\n",
       "      <th>MileMinDur</th>\n",
       "    </tr>\n",
       "  </thead>\n",
       "  <tbody>\n",
       "    <tr>\n",
       "      <th>0</th>\n",
       "      <td>0</td>\n",
       "      <td>0:06:21</td>\n",
       "    </tr>\n",
       "    <tr>\n",
       "      <th>1</th>\n",
       "      <td>0</td>\n",
       "      <td>0:07:00</td>\n",
       "    </tr>\n",
       "    <tr>\n",
       "      <th>2</th>\n",
       "      <td>0</td>\n",
       "      <td>0:12:44</td>\n",
       "    </tr>\n",
       "    <tr>\n",
       "      <th>3</th>\n",
       "      <td>1</td>\n",
       "      <td>0:06:25</td>\n",
       "    </tr>\n",
       "    <tr>\n",
       "      <th>4</th>\n",
       "      <td>1</td>\n",
       "      <td>0:07:24</td>\n",
       "    </tr>\n",
       "  </tbody>\n",
       "</table>\n",
       "</div>"
      ],
      "text/plain": [
       "   Athlete MileMinDur\n",
       "0        0    0:06:21\n",
       "1        0    0:07:00\n",
       "2        0    0:12:44\n",
       "3        1    0:06:25\n",
       "4        1    0:07:24"
      ]
     },
     "execution_count": 21,
     "metadata": {},
     "output_type": "execute_result"
    }
   ],
   "source": [
    "df = pd.read_csv('../Downloads/Running.csv')\n",
    "df.head()"
   ]
  },
  {
   "cell_type": "code",
   "execution_count": 22,
   "id": "d9192f89",
   "metadata": {},
   "outputs": [],
   "source": [
    "alpha = 0.5"
   ]
  },
  {
   "cell_type": "code",
   "execution_count": 23,
   "id": "ef43f968",
   "metadata": {},
   "outputs": [
    {
     "data": {
      "text/html": [
       "<div>\n",
       "<style scoped>\n",
       "    .dataframe tbody tr th:only-of-type {\n",
       "        vertical-align: middle;\n",
       "    }\n",
       "\n",
       "    .dataframe tbody tr th {\n",
       "        vertical-align: top;\n",
       "    }\n",
       "\n",
       "    .dataframe thead th {\n",
       "        text-align: right;\n",
       "    }\n",
       "</style>\n",
       "<table border=\"1\" class=\"dataframe\">\n",
       "  <thead>\n",
       "    <tr style=\"text-align: right;\">\n",
       "      <th></th>\n",
       "      <th>Athlete</th>\n",
       "      <th>MileMinDur</th>\n",
       "      <th>sec</th>\n",
       "    </tr>\n",
       "  </thead>\n",
       "  <tbody>\n",
       "    <tr>\n",
       "      <th>0</th>\n",
       "      <td>0</td>\n",
       "      <td>0:06:21</td>\n",
       "      <td>381</td>\n",
       "    </tr>\n",
       "    <tr>\n",
       "      <th>1</th>\n",
       "      <td>0</td>\n",
       "      <td>0:07:00</td>\n",
       "      <td>420</td>\n",
       "    </tr>\n",
       "    <tr>\n",
       "      <th>2</th>\n",
       "      <td>0</td>\n",
       "      <td>0:12:44</td>\n",
       "      <td>764</td>\n",
       "    </tr>\n",
       "    <tr>\n",
       "      <th>3</th>\n",
       "      <td>1</td>\n",
       "      <td>0:06:25</td>\n",
       "      <td>385</td>\n",
       "    </tr>\n",
       "    <tr>\n",
       "      <th>4</th>\n",
       "      <td>1</td>\n",
       "      <td>0:07:24</td>\n",
       "      <td>444</td>\n",
       "    </tr>\n",
       "    <tr>\n",
       "      <th>...</th>\n",
       "      <td>...</td>\n",
       "      <td>...</td>\n",
       "      <td>...</td>\n",
       "    </tr>\n",
       "    <tr>\n",
       "      <th>387</th>\n",
       "      <td>0</td>\n",
       "      <td>0:10:59</td>\n",
       "      <td>659</td>\n",
       "    </tr>\n",
       "    <tr>\n",
       "      <th>388</th>\n",
       "      <td>0</td>\n",
       "      <td>0:12:55</td>\n",
       "      <td>775</td>\n",
       "    </tr>\n",
       "    <tr>\n",
       "      <th>389</th>\n",
       "      <td>0</td>\n",
       "      <td>0:08:33</td>\n",
       "      <td>513</td>\n",
       "    </tr>\n",
       "    <tr>\n",
       "      <th>390</th>\n",
       "      <td>1</td>\n",
       "      <td>0:08:26</td>\n",
       "      <td>506</td>\n",
       "    </tr>\n",
       "    <tr>\n",
       "      <th>391</th>\n",
       "      <td>1</td>\n",
       "      <td>0:07:13</td>\n",
       "      <td>433</td>\n",
       "    </tr>\n",
       "  </tbody>\n",
       "</table>\n",
       "<p>392 rows × 3 columns</p>\n",
       "</div>"
      ],
      "text/plain": [
       "     Athlete MileMinDur  sec\n",
       "0          0    0:06:21  381\n",
       "1          0    0:07:00  420\n",
       "2          0    0:12:44  764\n",
       "3          1    0:06:25  385\n",
       "4          1    0:07:24  444\n",
       "..       ...        ...  ...\n",
       "387        0    0:10:59  659\n",
       "388        0    0:12:55  775\n",
       "389        0    0:08:33  513\n",
       "390        1    0:08:26  506\n",
       "391        1    0:07:13  433\n",
       "\n",
       "[392 rows x 3 columns]"
      ]
     },
     "execution_count": 23,
     "metadata": {},
     "output_type": "execute_result"
    }
   ],
   "source": [
    "df['sec'] = df['MileMinDur'].apply(lambda x: int(x.split(':')[1]) * 60 + int(x.split(':')[2]))\n",
    "df"
   ]
  },
  {
   "cell_type": "code",
   "execution_count": 24,
   "id": "e234a0d0",
   "metadata": {},
   "outputs": [],
   "source": [
    "athletes = df[df['Athlete'] == 1]['sec']\n",
    "no_athletes = df[df['Athlete'] == 0]['sec']"
   ]
  },
  {
   "cell_type": "code",
   "execution_count": 25,
   "id": "60518d28",
   "metadata": {},
   "outputs": [
    {
     "data": {
      "image/png": "[encoded data removed]",
      "text/plain": [
       "<Figure size 432x288 with 1 Axes>"
      ]
     },
     "metadata": {
      "needs_background": "light"
     },
     "output_type": "display_data"
    }
   ],
   "source": [
    "athletes.hist();"
   ]
  },
  {
   "cell_type": "code",
   "execution_count": 26,
   "id": "80ec6625",
   "metadata": {},
   "outputs": [
    {
     "data": {
      "image/png": "[encoded data removed]",
      "text/plain": [
       "<Figure size 432x288 with 1 Axes>"
      ]
     },
     "metadata": {
      "needs_background": "light"
     },
     "output_type": "display_data"
    }
   ],
   "source": [
    "no_athletes.hist();"
   ]
  },
  {
   "cell_type": "code",
   "execution_count": 27,
   "id": "db0b96ca",
   "metadata": {},
   "outputs": [
    {
     "name": "stdout",
     "output_type": "stream",
     "text": [
      "2444.858853596203 14802.27848574238\n"
     ]
    }
   ],
   "source": [
    "print(athletes.var(), no_athletes.var())"
   ]
  },
  {
   "cell_type": "code",
   "execution_count": 28,
   "id": "2ebc0387",
   "metadata": {},
   "outputs": [],
   "source": [
    "n_1 = len(athletes)\n",
    "n_2 = len(no_athletes)\n",
    "var_1 = athletes.var()\n",
    "var_2 = no_athletes.var()"
   ]
  },
  {
   "cell_type": "code",
   "execution_count": 29,
   "id": "5915d124",
   "metadata": {},
   "outputs": [
    {
     "data": {
      "text/plain": [
       "315.7925948972666"
      ]
     },
     "execution_count": 29,
     "metadata": {},
     "output_type": "execute_result"
    }
   ],
   "source": [
    "v1 = var_1 / n_1\n",
    "v2 = var_2 / n_2\n",
    "dof_welch = (v1 + v2) ** 2 /((v1 ** 2 / (n_1 - 1)) + v2 ** 2 / (n_2 - 1))\n",
    "dof_welch"
   ]
  },
  {
   "cell_type": "code",
   "execution_count": 30,
   "id": "78a70ac9",
   "metadata": {},
   "outputs": [],
   "source": [
    "s_m1_m2 = np.sqrt(v1 + v2)"
   ]
  },
  {
   "cell_type": "code",
   "execution_count": 31,
   "id": "8fe80963",
   "metadata": {},
   "outputs": [],
   "source": [
    "mean_1 = athletes.mean()\n",
    "mean_2 = no_athletes.mean()"
   ]
  },
  {
   "cell_type": "code",
   "execution_count": 32,
   "id": "d8e27d07",
   "metadata": {},
   "outputs": [
    {
     "data": {
      "text/plain": [
       "15.048678915697742"
      ]
     },
     "execution_count": 32,
     "metadata": {},
     "output_type": "execute_result"
    }
   ],
   "source": [
    "t = (mean_2 - mean_1) / s_m1_m2\n",
    "t"
   ]
  },
  {
   "cell_type": "code",
   "execution_count": 33,
   "id": "50efe864",
   "metadata": {},
   "outputs": [
    {
     "data": {
      "text/plain": [
       "Ttest_indResult(statistic=-15.048678915697742, pvalue=5.824578890260176e-39)"
      ]
     },
     "execution_count": 33,
     "metadata": {},
     "output_type": "execute_result"
    }
   ],
   "source": [
    "scipy.stats.ttest_ind_from_stats(mean_1, np.sqrt(var_1), n_1,\n",
    "                                mean_2, np.sqrt(var_2), n_2,\n",
    "                                equal_var=False)"
   ]
  },
  {
   "cell_type": "code",
   "execution_count": 34,
   "id": "32f9f30b",
   "metadata": {},
   "outputs": [
    {
     "data": {
      "text/plain": [
       "Ttest_indResult(statistic=-15.048678915697742, pvalue=5.82457889026026e-39)"
      ]
     },
     "execution_count": 34,
     "metadata": {},
     "output_type": "execute_result"
    }
   ],
   "source": [
    "scipy.stats.ttest_ind(athletes, no_athletes, equal_var=False)"
   ]
  },
  {
   "cell_type": "code",
   "execution_count": 35,
   "id": "8a08a6fc",
   "metadata": {},
   "outputs": [],
   "source": [
    "t_critical = 1.9667"
   ]
  },
  {
   "cell_type": "code",
   "execution_count": 36,
   "id": "0a322f9d",
   "metadata": {},
   "outputs": [
    {
     "name": "stdout",
     "output_type": "stream",
     "text": [
      "117.17311174188869 152.40392205702386\n"
     ]
    }
   ],
   "source": [
    "CI_b = (mean_2 - mean_1) - t_critical * s_m1_m2\n",
    "CI_t = (mean_2 - mean_1) + t_critical * s_m1_m2\n",
    "print(CI_b, CI_t)"
   ]
  },
  {
   "cell_type": "code",
   "execution_count": 41,
   "id": "91e5d94a",
   "metadata": {},
   "outputs": [
    {
     "data": {
      "text/plain": [
       "Ttest_indResult(statistic=array([0.11689002]), pvalue=array([0.90926149]))"
      ]
     },
     "execution_count": 41,
     "metadata": {},
     "output_type": "execute_result"
    }
   ],
   "source": [
    "X = pd.DataFrame([23, 3, 11, 35, -3, -10])\n",
    "Y = pd.DataFrame([29, 1, 20, 3, 0, 0])\n",
    "scipy.stats.ttest_ind(X, Y, equal_var=False)"
   ]
  },
  {
   "cell_type": "code",
   "execution_count": 42,
   "id": "48b83cc6",
   "metadata": {},
   "outputs": [
    {
     "data": {
      "text/plain": [
       "Ttest_indResult(statistic=array([-0.17245225]), pvalue=array([0.86675389]))"
      ]
     },
     "execution_count": 42,
     "metadata": {},
     "output_type": "execute_result"
    }
   ],
   "source": [
    "X = pd.DataFrame([13, 0, 6, 9, -1, 0])\n",
    "Y = pd.DataFrame([4, 1, 5, 1, 20, 0])\n",
    "scipy.stats.ttest_ind(X, Y, equal_var=False)"
   ]
  },
  {
   "cell_type": "code",
   "execution_count": 47,
   "id": "18eb24a3",
   "metadata": {},
   "outputs": [
    {
     "data": {
      "text/plain": [
       "0    1.166603\n",
       "dtype: float64"
      ]
     },
     "execution_count": 47,
     "metadata": {},
     "output_type": "execute_result"
    }
   ],
   "source": [
    "X = pd.DataFrame([3, 2, 98, 34, 11, 2])\n",
    "S = np.sqrt(np.power(X - X.mean(), 2).sum() / len(X) - 1)\n",
    "t = (X.mean() - 7) / (S/ np.sqrt(len(X) - 1))\n",
    "t"
   ]
  },
  {
   "cell_type": "code",
   "execution_count": 48,
   "id": "abff23dd",
   "metadata": {},
   "outputs": [
    {
     "data": {
      "text/html": [
       "<div>\n",
       "<style scoped>\n",
       "    .dataframe tbody tr th:only-of-type {\n",
       "        vertical-align: middle;\n",
       "    }\n",
       "\n",
       "    .dataframe tbody tr th {\n",
       "        vertical-align: top;\n",
       "    }\n",
       "\n",
       "    .dataframe thead th {\n",
       "        text-align: right;\n",
       "    }\n",
       "</style>\n",
       "<table border=\"1\" class=\"dataframe\">\n",
       "  <thead>\n",
       "    <tr style=\"text-align: right;\">\n",
       "      <th></th>\n",
       "      <th>Unnamed: 0</th>\n",
       "      <th>statefips</th>\n",
       "      <th>state</th>\n",
       "      <th>gisjoin</th>\n",
       "      <th>lat_tract</th>\n",
       "      <th>long_tract</th>\n",
       "      <th>population</th>\n",
       "      <th>adj_radiuspop_5</th>\n",
       "      <th>urbanindex</th>\n",
       "      <th>log_pop</th>\n",
       "    </tr>\n",
       "  </thead>\n",
       "  <tbody>\n",
       "    <tr>\n",
       "      <th>0</th>\n",
       "      <td>0</td>\n",
       "      <td>1</td>\n",
       "      <td>Alabama</td>\n",
       "      <td>G0100010020100</td>\n",
       "      <td>32.47718</td>\n",
       "      <td>-86.49007</td>\n",
       "      <td>1845</td>\n",
       "      <td>44076.0</td>\n",
       "      <td>10.69367</td>\n",
       "      <td>7.520235</td>\n",
       "    </tr>\n",
       "    <tr>\n",
       "      <th>1</th>\n",
       "      <td>1</td>\n",
       "      <td>1</td>\n",
       "      <td>Alabama</td>\n",
       "      <td>G0100010020200</td>\n",
       "      <td>32.47425</td>\n",
       "      <td>-86.47337</td>\n",
       "      <td>2172</td>\n",
       "      <td>43008.0</td>\n",
       "      <td>10.66914</td>\n",
       "      <td>7.683404</td>\n",
       "    </tr>\n",
       "    <tr>\n",
       "      <th>2</th>\n",
       "      <td>2</td>\n",
       "      <td>1</td>\n",
       "      <td>Alabama</td>\n",
       "      <td>G0100010020300</td>\n",
       "      <td>32.47543</td>\n",
       "      <td>-86.46019</td>\n",
       "      <td>3385</td>\n",
       "      <td>38987.0</td>\n",
       "      <td>10.57098</td>\n",
       "      <td>8.127109</td>\n",
       "    </tr>\n",
       "    <tr>\n",
       "      <th>3</th>\n",
       "      <td>3</td>\n",
       "      <td>1</td>\n",
       "      <td>Alabama</td>\n",
       "      <td>G0100010020400</td>\n",
       "      <td>32.47200</td>\n",
       "      <td>-86.44363</td>\n",
       "      <td>4267</td>\n",
       "      <td>43131.0</td>\n",
       "      <td>10.67200</td>\n",
       "      <td>8.358666</td>\n",
       "    </tr>\n",
       "    <tr>\n",
       "      <th>4</th>\n",
       "      <td>4</td>\n",
       "      <td>1</td>\n",
       "      <td>Alabama</td>\n",
       "      <td>G0100010020500</td>\n",
       "      <td>32.45883</td>\n",
       "      <td>-86.42266</td>\n",
       "      <td>9965</td>\n",
       "      <td>43131.0</td>\n",
       "      <td>10.67200</td>\n",
       "      <td>9.206834</td>\n",
       "    </tr>\n",
       "  </tbody>\n",
       "</table>\n",
       "</div>"
      ],
      "text/plain": [
       "   Unnamed: 0  statefips    state         gisjoin  lat_tract  long_tract  \\\n",
       "0           0          1  Alabama  G0100010020100   32.47718   -86.49007   \n",
       "1           1          1  Alabama  G0100010020200   32.47425   -86.47337   \n",
       "2           2          1  Alabama  G0100010020300   32.47543   -86.46019   \n",
       "3           3          1  Alabama  G0100010020400   32.47200   -86.44363   \n",
       "4           4          1  Alabama  G0100010020500   32.45883   -86.42266   \n",
       "\n",
       "   population  adj_radiuspop_5  urbanindex   log_pop  \n",
       "0        1845          44076.0    10.69367  7.520235  \n",
       "1        2172          43008.0    10.66914  7.683404  \n",
       "2        3385          38987.0    10.57098  8.127109  \n",
       "3        4267          43131.0    10.67200  8.358666  \n",
       "4        9965          43131.0    10.67200  9.206834  "
      ]
     },
     "execution_count": 48,
     "metadata": {},
     "output_type": "execute_result"
    }
   ],
   "source": [
    "urba = pd.read_csv('../Downloads/UrbanizationCensusTract.csv')\n",
    "urba.head()"
   ]
  },
  {
   "cell_type": "code",
   "execution_count": 61,
   "id": "a0b0985f",
   "metadata": {},
   "outputs": [
    {
     "name": "stdout",
     "output_type": "stream",
     "text": [
      "0.24738635408141207 0.18517126178551693 False\n"
     ]
    }
   ],
   "source": [
    "X = urba[urba['state'] == 'Wyoming']['log_pop']\n",
    "Y = urba[urba['state'] == 'South Dakota']['log_pop']\n",
    "Sx = X.var()\n",
    "Sy = Y.var()\n",
    "print(Sy, Sx, Sx == Sy)"
   ]
  },
  {
   "cell_type": "code",
   "execution_count": 62,
   "id": "2df38ab1",
   "metadata": {},
   "outputs": [
    {
     "data": {
      "text/plain": [
       "304.74376993186024"
      ]
     },
     "execution_count": 62,
     "metadata": {},
     "output_type": "execute_result"
    }
   ],
   "source": [
    "n_1 = len(X)\n",
    "n_2 = len(Y)\n",
    "v1 = Sx / n_1\n",
    "v2 = Sy / n_2\n",
    "dof_welch = (v1 + v2) ** 2 /((v1 ** 2 / (n_1 - 1)) + v2 ** 2 / (n_2 - 1))\n",
    "dof_welch"
   ]
  },
  {
   "cell_type": "code",
   "execution_count": 68,
   "id": "d6810f4c",
   "metadata": {},
   "outputs": [
    {
     "data": {
      "text/plain": [
       "0.050429546274961226"
      ]
     },
     "execution_count": 68,
     "metadata": {},
     "output_type": "execute_result"
    }
   ],
   "source": [
    "s_m1_m2 = np.sqrt(v1 + v2)\n",
    "s_m1_m2"
   ]
  },
  {
   "cell_type": "code",
   "execution_count": 69,
   "id": "35098656",
   "metadata": {},
   "outputs": [
    {
     "data": {
      "text/plain": [
       "0.17812507657673038"
      ]
     },
     "execution_count": 69,
     "metadata": {},
     "output_type": "execute_result"
    }
   ],
   "source": [
    "X.mean() - Y.mean()"
   ]
  },
  {
   "cell_type": "code",
   "execution_count": 70,
   "id": "c0d85b99",
   "metadata": {},
   "outputs": [
    {
     "data": {
      "text/plain": [
       "Ttest_indResult(statistic=3.5321570336075356, pvalue=0.00047596931710874944)"
      ]
     },
     "execution_count": 70,
     "metadata": {},
     "output_type": "execute_result"
    }
   ],
   "source": [
    "scipy.stats.ttest_ind(X, Y, equal_var=False)"
   ]
  },
  {
   "cell_type": "code",
   "execution_count": 71,
   "id": "902ba1d5",
   "metadata": {},
   "outputs": [
    {
     "name": "stdout",
     "output_type": "stream",
     "text": [
      "0.04741169263203088 0.3088384605214299\n"
     ]
    }
   ],
   "source": [
    "CI_b = (X.mean() - Y.mean()) - 2.5920 * s_m1_m2\n",
    "CI_t = (X.mean() - Y.mean()) + 2.5920 * s_m1_m2\n",
    "print(CI_b, CI_t)"
   ]
  },
  {
   "cell_type": "code",
   "execution_count": null,
   "id": "c5c77eb0",
   "metadata": {},
   "outputs": [],
   "source": []
  }
 ],
 "metadata": {
  "kernelspec": {
   "display_name": "Python 3 (ipykernel)",
   "language": "python",
   "name": "python3"
  },
  "language_info": {
   "codemirror_mode": {
    "name": "ipython",
    "version": 3
   },
   "file_extension": ".py",
   "mimetype": "text/x-python",
   "name": "python",
   "nbconvert_exporter": "python",
   "pygments_lexer": "ipython3",
   "version": "3.9.12"
  }
 },
 "nbformat": 4,
 "nbformat_minor": 5
}
