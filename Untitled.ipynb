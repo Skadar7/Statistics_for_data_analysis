{
 "cells": [
  {
   "cell_type": "code",
   "execution_count": 3,
   "id": "ead02469",
   "metadata": {},
   "outputs": [],
   "source": [
    "import pandas as pd"
   ]
  },
  {
   "cell_type": "code",
   "execution_count": 4,
   "id": "bc5697c6",
   "metadata": {},
   "outputs": [
    {
     "data": {
      "text/html": [
       "<div>\n",
       "<style scoped>\n",
       "    .dataframe tbody tr th:only-of-type {\n",
       "        vertical-align: middle;\n",
       "    }\n",
       "\n",
       "    .dataframe tbody tr th {\n",
       "        vertical-align: top;\n",
       "    }\n",
       "\n",
       "    .dataframe thead th {\n",
       "        text-align: right;\n",
       "    }\n",
       "</style>\n",
       "<table border=\"1\" class=\"dataframe\">\n",
       "  <thead>\n",
       "    <tr style=\"text-align: right;\">\n",
       "      <th></th>\n",
       "      <th>Date</th>\n",
       "      <th>Hour</th>\n",
       "      <th>Temperature</th>\n",
       "      <th>Humidity</th>\n",
       "      <th>Wind speed</th>\n",
       "      <th>Rainfall</th>\n",
       "      <th>Snowfall</th>\n",
       "      <th>Seasons</th>\n",
       "      <th>Holiday</th>\n",
       "      <th>Functioning Day</th>\n",
       "      <th>Rental Count</th>\n",
       "      <th>Normal Humidity</th>\n",
       "      <th>Temperature Category</th>\n",
       "      <th>Good Weather</th>\n",
       "    </tr>\n",
       "  </thead>\n",
       "  <tbody>\n",
       "    <tr>\n",
       "      <th>0</th>\n",
       "      <td>2017-12-01</td>\n",
       "      <td>0</td>\n",
       "      <td>-5.2</td>\n",
       "      <td>37</td>\n",
       "      <td>2.2</td>\n",
       "      <td>0.0</td>\n",
       "      <td>0.0</td>\n",
       "      <td>Winter</td>\n",
       "      <td>0</td>\n",
       "      <td>True</td>\n",
       "      <td>257</td>\n",
       "      <td>0</td>\n",
       "      <td>Freezing</td>\n",
       "      <td>0</td>\n",
       "    </tr>\n",
       "    <tr>\n",
       "      <th>1</th>\n",
       "      <td>2017-12-01</td>\n",
       "      <td>1</td>\n",
       "      <td>-5.5</td>\n",
       "      <td>38</td>\n",
       "      <td>0.8</td>\n",
       "      <td>0.0</td>\n",
       "      <td>0.0</td>\n",
       "      <td>Winter</td>\n",
       "      <td>0</td>\n",
       "      <td>True</td>\n",
       "      <td>219</td>\n",
       "      <td>0</td>\n",
       "      <td>Freezing</td>\n",
       "      <td>0</td>\n",
       "    </tr>\n",
       "    <tr>\n",
       "      <th>2</th>\n",
       "      <td>2017-12-01</td>\n",
       "      <td>2</td>\n",
       "      <td>-6.0</td>\n",
       "      <td>39</td>\n",
       "      <td>1.0</td>\n",
       "      <td>0.0</td>\n",
       "      <td>0.0</td>\n",
       "      <td>Winter</td>\n",
       "      <td>0</td>\n",
       "      <td>True</td>\n",
       "      <td>162</td>\n",
       "      <td>0</td>\n",
       "      <td>Freezing</td>\n",
       "      <td>0</td>\n",
       "    </tr>\n",
       "    <tr>\n",
       "      <th>3</th>\n",
       "      <td>2017-12-01</td>\n",
       "      <td>3</td>\n",
       "      <td>-6.2</td>\n",
       "      <td>40</td>\n",
       "      <td>0.9</td>\n",
       "      <td>0.0</td>\n",
       "      <td>0.0</td>\n",
       "      <td>Winter</td>\n",
       "      <td>0</td>\n",
       "      <td>True</td>\n",
       "      <td>148</td>\n",
       "      <td>1</td>\n",
       "      <td>Freezing</td>\n",
       "      <td>0</td>\n",
       "    </tr>\n",
       "    <tr>\n",
       "      <th>4</th>\n",
       "      <td>2017-12-01</td>\n",
       "      <td>4</td>\n",
       "      <td>-6.0</td>\n",
       "      <td>36</td>\n",
       "      <td>2.3</td>\n",
       "      <td>0.0</td>\n",
       "      <td>0.0</td>\n",
       "      <td>Winter</td>\n",
       "      <td>0</td>\n",
       "      <td>True</td>\n",
       "      <td>97</td>\n",
       "      <td>0</td>\n",
       "      <td>Freezing</td>\n",
       "      <td>0</td>\n",
       "    </tr>\n",
       "  </tbody>\n",
       "</table>\n",
       "</div>"
      ],
      "text/plain": [
       "        Date  Hour  Temperature  Humidity  Wind speed  Rainfall  Snowfall  \\\n",
       "0 2017-12-01     0         -5.2        37         2.2       0.0       0.0   \n",
       "1 2017-12-01     1         -5.5        38         0.8       0.0       0.0   \n",
       "2 2017-12-01     2         -6.0        39         1.0       0.0       0.0   \n",
       "3 2017-12-01     3         -6.2        40         0.9       0.0       0.0   \n",
       "4 2017-12-01     4         -6.0        36         2.3       0.0       0.0   \n",
       "\n",
       "  Seasons  Holiday  Functioning Day  Rental Count  Normal Humidity  \\\n",
       "0  Winter        0             True           257                0   \n",
       "1  Winter        0             True           219                0   \n",
       "2  Winter        0             True           162                0   \n",
       "3  Winter        0             True           148                1   \n",
       "4  Winter        0             True            97                0   \n",
       "\n",
       "  Temperature Category  Good Weather  \n",
       "0             Freezing             0  \n",
       "1             Freezing             0  \n",
       "2             Freezing             0  \n",
       "3             Freezing             0  \n",
       "4             Freezing             0  "
      ]
     },
     "execution_count": 4,
     "metadata": {},
     "output_type": "execute_result"
    }
   ],
   "source": [
    "data = pd.read_pickle('C:/Users/Professional/Downloads/BikesDataVars (1).pkl')\n",
    "data.head()"
   ]
  },
  {
   "cell_type": "code",
   "execution_count": 9,
   "id": "6c3dba16",
   "metadata": {},
   "outputs": [
    {
     "name": "stdout",
     "output_type": "stream",
     "text": [
      "Available Themes: \n",
      "   chesterish\n",
      "   grade3\n",
      "   gruvboxd\n",
      "   gruvboxl\n",
      "   monokai\n",
      "   oceans16\n",
      "   onedork\n",
      "   solarizedd\n",
      "   solarizedl\n"
     ]
    }
   ],
   "source": [
    "! jt -l"
   ]
  },
  {
   "cell_type": "code",
   "execution_count": 5,
   "id": "1e85cfab",
   "metadata": {},
   "outputs": [],
   "source": [
    "!jt -t gruvboxd -T -N -kl"
   ]
  },
  {
   "cell_type": "code",
   "execution_count": 3,
   "id": "4bae8dd7",
   "metadata": {},
   "outputs": [
    {
     "name": "stdout",
     "output_type": "stream",
     "text": [
      "Reset css and font defaults in:\n",
      "C:\\Users\\Professional\\.jupyter\\custom &\n",
      "C:\\Users\\Professional\\AppData\\Roaming\\jupyter\\nbextensions\n"
     ]
    }
   ],
   "source": [
    "!jt -r"
   ]
  },
  {
   "cell_type": "code",
   "execution_count": 6,
   "id": "2d5b8e16",
   "metadata": {},
   "outputs": [
    {
     "data": {
      "text/plain": [
       "58.226255707762554"
      ]
     },
     "execution_count": 6,
     "metadata": {},
     "output_type": "execute_result"
    }
   ],
   "source": [
    "data['Humidity'].sum() / len(data['Humidity'])"
   ]
  },
  {
   "cell_type": "code",
   "execution_count": 7,
   "id": "e705eea9",
   "metadata": {},
   "outputs": [
    {
     "data": {
      "text/plain": [
       "58.226255707762554"
      ]
     },
     "execution_count": 7,
     "metadata": {},
     "output_type": "execute_result"
    }
   ],
   "source": [
    "data['Humidity'].mean()"
   ]
  },
  {
   "cell_type": "code",
   "execution_count": 12,
   "id": "29a89bd3",
   "metadata": {},
   "outputs": [
    {
     "name": "stdout",
     "output_type": "stream",
     "text": [
      "8760\n"
     ]
    }
   ],
   "source": [
    "sort_hum = data['Humidity'].sort_values().reset_index(drop=True)\n",
    "print(len(sort_hum))"
   ]
  },
  {
   "cell_type": "code",
   "execution_count": 15,
   "id": "c1e0fc71",
   "metadata": {},
   "outputs": [
    {
     "name": "stdout",
     "output_type": "stream",
     "text": [
      "4380 4381\n",
      "57.0\n"
     ]
    }
   ],
   "source": [
    "ind_1, ind_2 = int(len(sort_hum) / 2), int(len(sort_hum)/ 2) + 1\n",
    "print(ind_1, ind_2)\n",
    "print((sort_hum[ind_1] + sort_hum[ind_2]) / 2)"
   ]
  },
  {
   "cell_type": "code",
   "execution_count": 16,
   "id": "6db0fd1b",
   "metadata": {},
   "outputs": [
    {
     "data": {
      "text/plain": [
       "57.0"
      ]
     },
     "execution_count": 16,
     "metadata": {},
     "output_type": "execute_result"
    }
   ],
   "source": [
    "data['Humidity'].median()"
   ]
  },
  {
   "cell_type": "code",
   "execution_count": 20,
   "id": "ec648836",
   "metadata": {},
   "outputs": [
    {
     "data": {
      "text/plain": [
       "53    173\n",
       "97    173\n",
       "Name: Humidity, dtype: int64"
      ]
     },
     "execution_count": 20,
     "metadata": {},
     "output_type": "execute_result"
    }
   ],
   "source": [
    "data['Humidity'].value_counts().head(2)"
   ]
  },
  {
   "cell_type": "code",
   "execution_count": 22,
   "id": "7c89fa9f",
   "metadata": {},
   "outputs": [
    {
     "data": {
      "text/plain": [
       "0    53\n",
       "1    97\n",
       "Name: Humidity, dtype: int64"
      ]
     },
     "execution_count": 22,
     "metadata": {},
     "output_type": "execute_result"
    }
   ],
   "source": [
    "data['Humidity'].mode()"
   ]
  },
  {
   "cell_type": "code",
   "execution_count": 23,
   "id": "f77a755f",
   "metadata": {},
   "outputs": [
    {
     "data": {
      "text/plain": [
       "<AxesSubplot:>"
      ]
     },
     "execution_count": 23,
     "metadata": {},
     "output_type": "execute_result"
    },
    {
     "data": {
      "image/png": "[encoded data removed]",
      "text/plain": [
       "<Figure size 432x288 with 1 Axes>"
      ]
     },
     "metadata": {
      "needs_background": "light"
     },
     "output_type": "display_data"
    }
   ],
   "source": [
    "data['Humidity'].hist(bins=100)"
   ]
  },
  {
   "cell_type": "code",
   "execution_count": 24,
   "id": "a5c4552d",
   "metadata": {},
   "outputs": [
    {
     "data": {
      "text/html": [
       "<div>\n",
       "<style scoped>\n",
       "    .dataframe tbody tr th:only-of-type {\n",
       "        vertical-align: middle;\n",
       "    }\n",
       "\n",
       "    .dataframe tbody tr th {\n",
       "        vertical-align: top;\n",
       "    }\n",
       "\n",
       "    .dataframe thead th {\n",
       "        text-align: right;\n",
       "    }\n",
       "</style>\n",
       "<table border=\"1\" class=\"dataframe\">\n",
       "  <thead>\n",
       "    <tr style=\"text-align: right;\">\n",
       "      <th></th>\n",
       "      <th>Hour</th>\n",
       "      <th>Temperature</th>\n",
       "      <th>Humidity</th>\n",
       "      <th>Wind speed</th>\n",
       "      <th>Rainfall</th>\n",
       "      <th>Snowfall</th>\n",
       "      <th>Holiday</th>\n",
       "      <th>Rental Count</th>\n",
       "      <th>Normal Humidity</th>\n",
       "      <th>Good Weather</th>\n",
       "    </tr>\n",
       "  </thead>\n",
       "  <tbody>\n",
       "    <tr>\n",
       "      <th>count</th>\n",
       "      <td>8760.000000</td>\n",
       "      <td>8581.000000</td>\n",
       "      <td>8760.000000</td>\n",
       "      <td>8760.000000</td>\n",
       "      <td>8760.000000</td>\n",
       "      <td>8760.000000</td>\n",
       "      <td>8760.000000</td>\n",
       "      <td>8760.000000</td>\n",
       "      <td>8760.00000</td>\n",
       "      <td>8760.000000</td>\n",
       "    </tr>\n",
       "    <tr>\n",
       "      <th>mean</th>\n",
       "      <td>11.500000</td>\n",
       "      <td>12.878557</td>\n",
       "      <td>58.226256</td>\n",
       "      <td>1.724909</td>\n",
       "      <td>0.148687</td>\n",
       "      <td>0.075068</td>\n",
       "      <td>0.049315</td>\n",
       "      <td>696.582078</td>\n",
       "      <td>0.34532</td>\n",
       "      <td>0.092694</td>\n",
       "    </tr>\n",
       "    <tr>\n",
       "      <th>std</th>\n",
       "      <td>6.922582</td>\n",
       "      <td>11.955551</td>\n",
       "      <td>20.362413</td>\n",
       "      <td>1.036300</td>\n",
       "      <td>1.128193</td>\n",
       "      <td>0.436746</td>\n",
       "      <td>0.216537</td>\n",
       "      <td>749.812613</td>\n",
       "      <td>0.47550</td>\n",
       "      <td>0.290020</td>\n",
       "    </tr>\n",
       "    <tr>\n",
       "      <th>min</th>\n",
       "      <td>0.000000</td>\n",
       "      <td>-17.800000</td>\n",
       "      <td>0.000000</td>\n",
       "      <td>0.000000</td>\n",
       "      <td>0.000000</td>\n",
       "      <td>0.000000</td>\n",
       "      <td>0.000000</td>\n",
       "      <td>0.000000</td>\n",
       "      <td>0.00000</td>\n",
       "      <td>0.000000</td>\n",
       "    </tr>\n",
       "    <tr>\n",
       "      <th>25%</th>\n",
       "      <td>5.750000</td>\n",
       "      <td>3.400000</td>\n",
       "      <td>42.000000</td>\n",
       "      <td>0.900000</td>\n",
       "      <td>0.000000</td>\n",
       "      <td>0.000000</td>\n",
       "      <td>0.000000</td>\n",
       "      <td>157.000000</td>\n",
       "      <td>0.00000</td>\n",
       "      <td>0.000000</td>\n",
       "    </tr>\n",
       "    <tr>\n",
       "      <th>50%</th>\n",
       "      <td>11.500000</td>\n",
       "      <td>13.700000</td>\n",
       "      <td>57.000000</td>\n",
       "      <td>1.500000</td>\n",
       "      <td>0.000000</td>\n",
       "      <td>0.000000</td>\n",
       "      <td>0.000000</td>\n",
       "      <td>425.500000</td>\n",
       "      <td>0.00000</td>\n",
       "      <td>0.000000</td>\n",
       "    </tr>\n",
       "    <tr>\n",
       "      <th>75%</th>\n",
       "      <td>17.250000</td>\n",
       "      <td>22.500000</td>\n",
       "      <td>74.000000</td>\n",
       "      <td>2.300000</td>\n",
       "      <td>0.000000</td>\n",
       "      <td>0.000000</td>\n",
       "      <td>0.000000</td>\n",
       "      <td>1009.000000</td>\n",
       "      <td>1.00000</td>\n",
       "      <td>0.000000</td>\n",
       "    </tr>\n",
       "    <tr>\n",
       "      <th>max</th>\n",
       "      <td>23.000000</td>\n",
       "      <td>39.400000</td>\n",
       "      <td>98.000000</td>\n",
       "      <td>7.400000</td>\n",
       "      <td>35.000000</td>\n",
       "      <td>8.800000</td>\n",
       "      <td>1.000000</td>\n",
       "      <td>6012.000000</td>\n",
       "      <td>1.00000</td>\n",
       "      <td>1.000000</td>\n",
       "    </tr>\n",
       "  </tbody>\n",
       "</table>\n",
       "</div>"
      ],
      "text/plain": [
       "              Hour  Temperature     Humidity   Wind speed     Rainfall  \\\n",
       "count  8760.000000  8581.000000  8760.000000  8760.000000  8760.000000   \n",
       "mean     11.500000    12.878557    58.226256     1.724909     0.148687   \n",
       "std       6.922582    11.955551    20.362413     1.036300     1.128193   \n",
       "min       0.000000   -17.800000     0.000000     0.000000     0.000000   \n",
       "25%       5.750000     3.400000    42.000000     0.900000     0.000000   \n",
       "50%      11.500000    13.700000    57.000000     1.500000     0.000000   \n",
       "75%      17.250000    22.500000    74.000000     2.300000     0.000000   \n",
       "max      23.000000    39.400000    98.000000     7.400000    35.000000   \n",
       "\n",
       "          Snowfall      Holiday  Rental Count  Normal Humidity  Good Weather  \n",
       "count  8760.000000  8760.000000   8760.000000       8760.00000   8760.000000  \n",
       "mean      0.075068     0.049315    696.582078          0.34532      0.092694  \n",
       "std       0.436746     0.216537    749.812613          0.47550      0.290020  \n",
       "min       0.000000     0.000000      0.000000          0.00000      0.000000  \n",
       "25%       0.000000     0.000000    157.000000          0.00000      0.000000  \n",
       "50%       0.000000     0.000000    425.500000          0.00000      0.000000  \n",
       "75%       0.000000     0.000000   1009.000000          1.00000      0.000000  \n",
       "max       8.800000     1.000000   6012.000000          1.00000      1.000000  "
      ]
     },
     "execution_count": 24,
     "metadata": {},
     "output_type": "execute_result"
    }
   ],
   "source": [
    "data.describe()"
   ]
  },
  {
   "cell_type": "code",
   "execution_count": 27,
   "id": "8cf5363b",
   "metadata": {},
   "outputs": [
    {
     "data": {
      "text/plain": [
       "<AxesSubplot:xlabel='Hour'>"
      ]
     },
     "execution_count": 27,
     "metadata": {},
     "output_type": "execute_result"
    },
    {
     "data": {
      "image/png": "[encoded data removed]",
      "text/plain": [
       "<Figure size 432x288 with 1 Axes>"
      ]
     },
     "metadata": {
      "needs_background": "light"
     },
     "output_type": "display_data"
    }
   ],
   "source": [
    "data.groupby('Hour')['Rental Count'].mean().plot(kind='bar')"
   ]
  },
  {
   "cell_type": "code",
   "execution_count": 30,
   "id": "da0ed7ac",
   "metadata": {},
   "outputs": [
    {
     "data": {
      "text/plain": [
       "Hour  Good Weather\n",
       "0     0                386.0\n",
       "      1               1053.0\n",
       "1     0                301.0\n",
       "      1                621.5\n",
       "2     0                230.0\n",
       "      1                550.0\n",
       "3     0                155.0\n",
       "      1                347.0\n",
       "4     0                 91.0\n",
       "      1                193.5\n",
       "5     0                105.0\n",
       "      1                353.5\n",
       "6     0                188.0\n",
       "      1                349.0\n",
       "7     0                386.5\n",
       "      1                671.0\n",
       "8     0                755.0\n",
       "      1                914.5\n",
       "9     0                477.0\n",
       "      1                995.0\n",
       "10    0                346.0\n",
       "      1                724.0\n",
       "11    0                422.0\n",
       "      1               1005.5\n",
       "12    0                506.0\n",
       "      1               1048.0\n",
       "13    0                505.0\n",
       "      1                933.5\n",
       "14    0                534.0\n",
       "      1                874.0\n",
       "15    0                668.5\n",
       "      1                758.0\n",
       "16    0                771.0\n",
       "      1               1047.0\n",
       "17    0                844.0\n",
       "      1               1410.0\n",
       "18    0               1015.5\n",
       "      1               2084.0\n",
       "19    0                694.0\n",
       "      1               1618.0\n",
       "20    0                577.0\n",
       "      1               1851.5\n",
       "21    0                590.0\n",
       "      1               1653.0\n",
       "22    0                595.0\n",
       "      1               1429.0\n",
       "23    0                439.0\n",
       "      1                973.0\n",
       "Name: Rental Count, dtype: float64"
      ]
     },
     "execution_count": 30,
     "metadata": {},
     "output_type": "execute_result"
    }
   ],
   "source": [
    "data.groupby(['Hour', 'Good Weather'])['Rental Count'].median()"
   ]
  },
  {
   "cell_type": "code",
   "execution_count": 33,
   "id": "c1cdd6bc",
   "metadata": {},
   "outputs": [
    {
     "data": {
      "text/plain": [
       "Seasons\n",
       "Autumn      Chilly\n",
       "Spring      Chilly\n",
       "Summer         Hot\n",
       "Winter    Freezing\n",
       "Name: Temperature Category, dtype: object"
      ]
     },
     "execution_count": 33,
     "metadata": {},
     "output_type": "execute_result"
    }
   ],
   "source": [
    "data.groupby('Seasons')['Temperature Category'].agg(lambda x: x.value_counts().index[0])"
   ]
  },
  {
   "cell_type": "code",
   "execution_count": 35,
   "id": "70f97d00",
   "metadata": {},
   "outputs": [
    {
     "data": {
      "text/html": [
       "<div>\n",
       "<style scoped>\n",
       "    .dataframe tbody tr th:only-of-type {\n",
       "        vertical-align: middle;\n",
       "    }\n",
       "\n",
       "    .dataframe tbody tr th {\n",
       "        vertical-align: top;\n",
       "    }\n",
       "\n",
       "    .dataframe thead th {\n",
       "        text-align: right;\n",
       "    }\n",
       "</style>\n",
       "<table border=\"1\" class=\"dataframe\">\n",
       "  <thead>\n",
       "    <tr style=\"text-align: right;\">\n",
       "      <th></th>\n",
       "      <th>mean</th>\n",
       "      <th>median</th>\n",
       "    </tr>\n",
       "    <tr>\n",
       "      <th>Seasons</th>\n",
       "      <th></th>\n",
       "      <th></th>\n",
       "    </tr>\n",
       "  </thead>\n",
       "  <tbody>\n",
       "    <tr>\n",
       "      <th>Autumn</th>\n",
       "      <td>14.138821</td>\n",
       "      <td>13.8</td>\n",
       "    </tr>\n",
       "    <tr>\n",
       "      <th>Spring</th>\n",
       "      <td>13.038533</td>\n",
       "      <td>13.3</td>\n",
       "    </tr>\n",
       "    <tr>\n",
       "      <th>Summer</th>\n",
       "      <td>26.574827</td>\n",
       "      <td>26.6</td>\n",
       "    </tr>\n",
       "    <tr>\n",
       "      <th>Winter</th>\n",
       "      <td>-2.567783</td>\n",
       "      <td>-2.2</td>\n",
       "    </tr>\n",
       "  </tbody>\n",
       "</table>\n",
       "</div>"
      ],
      "text/plain": [
       "              mean  median\n",
       "Seasons                   \n",
       "Autumn   14.138821    13.8\n",
       "Spring   13.038533    13.3\n",
       "Summer   26.574827    26.6\n",
       "Winter   -2.567783    -2.2"
      ]
     },
     "execution_count": 35,
     "metadata": {},
     "output_type": "execute_result"
    }
   ],
   "source": [
    "data.groupby('Seasons')['Temperature'].agg(['mean', 'median'])"
   ]
  },
  {
   "cell_type": "code",
   "execution_count": 36,
   "id": "06f8f435",
   "metadata": {},
   "outputs": [
    {
     "data": {
      "text/html": [
       "<div>\n",
       "<style scoped>\n",
       "    .dataframe tbody tr th:only-of-type {\n",
       "        vertical-align: middle;\n",
       "    }\n",
       "\n",
       "    .dataframe tbody tr th {\n",
       "        vertical-align: top;\n",
       "    }\n",
       "\n",
       "    .dataframe thead tr th {\n",
       "        text-align: left;\n",
       "    }\n",
       "\n",
       "    .dataframe thead tr:last-of-type th {\n",
       "        text-align: right;\n",
       "    }\n",
       "</style>\n",
       "<table border=\"1\" class=\"dataframe\">\n",
       "  <thead>\n",
       "    <tr>\n",
       "      <th></th>\n",
       "      <th colspan=\"2\" halign=\"left\">mean</th>\n",
       "      <th colspan=\"2\" halign=\"left\">median</th>\n",
       "    </tr>\n",
       "    <tr>\n",
       "      <th></th>\n",
       "      <th>Rental Count</th>\n",
       "      <th>Temperature</th>\n",
       "      <th>Rental Count</th>\n",
       "      <th>Temperature</th>\n",
       "    </tr>\n",
       "    <tr>\n",
       "      <th>Hour</th>\n",
       "      <th></th>\n",
       "      <th></th>\n",
       "      <th></th>\n",
       "      <th></th>\n",
       "    </tr>\n",
       "  </thead>\n",
       "  <tbody>\n",
       "    <tr>\n",
       "      <th>0</th>\n",
       "      <td>558.178082</td>\n",
       "      <td>11.253652</td>\n",
       "      <td>433</td>\n",
       "      <td>11.80</td>\n",
       "    </tr>\n",
       "    <tr>\n",
       "      <th>1</th>\n",
       "      <td>415.720548</td>\n",
       "      <td>10.972145</td>\n",
       "      <td>329</td>\n",
       "      <td>11.50</td>\n",
       "    </tr>\n",
       "    <tr>\n",
       "      <th>2</th>\n",
       "      <td>319.767123</td>\n",
       "      <td>10.542535</td>\n",
       "      <td>239</td>\n",
       "      <td>10.90</td>\n",
       "    </tr>\n",
       "    <tr>\n",
       "      <th>3</th>\n",
       "      <td>201.010959</td>\n",
       "      <td>10.355462</td>\n",
       "      <td>165</td>\n",
       "      <td>10.70</td>\n",
       "    </tr>\n",
       "    <tr>\n",
       "      <th>4</th>\n",
       "      <td>122.838356</td>\n",
       "      <td>10.069859</td>\n",
       "      <td>94</td>\n",
       "      <td>10.40</td>\n",
       "    </tr>\n",
       "    <tr>\n",
       "      <th>5</th>\n",
       "      <td>135.863014</td>\n",
       "      <td>9.849580</td>\n",
       "      <td>107</td>\n",
       "      <td>10.00</td>\n",
       "    </tr>\n",
       "    <tr>\n",
       "      <th>6</th>\n",
       "      <td>283.654795</td>\n",
       "      <td>9.763944</td>\n",
       "      <td>193</td>\n",
       "      <td>10.00</td>\n",
       "    </tr>\n",
       "    <tr>\n",
       "      <th>7</th>\n",
       "      <td>612.646575</td>\n",
       "      <td>9.454062</td>\n",
       "      <td>410</td>\n",
       "      <td>9.60</td>\n",
       "    </tr>\n",
       "    <tr>\n",
       "      <th>8</th>\n",
       "      <td>979.838356</td>\n",
       "      <td>9.988515</td>\n",
       "      <td>762</td>\n",
       "      <td>10.40</td>\n",
       "    </tr>\n",
       "    <tr>\n",
       "      <th>9</th>\n",
       "      <td>642.136986</td>\n",
       "      <td>11.459669</td>\n",
       "      <td>519</td>\n",
       "      <td>12.10</td>\n",
       "    </tr>\n",
       "    <tr>\n",
       "      <th>10</th>\n",
       "      <td>519.123288</td>\n",
       "      <td>12.766947</td>\n",
       "      <td>414</td>\n",
       "      <td>14.00</td>\n",
       "    </tr>\n",
       "    <tr>\n",
       "      <th>11</th>\n",
       "      <td>585.336986</td>\n",
       "      <td>14.285434</td>\n",
       "      <td>485</td>\n",
       "      <td>16.40</td>\n",
       "    </tr>\n",
       "    <tr>\n",
       "      <th>12</th>\n",
       "      <td>710.534247</td>\n",
       "      <td>15.417175</td>\n",
       "      <td>572</td>\n",
       "      <td>17.40</td>\n",
       "    </tr>\n",
       "    <tr>\n",
       "      <th>13</th>\n",
       "      <td>700.706849</td>\n",
       "      <td>16.184765</td>\n",
       "      <td>586</td>\n",
       "      <td>18.30</td>\n",
       "    </tr>\n",
       "    <tr>\n",
       "      <th>14</th>\n",
       "      <td>747.147945</td>\n",
       "      <td>16.862360</td>\n",
       "      <td>567</td>\n",
       "      <td>19.10</td>\n",
       "    </tr>\n",
       "    <tr>\n",
       "      <th>15</th>\n",
       "      <td>796.084932</td>\n",
       "      <td>17.084358</td>\n",
       "      <td>678</td>\n",
       "      <td>19.20</td>\n",
       "    </tr>\n",
       "    <tr>\n",
       "      <th>16</th>\n",
       "      <td>938.032877</td>\n",
       "      <td>16.821652</td>\n",
       "      <td>804</td>\n",
       "      <td>18.80</td>\n",
       "    </tr>\n",
       "    <tr>\n",
       "      <th>17</th>\n",
       "      <td>1128.873973</td>\n",
       "      <td>16.325281</td>\n",
       "      <td>899</td>\n",
       "      <td>18.40</td>\n",
       "    </tr>\n",
       "    <tr>\n",
       "      <th>18</th>\n",
       "      <td>1518.983562</td>\n",
       "      <td>15.255956</td>\n",
       "      <td>1154</td>\n",
       "      <td>16.80</td>\n",
       "    </tr>\n",
       "    <tr>\n",
       "      <th>19</th>\n",
       "      <td>1168.328767</td>\n",
       "      <td>14.254062</td>\n",
       "      <td>845</td>\n",
       "      <td>15.20</td>\n",
       "    </tr>\n",
       "    <tr>\n",
       "      <th>20</th>\n",
       "      <td>1069.698630</td>\n",
       "      <td>13.394460</td>\n",
       "      <td>721</td>\n",
       "      <td>14.10</td>\n",
       "    </tr>\n",
       "    <tr>\n",
       "      <th>21</th>\n",
       "      <td>997.942466</td>\n",
       "      <td>12.680165</td>\n",
       "      <td>688</td>\n",
       "      <td>13.40</td>\n",
       "    </tr>\n",
       "    <tr>\n",
       "      <th>22</th>\n",
       "      <td>893.621918</td>\n",
       "      <td>12.281461</td>\n",
       "      <td>649</td>\n",
       "      <td>12.95</td>\n",
       "    </tr>\n",
       "    <tr>\n",
       "      <th>23</th>\n",
       "      <td>671.898630</td>\n",
       "      <td>11.717416</td>\n",
       "      <td>516</td>\n",
       "      <td>12.25</td>\n",
       "    </tr>\n",
       "  </tbody>\n",
       "</table>\n",
       "</div>"
      ],
      "text/plain": [
       "             mean                   median            \n",
       "     Rental Count Temperature Rental Count Temperature\n",
       "Hour                                                  \n",
       "0      558.178082   11.253652          433       11.80\n",
       "1      415.720548   10.972145          329       11.50\n",
       "2      319.767123   10.542535          239       10.90\n",
       "3      201.010959   10.355462          165       10.70\n",
       "4      122.838356   10.069859           94       10.40\n",
       "5      135.863014    9.849580          107       10.00\n",
       "6      283.654795    9.763944          193       10.00\n",
       "7      612.646575    9.454062          410        9.60\n",
       "8      979.838356    9.988515          762       10.40\n",
       "9      642.136986   11.459669          519       12.10\n",
       "10     519.123288   12.766947          414       14.00\n",
       "11     585.336986   14.285434          485       16.40\n",
       "12     710.534247   15.417175          572       17.40\n",
       "13     700.706849   16.184765          586       18.30\n",
       "14     747.147945   16.862360          567       19.10\n",
       "15     796.084932   17.084358          678       19.20\n",
       "16     938.032877   16.821652          804       18.80\n",
       "17    1128.873973   16.325281          899       18.40\n",
       "18    1518.983562   15.255956         1154       16.80\n",
       "19    1168.328767   14.254062          845       15.20\n",
       "20    1069.698630   13.394460          721       14.10\n",
       "21     997.942466   12.680165          688       13.40\n",
       "22     893.621918   12.281461          649       12.95\n",
       "23     671.898630   11.717416          516       12.25"
      ]
     },
     "execution_count": 36,
     "metadata": {},
     "output_type": "execute_result"
    }
   ],
   "source": [
    "data.pivot_table(index='Hour',\n",
    "                values= ['Temperature', 'Rental Count'],\n",
    "                aggfunc=['mean', 'median'])"
   ]
  },
  {
   "cell_type": "code",
   "execution_count": 37,
   "id": "b932454a",
   "metadata": {},
   "outputs": [],
   "source": [
    "import numpy as np"
   ]
  },
  {
   "cell_type": "code",
   "execution_count": 42,
   "id": "5370e57a",
   "metadata": {},
   "outputs": [
    {
     "data": {
      "text/html": [
       "<div>\n",
       "<style scoped>\n",
       "    .dataframe tbody tr th:only-of-type {\n",
       "        vertical-align: middle;\n",
       "    }\n",
       "\n",
       "    .dataframe tbody tr th {\n",
       "        vertical-align: top;\n",
       "    }\n",
       "\n",
       "    .dataframe thead th {\n",
       "        text-align: right;\n",
       "    }\n",
       "</style>\n",
       "<table border=\"1\" class=\"dataframe\">\n",
       "  <thead>\n",
       "    <tr style=\"text-align: right;\">\n",
       "      <th></th>\n",
       "      <th>Rental Count</th>\n",
       "    </tr>\n",
       "    <tr>\n",
       "      <th>Hour</th>\n",
       "      <th></th>\n",
       "    </tr>\n",
       "  </thead>\n",
       "  <tbody>\n",
       "    <tr>\n",
       "      <th>0</th>\n",
       "      <td>203735</td>\n",
       "    </tr>\n",
       "    <tr>\n",
       "      <th>1</th>\n",
       "      <td>151738</td>\n",
       "    </tr>\n",
       "    <tr>\n",
       "      <th>2</th>\n",
       "      <td>116715</td>\n",
       "    </tr>\n",
       "    <tr>\n",
       "      <th>3</th>\n",
       "      <td>73369</td>\n",
       "    </tr>\n",
       "    <tr>\n",
       "      <th>4</th>\n",
       "      <td>44836</td>\n",
       "    </tr>\n",
       "    <tr>\n",
       "      <th>5</th>\n",
       "      <td>49590</td>\n",
       "    </tr>\n",
       "    <tr>\n",
       "      <th>6</th>\n",
       "      <td>103534</td>\n",
       "    </tr>\n",
       "    <tr>\n",
       "      <th>7</th>\n",
       "      <td>223616</td>\n",
       "    </tr>\n",
       "    <tr>\n",
       "      <th>8</th>\n",
       "      <td>357641</td>\n",
       "    </tr>\n",
       "    <tr>\n",
       "      <th>9</th>\n",
       "      <td>234380</td>\n",
       "    </tr>\n",
       "    <tr>\n",
       "      <th>10</th>\n",
       "      <td>189480</td>\n",
       "    </tr>\n",
       "    <tr>\n",
       "      <th>11</th>\n",
       "      <td>213648</td>\n",
       "    </tr>\n",
       "    <tr>\n",
       "      <th>12</th>\n",
       "      <td>259345</td>\n",
       "    </tr>\n",
       "    <tr>\n",
       "      <th>13</th>\n",
       "      <td>255758</td>\n",
       "    </tr>\n",
       "    <tr>\n",
       "      <th>14</th>\n",
       "      <td>272709</td>\n",
       "    </tr>\n",
       "    <tr>\n",
       "      <th>15</th>\n",
       "      <td>290571</td>\n",
       "    </tr>\n",
       "    <tr>\n",
       "      <th>16</th>\n",
       "      <td>342382</td>\n",
       "    </tr>\n",
       "    <tr>\n",
       "      <th>17</th>\n",
       "      <td>412039</td>\n",
       "    </tr>\n",
       "    <tr>\n",
       "      <th>18</th>\n",
       "      <td>554429</td>\n",
       "    </tr>\n",
       "    <tr>\n",
       "      <th>19</th>\n",
       "      <td>426440</td>\n",
       "    </tr>\n",
       "    <tr>\n",
       "      <th>20</th>\n",
       "      <td>390440</td>\n",
       "    </tr>\n",
       "    <tr>\n",
       "      <th>21</th>\n",
       "      <td>364249</td>\n",
       "    </tr>\n",
       "    <tr>\n",
       "      <th>22</th>\n",
       "      <td>326172</td>\n",
       "    </tr>\n",
       "    <tr>\n",
       "      <th>23</th>\n",
       "      <td>245243</td>\n",
       "    </tr>\n",
       "  </tbody>\n",
       "</table>\n",
       "</div>"
      ],
      "text/plain": [
       "      Rental Count\n",
       "Hour              \n",
       "0           203735\n",
       "1           151738\n",
       "2           116715\n",
       "3            73369\n",
       "4            44836\n",
       "5            49590\n",
       "6           103534\n",
       "7           223616\n",
       "8           357641\n",
       "9           234380\n",
       "10          189480\n",
       "11          213648\n",
       "12          259345\n",
       "13          255758\n",
       "14          272709\n",
       "15          290571\n",
       "16          342382\n",
       "17          412039\n",
       "18          554429\n",
       "19          426440\n",
       "20          390440\n",
       "21          364249\n",
       "22          326172\n",
       "23          245243"
      ]
     },
     "execution_count": 42,
     "metadata": {},
     "output_type": "execute_result"
    }
   ],
   "source": [
    "bikes_hour = pd.DataFrame(data.groupby('Hour')['Rental Count'].sum())\n",
    "bikes_hour"
   ]
  },
  {
   "cell_type": "code",
   "execution_count": 43,
   "id": "1092699a",
   "metadata": {},
   "outputs": [
    {
     "data": {
      "image/png": "[encoded data removed]",
      "text/plain": [
       "<Figure size 432x288 with 1 Axes>"
      ]
     },
     "metadata": {
      "needs_background": "light"
     },
     "output_type": "display_data"
    }
   ],
   "source": [
    "bikes_hour.plot(kind='bar');"
   ]
  },
  {
   "cell_type": "code",
   "execution_count": 45,
   "id": "cbe1a36a",
   "metadata": {},
   "outputs": [
    {
     "data": {
      "text/plain": [
       "509593"
      ]
     },
     "execution_count": 45,
     "metadata": {},
     "output_type": "execute_result"
    }
   ],
   "source": [
    "bikes_hour['Rental Count'].max() - bikes_hour['Rental Count'].min()"
   ]
  },
  {
   "cell_type": "code",
   "execution_count": 48,
   "id": "64597520",
   "metadata": {},
   "outputs": [
    {
     "data": {
      "text/plain": [
       "180044.5"
      ]
     },
     "execution_count": 48,
     "metadata": {},
     "output_type": "execute_result"
    }
   ],
   "source": [
    "bikes_hour.describe()['Rental Count']['25%']"
   ]
  },
  {
   "cell_type": "code",
   "execution_count": 49,
   "id": "daa338e1",
   "metadata": {},
   "outputs": [
    {
     "data": {
      "text/plain": [
       "180044.5"
      ]
     },
     "execution_count": 49,
     "metadata": {},
     "output_type": "execute_result"
    }
   ],
   "source": [
    "np.percentile(bikes_hour['Rental Count'], 25)"
   ]
  },
  {
   "cell_type": "code",
   "execution_count": 50,
   "id": "924a206b",
   "metadata": {},
   "outputs": [
    {
     "data": {
      "text/plain": [
       "166152.25"
      ]
     },
     "execution_count": 50,
     "metadata": {},
     "output_type": "execute_result"
    }
   ],
   "source": [
    "np.percentile(bikes_hour['Rental Count'], 75) - np.percentile(bikes_hour['Rental Count'], 25)"
   ]
  },
  {
   "cell_type": "code",
   "execution_count": 58,
   "id": "4ca5c1c2",
   "metadata": {},
   "outputs": [
    {
     "name": "stdout",
     "output_type": "stream",
     "text": [
      "16566399888.43297 128710.52749652209\n"
     ]
    }
   ],
   "source": [
    "bikes_mean = bikes_hour['Rental Count'].mean()\n",
    "dev = bikes_hour['Rental Count'] - bikes_mean\n",
    "sq_dev = dev ** 2\n",
    "variance_samp = sq_dev.sum() / (len(bikes_hour) - 1)\n",
    "std_samp = np.sqrt(variance_samp)\n",
    "print(variance_samp, std_samp)"
   ]
  },
  {
   "cell_type": "code",
   "execution_count": 59,
   "id": "96ee4685",
   "metadata": {},
   "outputs": [
    {
     "name": "stdout",
     "output_type": "stream",
     "text": [
      "15876133226.41493 126000.52867514061\n"
     ]
    }
   ],
   "source": [
    "variance_samp = sq_dev.sum() / len(bikes_hour)\n",
    "std_samp = np.sqrt(variance_samp)\n",
    "print(variance_samp, std_samp)"
   ]
  },
  {
   "cell_type": "code",
   "execution_count": 60,
   "id": "26d0b3bb",
   "metadata": {},
   "outputs": [
    {
     "name": "stdout",
     "output_type": "stream",
     "text": [
      "16566399888.432972\n",
      "128710.5274965221\n"
     ]
    }
   ],
   "source": [
    "print(bikes_hour['Rental Count'].var())\n",
    "print(bikes_hour['Rental Count'].std())"
   ]
  },
  {
   "cell_type": "code",
   "execution_count": 67,
   "id": "da958b9d",
   "metadata": {},
   "outputs": [
    {
     "data": {
      "text/html": [
       "<div>\n",
       "<style scoped>\n",
       "    .dataframe tbody tr th:only-of-type {\n",
       "        vertical-align: middle;\n",
       "    }\n",
       "\n",
       "    .dataframe tbody tr th {\n",
       "        vertical-align: top;\n",
       "    }\n",
       "\n",
       "    .dataframe thead th {\n",
       "        text-align: right;\n",
       "    }\n",
       "</style>\n",
       "<table border=\"1\" class=\"dataframe\">\n",
       "  <thead>\n",
       "    <tr style=\"text-align: right;\">\n",
       "      <th></th>\n",
       "      <th>name</th>\n",
       "      <th>align</th>\n",
       "      <th>eye</th>\n",
       "      <th>hair</th>\n",
       "      <th>sex</th>\n",
       "      <th>appearances</th>\n",
       "      <th>first_appearance</th>\n",
       "    </tr>\n",
       "  </thead>\n",
       "  <tbody>\n",
       "    <tr>\n",
       "      <th>0</th>\n",
       "      <td>Spider-Man (Peter Parker)</td>\n",
       "      <td>Добрый персонаж</td>\n",
       "      <td>Карие глаза</td>\n",
       "      <td>Каштановые волосы</td>\n",
       "      <td>Мужской персонаж</td>\n",
       "      <td>4043.0</td>\n",
       "      <td>1962.0</td>\n",
       "    </tr>\n",
       "    <tr>\n",
       "      <th>1</th>\n",
       "      <td>Captain America (Steven Rogers)</td>\n",
       "      <td>Добрый персонаж</td>\n",
       "      <td>Голубые глаза</td>\n",
       "      <td>Белые волосы</td>\n",
       "      <td>Мужской персонаж</td>\n",
       "      <td>3360.0</td>\n",
       "      <td>1941.0</td>\n",
       "    </tr>\n",
       "    <tr>\n",
       "      <th>2</th>\n",
       "      <td>Wolverine (James \\\"Logan\\\" Howlett)</td>\n",
       "      <td>Нейтральный персонаж</td>\n",
       "      <td>Голубые глаза</td>\n",
       "      <td>Черные волосы</td>\n",
       "      <td>Мужской персонаж</td>\n",
       "      <td>3061.0</td>\n",
       "      <td>1974.0</td>\n",
       "    </tr>\n",
       "    <tr>\n",
       "      <th>3</th>\n",
       "      <td>Iron Man (Anthony \\\"Tony\\\" Stark)</td>\n",
       "      <td>Добрый персонаж</td>\n",
       "      <td>Голубые глаза</td>\n",
       "      <td>Черные волосы</td>\n",
       "      <td>Мужской персонаж</td>\n",
       "      <td>2961.0</td>\n",
       "      <td>1963.0</td>\n",
       "    </tr>\n",
       "    <tr>\n",
       "      <th>4</th>\n",
       "      <td>Thor (Thor Odinson)</td>\n",
       "      <td>Добрый персонаж</td>\n",
       "      <td>Голубые глаза</td>\n",
       "      <td>Русые волосы</td>\n",
       "      <td>Мужской персонаж</td>\n",
       "      <td>2258.0</td>\n",
       "      <td>1950.0</td>\n",
       "    </tr>\n",
       "  </tbody>\n",
       "</table>\n",
       "</div>"
      ],
      "text/plain": [
       "                                  name                 align            eye  \\\n",
       "0            Spider-Man (Peter Parker)       Добрый персонаж    Карие глаза   \n",
       "1      Captain America (Steven Rogers)       Добрый персонаж  Голубые глаза   \n",
       "2  Wolverine (James \\\"Logan\\\" Howlett)  Нейтральный персонаж  Голубые глаза   \n",
       "3    Iron Man (Anthony \\\"Tony\\\" Stark)       Добрый персонаж  Голубые глаза   \n",
       "4                  Thor (Thor Odinson)       Добрый персонаж  Голубые глаза   \n",
       "\n",
       "                hair               sex  appearances  first_appearance  \n",
       "0  Каштановые волосы  Мужской персонаж       4043.0            1962.0  \n",
       "1       Белые волосы  Мужской персонаж       3360.0            1941.0  \n",
       "2      Черные волосы  Мужской персонаж       3061.0            1974.0  \n",
       "3      Черные волосы  Мужской персонаж       2961.0            1963.0  \n",
       "4       Русые волосы  Мужской персонаж       2258.0            1950.0  "
      ]
     },
     "execution_count": 67,
     "metadata": {},
     "output_type": "execute_result"
    }
   ],
   "source": [
    "marvel = pd.read_excel('C:/Users/Professional/Downloads/MarvelComicCaracters.xlsx')\n",
    "marvel.head()"
   ]
  },
  {
   "cell_type": "code",
   "execution_count": 66,
   "id": "20c83dce",
   "metadata": {},
   "outputs": [
    {
     "ename": "AttributeError",
     "evalue": "'Series' object has no attribute 'mediane'",
     "output_type": "error",
     "traceback": [
      "\u001b[1;31m---------------------------------------------------------------------------\u001b[0m",
      "\u001b[1;31mAttributeError\u001b[0m                            Traceback (most recent call last)",
      "Input \u001b[1;32mIn [66]\u001b[0m, in \u001b[0;36m<cell line: 1>\u001b[1;34m()\u001b[0m\n\u001b[1;32m----> 1\u001b[0m \u001b[43mmarvel\u001b[49m\u001b[43m[\u001b[49m\u001b[38;5;124;43m'\u001b[39;49m\u001b[38;5;124;43meye\u001b[39;49m\u001b[38;5;124;43m'\u001b[39;49m\u001b[43m]\u001b[49m\u001b[38;5;241;43m.\u001b[39;49m\u001b[43mmediane\u001b[49m()\n",
      "File \u001b[1;32mC:\\ProgramData\\Anaconda3\\lib\\site-packages\\pandas\\core\\generic.py:5575\u001b[0m, in \u001b[0;36mNDFrame.__getattr__\u001b[1;34m(self, name)\u001b[0m\n\u001b[0;32m   5568\u001b[0m \u001b[38;5;28;01mif\u001b[39;00m (\n\u001b[0;32m   5569\u001b[0m     name \u001b[38;5;129;01mnot\u001b[39;00m \u001b[38;5;129;01min\u001b[39;00m \u001b[38;5;28mself\u001b[39m\u001b[38;5;241m.\u001b[39m_internal_names_set\n\u001b[0;32m   5570\u001b[0m     \u001b[38;5;129;01mand\u001b[39;00m name \u001b[38;5;129;01mnot\u001b[39;00m \u001b[38;5;129;01min\u001b[39;00m \u001b[38;5;28mself\u001b[39m\u001b[38;5;241m.\u001b[39m_metadata\n\u001b[0;32m   5571\u001b[0m     \u001b[38;5;129;01mand\u001b[39;00m name \u001b[38;5;129;01mnot\u001b[39;00m \u001b[38;5;129;01min\u001b[39;00m \u001b[38;5;28mself\u001b[39m\u001b[38;5;241m.\u001b[39m_accessors\n\u001b[0;32m   5572\u001b[0m     \u001b[38;5;129;01mand\u001b[39;00m \u001b[38;5;28mself\u001b[39m\u001b[38;5;241m.\u001b[39m_info_axis\u001b[38;5;241m.\u001b[39m_can_hold_identifiers_and_holds_name(name)\n\u001b[0;32m   5573\u001b[0m ):\n\u001b[0;32m   5574\u001b[0m     \u001b[38;5;28;01mreturn\u001b[39;00m \u001b[38;5;28mself\u001b[39m[name]\n\u001b[1;32m-> 5575\u001b[0m \u001b[38;5;28;01mreturn\u001b[39;00m \u001b[38;5;28;43mobject\u001b[39;49m\u001b[38;5;241;43m.\u001b[39;49m\u001b[38;5;21;43m__getattribute__\u001b[39;49m\u001b[43m(\u001b[49m\u001b[38;5;28;43mself\u001b[39;49m\u001b[43m,\u001b[49m\u001b[43m \u001b[49m\u001b[43mname\u001b[49m\u001b[43m)\u001b[49m\n",
      "\u001b[1;31mAttributeError\u001b[0m: 'Series' object has no attribute 'mediane'"
     ]
    }
   ],
   "source": [
    "marvel['eye'].mediane()"
   ]
  },
  {
   "cell_type": "code",
   "execution_count": 73,
   "id": "c4f468a1",
   "metadata": {},
   "outputs": [
    {
     "name": "stdout",
     "output_type": "stream",
     "text": [
      "1.0       4810\n",
      "2.0       2074\n",
      "3.0       1419\n",
      "4.0       1097\n",
      "5.0        796\n",
      "          ... \n",
      "126.0        1\n",
      "310.0        1\n",
      "311.0        1\n",
      "313.0        1\n",
      "4043.0       1\n",
      "Name: appearances, Length: 358, dtype: int64\n",
      "17.033376963350786\n",
      "3.0\n"
     ]
    }
   ],
   "source": [
    "print(marvel['appearances'].value_counts())\n",
    "print(marvel['appearances'].mean())\n",
    "print(marvel['appearances'].median())"
   ]
  },
  {
   "cell_type": "markdown",
   "id": "cbcc49f1",
   "metadata": {},
   "source": [
    "m]"
   ]
  },
  {
   "cell_type": "code",
   "execution_count": 75,
   "id": "a11ece7e",
   "metadata": {},
   "outputs": [
    {
     "data": {
      "text/plain": [
       "sex                      hair                      \n",
       "Безполый персонаж        Без волос                       29\n",
       "                         Разноцветные волосы              2\n",
       "                         Зеленые волосы                   1\n",
       "Гендерфлюидный персонаж  Каштановые волосы                1\n",
       "                         Черные волосы                    1\n",
       "Женский персонаж         Черные волосы                 1048\n",
       "                         Русые волосы                   730\n",
       "                         Каштановые волосы              521\n",
       "                         Белые волосы                   130\n",
       "                         Без волос                       92\n",
       "                         Зеленые волосы                  48\n",
       "                         Светло-розовые волосы           30\n",
       "                         Фиолетовые волосы               26\n",
       "                         Розовые волосы                  22\n",
       "                         Оранжевые волосы                 8\n",
       "                         Серебристые волосы               8\n",
       "                         Разноцветные волосы              5\n",
       "                         Желтые волосы                    4\n",
       "                         Пурпурные волосы                 4\n",
       "                         Золотые волосы                   1\n",
       "                         Окрашенные волосы                1\n",
       "Мужской персонаж         Черные волосы                 2678\n",
       "                         Каштановые волосы             1801\n",
       "                         Русые волосы                   844\n",
       "                         Без волос                      841\n",
       "                         Белые волосы                   608\n",
       "                         Зеленые волосы                  66\n",
       "                         Оранжевые волосы                35\n",
       "                         Разноцветные волосы             22\n",
       "                         Фиолетовые волосы               19\n",
       "                         Светло-розовые волосы           17\n",
       "                         Желтые волосы                   16\n",
       "                         Розовые волосы                   9\n",
       "                         Серебристые волосы               8\n",
       "                         Золотые волосы                   7\n",
       "                         Рыжевато-соломенные волосы       6\n",
       "                         Светло-каштановые волосы         6\n",
       "                         Оранжево-каштановые волосы       3\n",
       "                         Бронзовые волосы                 1\n",
       "                         Пурпурные волосы                 1\n",
       "Name: hair, dtype: int64"
      ]
     },
     "execution_count": 75,
     "metadata": {},
     "output_type": "execute_result"
    }
   ],
   "source": [
    "marvel.groupby('sex')['hair'].value_counts()"
   ]
  },
  {
   "cell_type": "code",
   "execution_count": 78,
   "id": "fb71bf30",
   "metadata": {},
   "outputs": [
    {
     "data": {
      "text/html": [
       "<div>\n",
       "<style scoped>\n",
       "    .dataframe tbody tr th:only-of-type {\n",
       "        vertical-align: middle;\n",
       "    }\n",
       "\n",
       "    .dataframe tbody tr th {\n",
       "        vertical-align: top;\n",
       "    }\n",
       "\n",
       "    .dataframe thead th {\n",
       "        text-align: right;\n",
       "    }\n",
       "</style>\n",
       "<table border=\"1\" class=\"dataframe\">\n",
       "  <thead>\n",
       "    <tr style=\"text-align: right;\">\n",
       "      <th></th>\n",
       "      <th>appearances</th>\n",
       "      <th>first_appearance</th>\n",
       "    </tr>\n",
       "  </thead>\n",
       "  <tbody>\n",
       "    <tr>\n",
       "      <th>count</th>\n",
       "      <td>15280.000000</td>\n",
       "      <td>15561.000000</td>\n",
       "    </tr>\n",
       "    <tr>\n",
       "      <th>mean</th>\n",
       "      <td>17.033377</td>\n",
       "      <td>1984.951803</td>\n",
       "    </tr>\n",
       "    <tr>\n",
       "      <th>std</th>\n",
       "      <td>96.372959</td>\n",
       "      <td>19.663571</td>\n",
       "    </tr>\n",
       "    <tr>\n",
       "      <th>min</th>\n",
       "      <td>1.000000</td>\n",
       "      <td>1939.000000</td>\n",
       "    </tr>\n",
       "    <tr>\n",
       "      <th>25%</th>\n",
       "      <td>1.000000</td>\n",
       "      <td>1974.000000</td>\n",
       "    </tr>\n",
       "    <tr>\n",
       "      <th>50%</th>\n",
       "      <td>3.000000</td>\n",
       "      <td>1990.000000</td>\n",
       "    </tr>\n",
       "    <tr>\n",
       "      <th>75%</th>\n",
       "      <td>8.000000</td>\n",
       "      <td>2000.000000</td>\n",
       "    </tr>\n",
       "    <tr>\n",
       "      <th>max</th>\n",
       "      <td>4043.000000</td>\n",
       "      <td>2013.000000</td>\n",
       "    </tr>\n",
       "  </tbody>\n",
       "</table>\n",
       "</div>"
      ],
      "text/plain": [
       "        appearances  first_appearance\n",
       "count  15280.000000      15561.000000\n",
       "mean      17.033377       1984.951803\n",
       "std       96.372959         19.663571\n",
       "min        1.000000       1939.000000\n",
       "25%        1.000000       1974.000000\n",
       "50%        3.000000       1990.000000\n",
       "75%        8.000000       2000.000000\n",
       "max     4043.000000       2013.000000"
      ]
     },
     "execution_count": 78,
     "metadata": {},
     "output_type": "execute_result"
    }
   ],
   "source": [
    "marvel.describe()"
   ]
  },
  {
   "cell_type": "code",
   "execution_count": 85,
   "id": "8ebbfd9a",
   "metadata": {},
   "outputs": [
    {
     "data": {
      "text/plain": [
       "43       721.0\n",
       "47       692.0\n",
       "69       503.0\n",
       "92       382.0\n",
       "94       376.0\n",
       "         ...  \n",
       "16362      NaN\n",
       "16364      NaN\n",
       "16371      NaN\n",
       "16373      NaN\n",
       "16375      NaN\n",
       "Name: appearances, Length: 6720, dtype: float64"
      ]
     },
     "execution_count": 85,
     "metadata": {},
     "output_type": "execute_result"
    }
   ],
   "source": [
    "marvel[marvel['align'] == 'Злой персонаж']['appearances']"
   ]
  },
  {
   "cell_type": "code",
   "execution_count": 88,
   "id": "3d53cb95",
   "metadata": {},
   "outputs": [
    {
     "data": {
      "text/plain": [
       "9287.139461896795"
      ]
     },
     "execution_count": 88,
     "metadata": {},
     "output_type": "execute_result"
    }
   ],
   "source": [
    "marvel['appearances'].var(ddof=0)"
   ]
  },
  {
   "cell_type": "code",
   "execution_count": 90,
   "id": "82c9af6c",
   "metadata": {},
   "outputs": [
    {
     "data": {
      "text/plain": [
       "Голубые глаза            1962\n",
       "Темно-карие глаза        1924\n",
       "Зеленые глаза             613\n",
       "Черные глаза              555\n",
       "Красные глаза             508\n",
       "Белые глаза               400\n",
       "Желтые глаза              256\n",
       "Серые глаза                95\n",
       "Карие глаза                76\n",
       "Разноцветные глаза         49\n",
       "Фиолетовые глаза           31\n",
       "Оранжевые глаза            25\n",
       "Розовые глаза              21\n",
       "Один глаз                  21\n",
       "Золотые глаза              14\n",
       "Серебристые глаза          12\n",
       "Лиловые глаза              11\n",
       "Янтарные глаза             10\n",
       "Много глаз                  7\n",
       "Нет глаз                    7\n",
       "Желтые глазные яблоки       6\n",
       "Черные глазные яблоки       3\n",
       "Пурпурные глаза             2\n",
       "Фасеточные глаза            1\n",
       "Name: eye, dtype: int64"
      ]
     },
     "execution_count": 90,
     "metadata": {},
     "output_type": "execute_result"
    }
   ],
   "source": [
    "marvel['eye'].value_counts()"
   ]
  },
  {
   "cell_type": "code",
   "execution_count": 93,
   "id": "74f61545",
   "metadata": {},
   "outputs": [
    {
     "data": {
      "text/plain": [
       "Темно-карие глаза        1794\n",
       "Голубые глаза            1755\n",
       "Зеленые глаза             560\n",
       "Черные глаза              543\n",
       "Красные глаза             493\n",
       "Белые глаза               388\n",
       "Желтые глаза              248\n",
       "Серые глаза                83\n",
       "Карие глаза                63\n",
       "Разноцветные глаза         43\n",
       "Фиолетовые глаза           30\n",
       "Оранжевые глаза            24\n",
       "Один глаз                  20\n",
       "Розовые глаза              20\n",
       "Золотые глаза              12\n",
       "Лиловые глаза              11\n",
       "Серебристые глаза          11\n",
       "Янтарные глаза              9\n",
       "Много глаз                  7\n",
       "Нет глаз                    7\n",
       "Желтые глазные яблоки       6\n",
       "Пурпурные глаза             2\n",
       "Черные глазные яблоки       1\n",
       "Фасеточные глаза            1\n",
       "Name: eye, dtype: int64"
      ]
     },
     "execution_count": 93,
     "metadata": {},
     "output_type": "execute_result"
    }
   ],
   "source": [
    "marvel.iloc[500:]['eye'].value_counts()"
   ]
  },
  {
   "cell_type": "code",
   "execution_count": 108,
   "id": "be0a28fd",
   "metadata": {},
   "outputs": [
    {
     "data": {
      "text/plain": [
       "94.13253937689935"
      ]
     },
     "execution_count": 108,
     "metadata": {},
     "output_type": "execute_result"
    }
   ],
   "source": [
    "marvel[marvel['hair'] == 'Черные волосы']['appearances'].std(ddof=0)"
   ]
  },
  {
   "cell_type": "code",
   "execution_count": 107,
   "id": "a7cec089",
   "metadata": {},
   "outputs": [
    {
     "data": {
      "text/plain": [
       "Черные волосы    3755\n",
       "Name: hair, dtype: int64"
      ]
     },
     "execution_count": 107,
     "metadata": {},
     "output_type": "execute_result"
    }
   ],
   "source": [
    "marvel['hair'].value_counts().head(1)"
   ]
  },
  {
   "cell_type": "code",
   "execution_count": 109,
   "id": "66fdf60d",
   "metadata": {},
   "outputs": [
    {
     "data": {
      "text/plain": [
       "1993.0    554\n",
       "1994.0    485\n",
       "1992.0    455\n",
       "2006.0    381\n",
       "2008.0    360\n",
       "         ... \n",
       "1952.0     26\n",
       "1956.0     16\n",
       "1957.0      7\n",
       "1959.0      4\n",
       "1958.0      2\n",
       "Name: first_appearance, Length: 75, dtype: int64"
      ]
     },
     "execution_count": 109,
     "metadata": {},
     "output_type": "execute_result"
    }
   ],
   "source": [
    "marvel['first_appearance'].value_counts()"
   ]
  },
  {
   "cell_type": "code",
   "execution_count": null,
   "id": "b8fa8c7e",
   "metadata": {},
   "outputs": [],
   "source": []
  }
 ],
 "metadata": {
  "kernelspec": {
   "display_name": "Python 3 (ipykernel)",
   "language": "python",
   "name": "python3"
  },
  "language_info": {
   "codemirror_mode": {
    "name": "ipython",
    "version": 3
   },
   "file_extension": ".py",
   "mimetype": "text/x-python",
   "name": "python",
   "nbconvert_exporter": "python",
   "pygments_lexer": "ipython3",
   "version": "3.9.12"
  }
 },
 "nbformat": 4,
 "nbformat_minor": 5
}
